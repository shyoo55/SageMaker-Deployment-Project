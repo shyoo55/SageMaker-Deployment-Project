{
 "cells": [
  {
   "cell_type": "markdown",
   "metadata": {},
   "source": [
    "# Creating a Sentiment Analysis Web App\n",
    "## Using PyTorch and SageMaker\n",
    "\n",
    "_Deep Learning Nanodegree Program | Deployment_\n",
    "\n",
    "---\n",
    "\n",
    "Now that we have a basic understanding of how SageMaker works we will try to use it to construct a complete project from end to end. Our goal will be to have a simple web page which a user can use to enter a movie review. The web page will then send the review off to our deployed model which will predict the sentiment of the entered review.\n",
    "\n",
    "## Instructions\n",
    "\n",
    "Some template code has already been provided for you, and you will need to implement additional functionality to successfully complete this notebook. You will not need to modify the included code beyond what is requested. Sections that begin with '**TODO**' in the header indicate that you need to complete or implement some portion within them. Instructions will be provided for each section and the specifics of the implementation are marked in the code block with a `# TODO: ...` comment. Please be sure to read the instructions carefully!\n",
    "\n",
    "In addition to implementing code, there will be questions for you to answer which relate to the task and your implementation. Each section where you will answer a question is preceded by a '**Question:**' header. Carefully read each question and provide your answer below the '**Answer:**' header by editing the Markdown cell.\n",
    "\n",
    "> **Note**: Code and Markdown cells can be executed using the **Shift+Enter** keyboard shortcut. In addition, a cell can be edited by typically clicking it (double-click for Markdown cells) or by pressing **Enter** while it is highlighted.\n",
    "\n",
    "## General Outline\n",
    "\n",
    "Recall the general outline for SageMaker projects using a notebook instance.\n",
    "\n",
    "1. Download or otherwise retrieve the data.\n",
    "2. Process / Prepare the data.\n",
    "3. Upload the processed data to S3.\n",
    "4. Train a chosen model.\n",
    "5. Test the trained model (typically using a batch transform job).\n",
    "6. Deploy the trained model.\n",
    "7. Use the deployed model.\n",
    "\n",
    "For this project, you will be following the steps in the general outline with some modifications. \n",
    "\n",
    "First, you will not be testing the model in its own step. You will still be testing the model, however, you will do it by deploying your model and then using the deployed model by sending the test data to it. One of the reasons for doing this is so that you can make sure that your deployed model is working correctly before moving forward.\n",
    "\n",
    "In addition, you will deploy and use your trained model a second time. In the second iteration you will customize the way that your trained model is deployed by including some of your own code. In addition, your newly deployed model will be used in the sentiment analysis web app."
   ]
  },
  {
   "cell_type": "code",
   "execution_count": 1,
   "metadata": {},
   "outputs": [
    {
     "name": "stdout",
     "output_type": "stream",
     "text": [
      "Requirement already satisfied: sagemaker==1.72.0 in /home/ec2-user/anaconda3/envs/pytorch_p36/lib/python3.6/site-packages (1.72.0)\n",
      "Requirement already satisfied: numpy>=1.9.0 in /home/ec2-user/anaconda3/envs/pytorch_p36/lib/python3.6/site-packages (from sagemaker==1.72.0) (1.19.5)\n",
      "Requirement already satisfied: protobuf3-to-dict>=0.1.5 in /home/ec2-user/anaconda3/envs/pytorch_p36/lib/python3.6/site-packages (from sagemaker==1.72.0) (0.1.5)\n",
      "Requirement already satisfied: protobuf>=3.1 in /home/ec2-user/anaconda3/envs/pytorch_p36/lib/python3.6/site-packages (from sagemaker==1.72.0) (3.19.0)\n",
      "Requirement already satisfied: boto3>=1.14.12 in /home/ec2-user/anaconda3/envs/pytorch_p36/lib/python3.6/site-packages (from sagemaker==1.72.0) (1.19.3)\n",
      "Requirement already satisfied: packaging>=20.0 in /home/ec2-user/anaconda3/envs/pytorch_p36/lib/python3.6/site-packages (from sagemaker==1.72.0) (21.0)\n",
      "Requirement already satisfied: smdebug-rulesconfig==0.1.4 in /home/ec2-user/anaconda3/envs/pytorch_p36/lib/python3.6/site-packages (from sagemaker==1.72.0) (0.1.4)\n",
      "Requirement already satisfied: scipy>=0.19.0 in /home/ec2-user/anaconda3/envs/pytorch_p36/lib/python3.6/site-packages (from sagemaker==1.72.0) (1.5.3)\n",
      "Requirement already satisfied: importlib-metadata>=1.4.0 in /home/ec2-user/anaconda3/envs/pytorch_p36/lib/python3.6/site-packages (from sagemaker==1.72.0) (4.8.1)\n",
      "Requirement already satisfied: jmespath<1.0.0,>=0.7.1 in /home/ec2-user/anaconda3/envs/pytorch_p36/lib/python3.6/site-packages (from boto3>=1.14.12->sagemaker==1.72.0) (0.10.0)\n",
      "Requirement already satisfied: s3transfer<0.6.0,>=0.5.0 in /home/ec2-user/anaconda3/envs/pytorch_p36/lib/python3.6/site-packages (from boto3>=1.14.12->sagemaker==1.72.0) (0.5.0)\n",
      "Requirement already satisfied: botocore<1.23.0,>=1.22.3 in /home/ec2-user/anaconda3/envs/pytorch_p36/lib/python3.6/site-packages (from boto3>=1.14.12->sagemaker==1.72.0) (1.22.3)\n",
      "Requirement already satisfied: typing-extensions>=3.6.4 in /home/ec2-user/anaconda3/envs/pytorch_p36/lib/python3.6/site-packages (from importlib-metadata>=1.4.0->sagemaker==1.72.0) (3.10.0.2)\n",
      "Requirement already satisfied: zipp>=0.5 in /home/ec2-user/anaconda3/envs/pytorch_p36/lib/python3.6/site-packages (from importlib-metadata>=1.4.0->sagemaker==1.72.0) (3.6.0)\n",
      "Requirement already satisfied: pyparsing>=2.0.2 in /home/ec2-user/anaconda3/envs/pytorch_p36/lib/python3.6/site-packages (from packaging>=20.0->sagemaker==1.72.0) (3.0.1)\n",
      "Requirement already satisfied: six in /home/ec2-user/anaconda3/envs/pytorch_p36/lib/python3.6/site-packages (from protobuf3-to-dict>=0.1.5->sagemaker==1.72.0) (1.16.0)\n",
      "Requirement already satisfied: urllib3<1.27,>=1.25.4 in /home/ec2-user/anaconda3/envs/pytorch_p36/lib/python3.6/site-packages (from botocore<1.23.0,>=1.22.3->boto3>=1.14.12->sagemaker==1.72.0) (1.26.7)\n",
      "Requirement already satisfied: python-dateutil<3.0.0,>=2.1 in /home/ec2-user/anaconda3/envs/pytorch_p36/lib/python3.6/site-packages (from botocore<1.23.0,>=1.22.3->boto3>=1.14.12->sagemaker==1.72.0) (2.8.2)\n"
     ]
    }
   ],
   "source": [
    "# Make sure that we use SageMaker 1.x\n",
    "!pip install sagemaker==1.72.0"
   ]
  },
  {
   "cell_type": "code",
   "execution_count": 2,
   "metadata": {},
   "outputs": [
    {
     "name": "stdout",
     "output_type": "stream",
     "text": [
      "Requirement already satisfied: pip in /home/ec2-user/anaconda3/envs/pytorch_p36/lib/python3.6/site-packages (21.3.1)\r\n"
     ]
    }
   ],
   "source": [
    "! python -m pip install --upgrade pip"
   ]
  },
  {
   "cell_type": "code",
   "execution_count": 3,
   "metadata": {},
   "outputs": [
    {
     "name": "stdout",
     "output_type": "stream",
     "text": [
      "Requirement already satisfied: sagemaker==1.72.0 in /home/ec2-user/anaconda3/envs/pytorch_p36/lib/python3.6/site-packages (1.72.0)\n",
      "Requirement already satisfied: protobuf>=3.1 in /home/ec2-user/anaconda3/envs/pytorch_p36/lib/python3.6/site-packages (from sagemaker==1.72.0) (3.19.0)\n",
      "Requirement already satisfied: protobuf3-to-dict>=0.1.5 in /home/ec2-user/anaconda3/envs/pytorch_p36/lib/python3.6/site-packages (from sagemaker==1.72.0) (0.1.5)\n",
      "Requirement already satisfied: packaging>=20.0 in /home/ec2-user/anaconda3/envs/pytorch_p36/lib/python3.6/site-packages (from sagemaker==1.72.0) (21.0)\n",
      "Requirement already satisfied: scipy>=0.19.0 in /home/ec2-user/anaconda3/envs/pytorch_p36/lib/python3.6/site-packages (from sagemaker==1.72.0) (1.5.3)\n",
      "Requirement already satisfied: boto3>=1.14.12 in /home/ec2-user/anaconda3/envs/pytorch_p36/lib/python3.6/site-packages (from sagemaker==1.72.0) (1.19.3)\n",
      "Requirement already satisfied: smdebug-rulesconfig==0.1.4 in /home/ec2-user/anaconda3/envs/pytorch_p36/lib/python3.6/site-packages (from sagemaker==1.72.0) (0.1.4)\n",
      "Requirement already satisfied: importlib-metadata>=1.4.0 in /home/ec2-user/anaconda3/envs/pytorch_p36/lib/python3.6/site-packages (from sagemaker==1.72.0) (4.8.1)\n",
      "Requirement already satisfied: numpy>=1.9.0 in /home/ec2-user/anaconda3/envs/pytorch_p36/lib/python3.6/site-packages (from sagemaker==1.72.0) (1.19.5)\n",
      "Requirement already satisfied: s3transfer<0.6.0,>=0.5.0 in /home/ec2-user/anaconda3/envs/pytorch_p36/lib/python3.6/site-packages (from boto3>=1.14.12->sagemaker==1.72.0) (0.5.0)\n",
      "Requirement already satisfied: botocore<1.23.0,>=1.22.3 in /home/ec2-user/anaconda3/envs/pytorch_p36/lib/python3.6/site-packages (from boto3>=1.14.12->sagemaker==1.72.0) (1.22.3)\n",
      "Requirement already satisfied: jmespath<1.0.0,>=0.7.1 in /home/ec2-user/anaconda3/envs/pytorch_p36/lib/python3.6/site-packages (from boto3>=1.14.12->sagemaker==1.72.0) (0.10.0)\n",
      "Requirement already satisfied: zipp>=0.5 in /home/ec2-user/anaconda3/envs/pytorch_p36/lib/python3.6/site-packages (from importlib-metadata>=1.4.0->sagemaker==1.72.0) (3.6.0)\n",
      "Requirement already satisfied: typing-extensions>=3.6.4 in /home/ec2-user/anaconda3/envs/pytorch_p36/lib/python3.6/site-packages (from importlib-metadata>=1.4.0->sagemaker==1.72.0) (3.10.0.2)\n",
      "Requirement already satisfied: pyparsing>=2.0.2 in /home/ec2-user/anaconda3/envs/pytorch_p36/lib/python3.6/site-packages (from packaging>=20.0->sagemaker==1.72.0) (3.0.1)\n",
      "Requirement already satisfied: six in /home/ec2-user/anaconda3/envs/pytorch_p36/lib/python3.6/site-packages (from protobuf3-to-dict>=0.1.5->sagemaker==1.72.0) (1.16.0)\n",
      "Requirement already satisfied: python-dateutil<3.0.0,>=2.1 in /home/ec2-user/anaconda3/envs/pytorch_p36/lib/python3.6/site-packages (from botocore<1.23.0,>=1.22.3->boto3>=1.14.12->sagemaker==1.72.0) (2.8.2)\n",
      "Requirement already satisfied: urllib3<1.27,>=1.25.4 in /home/ec2-user/anaconda3/envs/pytorch_p36/lib/python3.6/site-packages (from botocore<1.23.0,>=1.22.3->boto3>=1.14.12->sagemaker==1.72.0) (1.26.7)\n"
     ]
    }
   ],
   "source": [
    "# Make sure that we use SageMaker 1.x\n",
    "!pip install sagemaker==1.72.0"
   ]
  },
  {
   "cell_type": "markdown",
   "metadata": {},
   "source": [
    "## Step 1: Downloading the data\n",
    "\n",
    "As in the XGBoost in SageMaker notebook, we will be using the [IMDb dataset](http://ai.stanford.edu/~amaas/data/sentiment/)\n",
    "\n",
    "> Maas, Andrew L., et al. [Learning Word Vectors for Sentiment Analysis](http://ai.stanford.edu/~amaas/data/sentiment/). In _Proceedings of the 49th Annual Meeting of the Association for Computational Linguistics: Human Language Technologies_. Association for Computational Linguistics, 2011."
   ]
  },
  {
   "cell_type": "code",
   "execution_count": 4,
   "metadata": {},
   "outputs": [
    {
     "name": "stdout",
     "output_type": "stream",
     "text": [
      "mkdir: cannot create directory ‘../data’: File exists\n",
      "--2021-11-07 18:36:55--  http://ai.stanford.edu/~amaas/data/sentiment/aclImdb_v1.tar.gz\n",
      "Resolving ai.stanford.edu (ai.stanford.edu)... 171.64.68.10\n",
      "Connecting to ai.stanford.edu (ai.stanford.edu)|171.64.68.10|:80... connected.\n",
      "HTTP request sent, awaiting response... 200 OK\n",
      "Length: 84125825 (80M) [application/x-gzip]\n",
      "Saving to: ‘../data/aclImdb_v1.tar.gz’\n",
      "\n",
      "../data/aclImdb_v1. 100%[===================>]  80.23M  5.11MB/s    in 11s     \n",
      "\n",
      "2021-11-07 18:37:06 (7.61 MB/s) - ‘../data/aclImdb_v1.tar.gz’ saved [84125825/84125825]\n",
      "\n"
     ]
    }
   ],
   "source": [
    "%mkdir ../data\n",
    "!wget -O ../data/aclImdb_v1.tar.gz http://ai.stanford.edu/~amaas/data/sentiment/aclImdb_v1.tar.gz\n",
    "!tar -zxf ../data/aclImdb_v1.tar.gz -C ../data"
   ]
  },
  {
   "cell_type": "markdown",
   "metadata": {},
   "source": [
    "## Step 2: Preparing and Processing the data\n",
    "\n",
    "Also, as in the XGBoost notebook, we will be doing some initial data processing. The first few steps are the same as in the XGBoost example. To begin with, we will read in each of the reviews and combine them into a single input structure. Then, we will split the dataset into a training set and a testing set."
   ]
  },
  {
   "cell_type": "code",
   "execution_count": 5,
   "metadata": {},
   "outputs": [],
   "source": [
    "import os\n",
    "import glob\n",
    "\n",
    "def read_imdb_data(data_dir='../data/aclImdb'):\n",
    "    data = {}\n",
    "    labels = {}\n",
    "    \n",
    "    for data_type in ['train', 'test']:\n",
    "        data[data_type] = {}\n",
    "        labels[data_type] = {}\n",
    "        \n",
    "        for sentiment in ['pos', 'neg']:\n",
    "            data[data_type][sentiment] = []\n",
    "            labels[data_type][sentiment] = []\n",
    "            \n",
    "            path = os.path.join(data_dir, data_type, sentiment, '*.txt')\n",
    "            files = glob.glob(path)\n",
    "            \n",
    "            for f in files:\n",
    "                with open(f) as review:\n",
    "                    data[data_type][sentiment].append(review.read())\n",
    "                    # Here we represent a positive review by '1' and a negative review by '0'\n",
    "                    labels[data_type][sentiment].append(1 if sentiment == 'pos' else 0)\n",
    "                    \n",
    "            assert len(data[data_type][sentiment]) == len(labels[data_type][sentiment]), \\\n",
    "                    \"{}/{} data size does not match labels size\".format(data_type, sentiment)\n",
    "                \n",
    "    return data, labels"
   ]
  },
  {
   "cell_type": "code",
   "execution_count": 6,
   "metadata": {},
   "outputs": [
    {
     "name": "stdout",
     "output_type": "stream",
     "text": [
      "IMDB reviews: train = 12500 pos / 12500 neg, test = 12500 pos / 12500 neg\n"
     ]
    }
   ],
   "source": [
    "data, labels = read_imdb_data()\n",
    "print(\"IMDB reviews: train = {} pos / {} neg, test = {} pos / {} neg\".format(\n",
    "            len(data['train']['pos']), len(data['train']['neg']),\n",
    "            len(data['test']['pos']), len(data['test']['neg'])))"
   ]
  },
  {
   "cell_type": "markdown",
   "metadata": {},
   "source": [
    "Now that we've read the raw training and testing data from the downloaded dataset, we will combine the positive and negative reviews and shuffle the resulting records."
   ]
  },
  {
   "cell_type": "code",
   "execution_count": 7,
   "metadata": {},
   "outputs": [],
   "source": [
    "from sklearn.utils import shuffle\n",
    "\n",
    "def prepare_imdb_data(data, labels):\n",
    "    \"\"\"Prepare training and test sets from IMDb movie reviews.\"\"\"\n",
    "    \n",
    "    #Combine positive and negative reviews and labels\n",
    "    data_train = data['train']['pos'] + data['train']['neg']\n",
    "    data_test = data['test']['pos'] + data['test']['neg']\n",
    "    labels_train = labels['train']['pos'] + labels['train']['neg']\n",
    "    labels_test = labels['test']['pos'] + labels['test']['neg']\n",
    "    \n",
    "    #Shuffle reviews and corresponding labels within training and test sets\n",
    "    data_train, labels_train = shuffle(data_train, labels_train)\n",
    "    data_test, labels_test = shuffle(data_test, labels_test)\n",
    "    \n",
    "    # Return a unified training data, test data, training labels, test labets\n",
    "    return data_train, data_test, labels_train, labels_test"
   ]
  },
  {
   "cell_type": "code",
   "execution_count": 8,
   "metadata": {},
   "outputs": [
    {
     "name": "stdout",
     "output_type": "stream",
     "text": [
      "IMDb reviews (combined): train = 25000, test = 25000\n"
     ]
    }
   ],
   "source": [
    "train_X, test_X, train_y, test_y = prepare_imdb_data(data, labels)\n",
    "print(\"IMDb reviews (combined): train = {}, test = {}\".format(len(train_X), len(test_X)))"
   ]
  },
  {
   "cell_type": "markdown",
   "metadata": {},
   "source": [
    "Now that we have our training and testing sets unified and prepared, we should do a quick check and see an example of the data our model will be trained on. This is generally a good idea as it allows you to see how each of the further processing steps affects the reviews and it also ensures that the data has been loaded correctly."
   ]
  },
  {
   "cell_type": "code",
   "execution_count": 9,
   "metadata": {},
   "outputs": [
    {
     "name": "stdout",
     "output_type": "stream",
     "text": [
      "With a title like \"Attack of the Killer Tomatoes!\", anyone going into this thing would be expecting either a) a bad science fiction movie or b) a comedy making fun of bad science fiction movies. It's supposed to be a mix of both, with a dose of parody splashed in. Unfortunately, it falls flat very soon.<br /><br />You're never supposed to take this movie seriously, I realize that, but you're supposed to think it's funny, right? I found only a few of the jokes or situations were funny (i.e, the side-by-side phone conversations, the Russian Olympic spy eating steroid cereal, Superman walking by Lois, etc.). \"Attack of the Killer Tomatoes\" strives to be a cult classic, but it doesn't make it. A cult classic is a movie that is so different that only a select group of people understand it (or a similar description). \"Attack of the Killer Tomatoes\" could be enjoyed by any 8-year-old with a bad sense of humor, so therefore, it does not qualify as a cult film.<br /><br />There is one good actress in the entire thing: Sharon Taylor as Lois Fairchild. She is a thin, gawky reporter, but has an endearing personality, loves to overact, and is a natural comedienne. Unfortunately, she is put to bad use here.<br /><br />\"Attack of the Killer Tomatoes\" is not as funny as, say, \"Amazon Women on the Moon\" or \"Kentucky Fried Movie\", but it does have a few hilarious moments, so I would still recommend seeing it once. Avoid the director's cut, it has interruptions by the producer of the movie and some supposedly \"lost\" footage dubbed in a pretend African dialect (it can be found in English on the out of print tape).\n",
      "0\n"
     ]
    }
   ],
   "source": [
    "print(train_X[100])\n",
    "print(train_y[100])"
   ]
  },
  {
   "cell_type": "markdown",
   "metadata": {},
   "source": [
    "The first step in processing the reviews is to make sure that any html tags that appear should be removed. In addition we wish to tokenize our input, that way words such as *entertained* and *entertaining* are considered the same with regard to sentiment analysis."
   ]
  },
  {
   "cell_type": "code",
   "execution_count": 10,
   "metadata": {},
   "outputs": [],
   "source": [
    "import nltk\n",
    "from nltk.corpus import stopwords\n",
    "from nltk.stem.porter import *\n",
    "\n",
    "import re\n",
    "from bs4 import BeautifulSoup\n",
    "\n",
    "def review_to_words(review):\n",
    "    nltk.download(\"stopwords\", quiet=True)\n",
    "    stemmer = PorterStemmer()\n",
    "    \n",
    "    text = BeautifulSoup(review, \"html.parser\").get_text() # Remove HTML tags\n",
    "    text = re.sub(r\"[^a-zA-Z0-9]\", \" \", text.lower()) # Convert to lower case\n",
    "    words = text.split() # Split string into words\n",
    "    words = [w for w in words if w not in stopwords.words(\"english\")] # Remove stopwords\n",
    "    words = [PorterStemmer().stem(w) for w in words] # stem\n",
    "    \n",
    "    return words"
   ]
  },
  {
   "cell_type": "markdown",
   "metadata": {},
   "source": [
    "The `review_to_words` method defined above uses `BeautifulSoup` to remove any html tags that appear and uses the `nltk` package to tokenize the reviews. As a check to ensure we know how everything is working, try applying `review_to_words` to one of the reviews in the training set."
   ]
  },
  {
   "cell_type": "code",
   "execution_count": 11,
   "metadata": {},
   "outputs": [
    {
     "name": "stdout",
     "output_type": "stream",
     "text": [
      "['titl', 'like', 'attack', 'killer', 'tomato', 'anyon', 'go', 'thing', 'would', 'expect']\n"
     ]
    }
   ],
   "source": [
    "# TODO: Apply review_to_words to a review (train_X[100] or any other review)\n",
    "print(review_to_words(train_X[100])[:10])\n"
   ]
  },
  {
   "cell_type": "markdown",
   "metadata": {},
   "source": [
    "**Question:** Above we mentioned that `review_to_words` method removes html formatting and allows us to tokenize the words found in a review, for example, converting *entertained* and *entertaining* into *entertain* so that they are treated as though they are the same word. What else, if anything, does this method do to the input?"
   ]
  },
  {
   "cell_type": "markdown",
   "metadata": {},
   "source": [
    "**Answer:**"
   ]
  },
  {
   "cell_type": "markdown",
   "metadata": {},
   "source": [
    "The method below applies the `review_to_words` method to each of the reviews in the training and testing datasets. In addition it caches the results. This is because performing this processing step can take a long time. This way if you are unable to complete the notebook in the current session, you can come back without needing to process the data a second time."
   ]
  },
  {
   "cell_type": "code",
   "execution_count": 12,
   "metadata": {},
   "outputs": [],
   "source": [
    "import pickle\n",
    "\n",
    "cache_dir = os.path.join(\"../cache\", \"sentiment_analysis\")  # where to store cache files\n",
    "os.makedirs(cache_dir, exist_ok=True)  # ensure cache directory exists\n",
    "\n",
    "def preprocess_data(data_train, data_test, labels_train, labels_test,\n",
    "                    cache_dir=cache_dir, cache_file=\"preprocessed_data.pkl\"):\n",
    "    \"\"\"Convert each review to words; read from cache if available.\"\"\"\n",
    "\n",
    "    # If cache_file is not None, try to read from it first\n",
    "    cache_data = None\n",
    "    if cache_file is not None:\n",
    "        try:\n",
    "            with open(os.path.join(cache_dir, cache_file), \"rb\") as f:\n",
    "                cache_data = pickle.load(f)\n",
    "            print(\"Read preprocessed data from cache file:\", cache_file)\n",
    "        except:\n",
    "            pass  # unable to read from cache, but that's okay\n",
    "    \n",
    "    # If cache is missing, then do the heavy lifting\n",
    "    if cache_data is None:\n",
    "        # Preprocess training and test data to obtain words for each review\n",
    "        #words_train = list(map(review_to_words, data_train))\n",
    "        #words_test = list(map(review_to_words, data_test))\n",
    "        words_train = [review_to_words(review) for review in data_train]\n",
    "        words_test = [review_to_words(review) for review in data_test]\n",
    "        \n",
    "        # Write to cache file for future runs\n",
    "        if cache_file is not None:\n",
    "            cache_data = dict(words_train=words_train, words_test=words_test,\n",
    "                              labels_train=labels_train, labels_test=labels_test)\n",
    "            with open(os.path.join(cache_dir, cache_file), \"wb\") as f:\n",
    "                pickle.dump(cache_data, f)\n",
    "            print(\"Wrote preprocessed data to cache file:\", cache_file)\n",
    "    else:\n",
    "        # Unpack data loaded from cache file\n",
    "        words_train, words_test, labels_train, labels_test = (cache_data['words_train'],\n",
    "                cache_data['words_test'], cache_data['labels_train'], cache_data['labels_test'])\n",
    "    \n",
    "    return words_train, words_test, labels_train, labels_test"
   ]
  },
  {
   "cell_type": "code",
   "execution_count": 13,
   "metadata": {},
   "outputs": [
    {
     "name": "stdout",
     "output_type": "stream",
     "text": [
      "Read preprocessed data from cache file: preprocessed_data.pkl\n"
     ]
    }
   ],
   "source": [
    "# Preprocess data\n",
    "train_X, test_X, train_y, test_y = preprocess_data(train_X, test_X, train_y, test_y)"
   ]
  },
  {
   "cell_type": "markdown",
   "metadata": {},
   "source": [
    "## Transform the data\n",
    "\n",
    "In the XGBoost notebook we transformed the data from its word representation to a bag-of-words feature representation. For the model we are going to construct in this notebook we will construct a feature representation which is very similar. To start, we will represent each word as an integer. Of course, some of the words that appear in the reviews occur very infrequently and so likely don't contain much information for the purposes of sentiment analysis. The way we will deal with this problem is that we will fix the size of our working vocabulary and we will only include the words that appear most frequently. We will then combine all of the infrequent words into a single category and, in our case, we will label it as `1`.\n",
    "\n",
    "Since we will be using a recurrent neural network, it will be convenient if the length of each review is the same. To do this, we will fix a size for our reviews and then pad short reviews with the category 'no word' (which we will label `0`) and truncate long reviews."
   ]
  },
  {
   "cell_type": "markdown",
   "metadata": {},
   "source": [
    "### (TODO) Create a word dictionary\n",
    "\n",
    "To begin with, we need to construct a way to map words that appear in the reviews to integers. Here we fix the size of our vocabulary (including the 'no word' and 'infrequent' categories) to be `5000` but you may wish to change this to see how it affects the model.\n",
    "\n",
    "> **TODO:** Complete the implementation for the `build_dict()` method below. Note that even though the vocab_size is set to `5000`, we only want to construct a mapping for the most frequently appearing `4998` words. This is because we want to reserve the special labels `0` for 'no word' and `1` for 'infrequent word'."
   ]
  },
  {
   "cell_type": "code",
   "execution_count": 14,
   "metadata": {},
   "outputs": [],
   "source": [
    "import numpy as np\n",
    "import itertools\n",
    "from collections import Counter\n",
    "import operator\n",
    "\n",
    "\n",
    "def build_dict(data, vocab_size = 5000):\n",
    "    \"\"\"Construct and return a dictionary mapping each of the most frequently appearing words to a unique integer.\"\"\"\n",
    "    \n",
    "    # TODO: Determine how often each word appears in `data`. Note that `data` is a list of sentences and that a\n",
    "    #       sentence is a list of words.\n",
    "    \n",
    "    word_count = {} # A dict storing the words that appear in the reviews along with how often they occur\n",
    "    \n",
    "    word_count = Counter(i for i in list(itertools.chain.from_iterable(data))) \n",
    "\n",
    "    \n",
    "    # TODO: Sort the words found in `data` so that sorted_words[0] is the most frequently appearing word and\n",
    "    #       sorted_words[-1] is the least frequently appearing word.\n",
    "    \n",
    "    sorted_words = None\n",
    "    \n",
    "    sorted_dict = dict(sorted(word_count.items(), key=operator.itemgetter(1),reverse=True))\n",
    "    sorted_words = []\n",
    "\n",
    "    for key, value in sorted_dict.items():\n",
    "        sorted_words.append(key)\n",
    "    \n",
    "    \n",
    "    word_dict = {} # This is what we are building, a dictionary that translates words into integers\n",
    "    for idx, word in enumerate(sorted_words[:vocab_size - 2]): # The -2 is so that we save room for the 'no word'\n",
    "        word_dict[word] = idx + 2                              # 'infrequent' labels\n",
    "        \n",
    "    print(word_dict)    \n",
    "    return word_dict"
   ]
  },
  {
   "cell_type": "code",
   "execution_count": null,
   "metadata": {},
   "outputs": [],
   "source": []
  },
  {
   "cell_type": "code",
   "execution_count": null,
   "metadata": {},
   "outputs": [],
   "source": []
  },
  {
   "cell_type": "code",
   "execution_count": 15,
   "metadata": {},
   "outputs": [
    {
     "name": "stdout",
     "output_type": "stream",
     "text": [
      "{'movi': 2, 'film': 3, 'one': 4, 'like': 5, 'time': 6, 'good': 7, 'make': 8, 'charact': 9, 'get': 10, 'see': 11, 'watch': 12, 'stori': 13, 'even': 14, 'would': 15, 'realli': 16, 'well': 17, 'scene': 18, 'look': 19, 'show': 20, 'much': 21, 'end': 22, 'peopl': 23, 'bad': 24, 'go': 25, 'great': 26, 'also': 27, 'first': 28, 'love': 29, 'think': 30, 'way': 31, 'act': 32, 'play': 33, 'made': 34, 'thing': 35, 'could': 36, 'know': 37, 'say': 38, 'seem': 39, 'work': 40, 'plot': 41, 'two': 42, 'actor': 43, 'year': 44, 'come': 45, 'mani': 46, 'seen': 47, 'take': 48, 'life': 49, 'want': 50, 'never': 51, 'littl': 52, 'best': 53, 'tri': 54, 'man': 55, 'ever': 56, 'give': 57, 'better': 58, 'still': 59, 'perform': 60, 'find': 61, 'feel': 62, 'part': 63, 'back': 64, 'use': 65, 'someth': 66, 'director': 67, 'actual': 68, 'interest': 69, 'lot': 70, 'real': 71, 'old': 72, 'cast': 73, 'though': 74, 'live': 75, 'star': 76, 'enjoy': 77, 'guy': 78, 'anoth': 79, 'new': 80, 'role': 81, 'noth': 82, '10': 83, 'funni': 84, 'music': 85, 'point': 86, 'start': 87, 'set': 88, 'girl': 89, 'origin': 90, 'day': 91, 'world': 92, 'everi': 93, 'believ': 94, 'turn': 95, 'quit': 96, 'us': 97, 'direct': 98, 'thought': 99, 'fact': 100, 'minut': 101, 'horror': 102, 'kill': 103, 'action': 104, 'comedi': 105, 'pretti': 106, 'young': 107, 'wonder': 108, 'happen': 109, 'around': 110, 'got': 111, 'effect': 112, 'right': 113, 'long': 114, 'howev': 115, 'big': 116, 'line': 117, 'famili': 118, 'enough': 119, 'seri': 120, 'may': 121, 'need': 122, 'fan': 123, 'bit': 124, 'script': 125, 'beauti': 126, 'person': 127, 'becom': 128, 'without': 129, 'must': 130, 'alway': 131, 'friend': 132, 'tell': 133, 'reason': 134, 'saw': 135, 'last': 136, 'final': 137, 'kid': 138, 'almost': 139, 'put': 140, 'least': 141, 'sure': 142, 'done': 143, 'whole': 144, 'place': 145, 'complet': 146, 'kind': 147, 'expect': 148, 'differ': 149, 'shot': 150, 'far': 151, 'mean': 152, 'anyth': 153, 'book': 154, 'laugh': 155, 'might': 156, 'name': 157, 'sinc': 158, 'begin': 159, '2': 160, 'probabl': 161, 'woman': 162, 'help': 163, 'entertain': 164, 'let': 165, 'screen': 166, 'call': 167, 'tv': 168, 'moment': 169, 'away': 170, 'read': 171, 'yet': 172, 'rather': 173, 'worst': 174, 'run': 175, 'fun': 176, 'lead': 177, 'hard': 178, 'audienc': 179, 'idea': 180, 'anyon': 181, 'episod': 182, 'american': 183, 'found': 184, 'appear': 185, 'bore': 186, 'especi': 187, 'although': 188, 'hope': 189, 'keep': 190, 'cours': 191, 'anim': 192, 'job': 193, 'goe': 194, 'move': 195, 'sens': 196, 'version': 197, 'dvd': 198, 'war': 199, 'money': 200, 'someon': 201, 'mind': 202, 'mayb': 203, 'problem': 204, 'true': 205, 'hous': 206, 'everyth': 207, 'nice': 208, 'second': 209, 'rate': 210, 'three': 211, 'night': 212, 'follow': 213, 'face': 214, 'recommend': 215, 'product': 216, 'main': 217, 'worth': 218, 'leav': 219, 'human': 220, 'special': 221, 'excel': 222, 'togeth': 223, 'wast': 224, 'everyon': 225, 'sound': 226, 'john': 227, 'hand': 228, '1': 229, 'father': 230, 'later': 231, 'eye': 232, 'said': 233, 'view': 234, 'instead': 235, 'review': 236, 'boy': 237, 'high': 238, 'hour': 239, 'miss': 240, 'classic': 241, 'talk': 242, 'wife': 243, 'understand': 244, 'left': 245, 'care': 246, 'black': 247, 'death': 248, 'open': 249, 'murder': 250, 'write': 251, 'half': 252, 'head': 253, 'rememb': 254, 'chang': 255, 'viewer': 256, 'fight': 257, 'gener': 258, 'surpris': 259, 'short': 260, 'includ': 261, 'die': 262, 'fall': 263, 'less': 264, 'els': 265, 'entir': 266, 'piec': 267, 'involv': 268, 'pictur': 269, 'simpli': 270, 'home': 271, 'power': 272, 'top': 273, 'total': 274, 'usual': 275, 'budget': 276, 'attempt': 277, 'suppos': 278, 'releas': 279, 'hollywood': 280, 'terribl': 281, 'song': 282, 'men': 283, 'possibl': 284, 'featur': 285, 'portray': 286, 'disappoint': 287, '3': 288, 'poor': 289, 'coupl': 290, 'stupid': 291, 'camera': 292, 'dead': 293, 'wrong': 294, 'produc': 295, 'low': 296, 'either': 297, 'video': 298, 'aw': 299, 'definit': 300, 'except': 301, 'rest': 302, 'given': 303, 'absolut': 304, 'women': 305, 'lack': 306, 'word': 307, 'writer': 308, 'titl': 309, 'talent': 310, 'decid': 311, 'full': 312, 'perfect': 313, 'along': 314, 'style': 315, 'close': 316, 'truli': 317, 'school': 318, 'save': 319, 'emot': 320, 'sex': 321, 'age': 322, 'next': 323, 'bring': 324, 'mr': 325, 'case': 326, 'killer': 327, 'heart': 328, 'comment': 329, 'sort': 330, 'creat': 331, 'perhap': 332, 'came': 333, 'brother': 334, 'sever': 335, 'joke': 336, 'art': 337, 'dialogu': 338, 'game': 339, 'small': 340, 'base': 341, 'flick': 342, 'written': 343, 'sequenc': 344, 'meet': 345, 'earli': 346, 'often': 347, 'other': 348, 'mother': 349, 'develop': 350, 'humor': 351, 'actress': 352, 'consid': 353, 'dark': 354, 'guess': 355, 'amaz': 356, 'unfortun': 357, 'lost': 358, 'light': 359, 'exampl': 360, 'cinema': 361, 'drama': 362, 'ye': 363, 'white': 364, 'experi': 365, 'imagin': 366, 'mention': 367, 'stop': 368, 'natur': 369, 'forc': 370, 'manag': 371, 'felt': 372, 'present': 373, 'cut': 374, 'children': 375, 'fail': 376, 'son': 377, 'qualiti': 378, 'support': 379, 'car': 380, 'ask': 381, 'hit': 382, 'side': 383, 'voic': 384, 'extrem': 385, 'impress': 386, 'evil': 387, 'wors': 388, 'stand': 389, 'went': 390, 'certainli': 391, 'basic': 392, 'oh': 393, 'overal': 394, 'favorit': 395, 'horribl': 396, 'mysteri': 397, 'number': 398, 'type': 399, 'danc': 400, 'wait': 401, 'hero': 402, 'alreadi': 403, '5': 404, 'learn': 405, 'matter': 406, '4': 407, 'michael': 408, 'genr': 409, 'fine': 410, 'despit': 411, 'throughout': 412, 'walk': 413, 'success': 414, 'histori': 415, 'question': 416, 'zombi': 417, 'town': 418, 'realiz': 419, 'relationship': 420, 'past': 421, 'child': 422, 'daughter': 423, 'late': 424, 'b': 425, 'wish': 426, 'hate': 427, 'credit': 428, 'event': 429, 'theme': 430, 'touch': 431, 'citi': 432, 'today': 433, 'sometim': 434, 'behind': 435, 'god': 436, 'twist': 437, 'sit': 438, 'stay': 439, 'deal': 440, 'annoy': 441, 'abl': 442, 'rent': 443, 'pleas': 444, 'edit': 445, 'blood': 446, 'deserv': 447, 'comic': 448, 'anyway': 449, 'appar': 450, 'soon': 451, 'gave': 452, 'etc': 453, 'level': 454, 'slow': 455, 'chanc': 456, 'score': 457, 'bodi': 458, 'brilliant': 459, 'incred': 460, 'figur': 461, 'situat': 462, 'major': 463, 'self': 464, 'stuff': 465, 'decent': 466, 'element': 467, 'dream': 468, 'return': 469, 'obvious': 470, 'order': 471, 'continu': 472, 'pace': 473, 'ridicul': 474, 'happi': 475, 'add': 476, 'group': 477, 'highli': 478, 'thank': 479, 'ladi': 480, 'novel': 481, 'pain': 482, 'speak': 483, 'career': 484, 'shoot': 485, 'strang': 486, 'heard': 487, 'sad': 488, 'polic': 489, 'husband': 490, 'import': 491, 'break': 492, 'took': 493, 'cannot': 494, 'strong': 495, 'predict': 496, 'robert': 497, 'violenc': 498, 'hilari': 499, 'recent': 500, 'countri': 501, 'known': 502, 'particularli': 503, 'pick': 504, 'documentari': 505, 'season': 506, 'critic': 507, 'jame': 508, 'compar': 509, 'alon': 510, 'obviou': 511, 'told': 512, 'state': 513, 'rock': 514, 'visual': 515, 'theater': 516, 'offer': 517, 'exist': 518, 'opinion': 519, 'gore': 520, 'hold': 521, 'crap': 522, 'result': 523, 'realiti': 524, 'room': 525, 'hear': 526, 'clich': 527, 'effort': 528, 'thriller': 529, 'caus': 530, 'serious': 531, 'sequel': 532, 'explain': 533, 'king': 534, 'local': 535, 'ago': 536, 'none': 537, 'hell': 538, 'note': 539, 'allow': 540, 'david': 541, 'sister': 542, 'simpl': 543, 'femal': 544, 'deliv': 545, 'ok': 546, 'convinc': 547, 'class': 548, 'check': 549, 'suspens': 550, 'win': 551, 'oscar': 552, 'buy': 553, 'huge': 554, 'valu': 555, 'sexual': 556, 'scari': 557, 'cool': 558, 'excit': 559, 'similar': 560, 'exactli': 561, 'apart': 562, 'provid': 563, 'avoid': 564, 'shown': 565, 'seriou': 566, 'english': 567, 'whose': 568, 'taken': 569, 'cinematographi': 570, 'shock': 571, 'polit': 572, 'spoiler': 573, 'offic': 574, 'across': 575, 'middl': 576, 'street': 577, 'pass': 578, 'messag': 579, 'charm': 580, 'silli': 581, 'somewhat': 582, 'modern': 583, 'filmmak': 584, 'confus': 585, 'form': 586, 'tale': 587, 'singl': 588, 'jack': 589, 'mostli': 590, 'attent': 591, 'william': 592, 'carri': 593, 'sing': 594, 'subject': 595, 'five': 596, 'prove': 597, 'richard': 598, 'stage': 599, 'team': 600, 'unlik': 601, 'cop': 602, 'georg': 603, 'televis': 604, 'monster': 605, 'earth': 606, 'villain': 607, 'cover': 608, 'pay': 609, 'marri': 610, 'toward': 611, 'build': 612, 'parent': 613, 'pull': 614, 'due': 615, 'fill': 616, 'respect': 617, 'dialog': 618, 'four': 619, 'remind': 620, 'futur': 621, 'typic': 622, 'weak': 623, '7': 624, 'cheap': 625, 'intellig': 626, 'atmospher': 627, 'british': 628, 'clearli': 629, '80': 630, 'paul': 631, 'non': 632, 'dog': 633, 'fast': 634, 'artist': 635, 'knew': 636, '8': 637, 'crime': 638, 'easili': 639, 'escap': 640, 'adult': 641, 'doubt': 642, 'detail': 643, 'date': 644, 'fire': 645, 'romant': 646, 'member': 647, 'gun': 648, 'drive': 649, 'straight': 650, 'fit': 651, 'beyond': 652, 'attack': 653, 'imag': 654, 'upon': 655, 'posit': 656, 'whether': 657, 'peter': 658, 'fantast': 659, 'appreci': 660, 'aspect': 661, 'captur': 662, 'ten': 663, 'plan': 664, 'discov': 665, 'remain': 666, 'period': 667, 'near': 668, 'air': 669, 'realist': 670, 'mark': 671, 'red': 672, 'dull': 673, 'adapt': 674, 'within': 675, 'lose': 676, 'spend': 677, 'color': 678, 'materi': 679, 'chase': 680, 'mari': 681, 'storylin': 682, 'forget': 683, 'bunch': 684, 'clear': 685, 'lee': 686, 'victim': 687, 'nearli': 688, 'box': 689, 'york': 690, 'inspir': 691, 'match': 692, 'mess': 693, 'finish': 694, 'standard': 695, 'easi': 696, 'truth': 697, 'suffer': 698, 'busi': 699, 'dramat': 700, 'space': 701, 'bill': 702, 'western': 703, 'e': 704, 'list': 705, 'battl': 706, 'notic': 707, 'de': 708, 'french': 709, 'ad': 710, '9': 711, 'tom': 712, 'larg': 713, 'among': 714, 'eventu': 715, 'accept': 716, 'train': 717, 'agre': 718, 'soundtrack': 719, 'spirit': 720, 'third': 721, 'teenag': 722, 'adventur': 723, 'soldier': 724, 'sorri': 725, 'famou': 726, 'suggest': 727, 'drug': 728, 'normal': 729, 'babi': 730, 'cri': 731, 'troubl': 732, 'ultim': 733, 'contain': 734, 'certain': 735, 'cultur': 736, 'romanc': 737, 'rare': 738, 'lame': 739, 'somehow': 740, 'mix': 741, 'disney': 742, 'gone': 743, 'cartoon': 744, 'student': 745, 'reveal': 746, 'fear': 747, 'suck': 748, 'kept': 749, 'attract': 750, 'appeal': 751, 'premis': 752, 'design': 753, 'greatest': 754, 'secret': 755, 'shame': 756, 'throw': 757, 'scare': 758, 'copi': 759, 'wit': 760, 'admit': 761, 'america': 762, 'brought': 763, 'relat': 764, 'particular': 765, 'screenplay': 766, 'whatev': 767, 'pure': 768, '70': 769, 'harri': 770, 'averag': 771, 'master': 772, 'describ': 773, 'male': 774, 'treat': 775, '20': 776, 'issu': 777, 'fantasi': 778, 'warn': 779, 'inde': 780, 'forward': 781, 'background': 782, 'free': 783, 'project': 784, 'japanes': 785, 'memor': 786, 'poorli': 787, 'award': 788, 'locat': 789, 'potenti': 790, 'amus': 791, 'struggl': 792, 'weird': 793, 'magic': 794, 'societi': 795, 'okay': 796, 'imdb': 797, 'accent': 798, 'doctor': 799, 'hot': 800, 'water': 801, 'alien': 802, '30': 803, 'express': 804, 'dr': 805, 'odd': 806, 'crazi': 807, 'choic': 808, 'fiction': 809, 'studio': 810, 'control': 811, 'becam': 812, 'masterpiec': 813, 'fli': 814, 'difficult': 815, 'joe': 816, 'scream': 817, 'costum': 818, 'lover': 819, 'uniqu': 820, 'refer': 821, 'remak': 822, 'girlfriend': 823, 'vampir': 824, 'prison': 825, 'execut': 826, 'wear': 827, 'jump': 828, 'wood': 829, 'unless': 830, 'creepi': 831, 'cheesi': 832, 'superb': 833, 'otherwis': 834, 'parti': 835, 'roll': 836, 'ghost': 837, 'public': 838, 'mad': 839, 'depict': 840, 'badli': 841, 'week': 842, 'jane': 843, 'earlier': 844, 'moral': 845, 'fi': 846, 'dumb': 847, 'grow': 848, 'flaw': 849, 'deep': 850, 'sci': 851, 'maker': 852, 'cat': 853, 'connect': 854, 'footag': 855, 'older': 856, 'plenti': 857, 'bother': 858, 'outsid': 859, 'stick': 860, 'gay': 861, 'catch': 862, 'plu': 863, 'co': 864, 'popular': 865, 'equal': 866, 'social': 867, 'quickli': 868, 'disturb': 869, 'perfectli': 870, 'dress': 871, '90': 872, 'era': 873, 'mistak': 874, 'lie': 875, 'ride': 876, 'previou': 877, 'combin': 878, 'band': 879, 'concept': 880, 'rich': 881, 'surviv': 882, 'answer': 883, 'front': 884, 'sweet': 885, 'christma': 886, 'insid': 887, 'bare': 888, 'concern': 889, 'eat': 890, 'listen': 891, 'ben': 892, 'beat': 893, 'c': 894, 'term': 895, 'serv': 896, 'meant': 897, 'la': 898, 'german': 899, 'hardli': 900, 'stereotyp': 901, 'law': 902, 'innoc': 903, 'desper': 904, 'memori': 905, 'promis': 906, 'cute': 907, 'intent': 908, 'variou': 909, 'inform': 910, 'steal': 911, 'brain': 912, 'post': 913, 'tone': 914, 'island': 915, 'amount': 916, 'nuditi': 917, 'track': 918, 'compani': 919, 'store': 920, 'claim': 921, '50': 922, 'flat': 923, 'hair': 924, 'land': 925, 'univers': 926, 'kick': 927, 'fairli': 928, 'danger': 929, 'scott': 930, 'player': 931, 'crew': 932, 'plain': 933, 'step': 934, 'toni': 935, 'share': 936, 'centuri': 937, 'tast': 938, 'achiev': 939, 'engag': 940, 'cold': 941, 'travel': 942, 'rip': 943, 'suit': 944, 'record': 945, 'sadli': 946, 'manner': 947, 'tension': 948, 'spot': 949, 'wrote': 950, 'fascin': 951, 'intens': 952, 'familiar': 953, 'depth': 954, 'remark': 955, 'burn': 956, 'histor': 957, 'destroy': 958, 'sleep': 959, 'purpos': 960, 'languag': 961, 'ruin': 962, 'ignor': 963, 'delight': 964, 'unbeliev': 965, 'italian': 966, 'abil': 967, 'collect': 968, 'soul': 969, 'clever': 970, 'detect': 971, 'violent': 972, 'rape': 973, 'reach': 974, 'door': 975, 'trash': 976, 'liter': 977, 'scienc': 978, 'commun': 979, 'caught': 980, 'reveng': 981, 'creatur': 982, 'approach': 983, 'trip': 984, 'fashion': 985, 'intrigu': 986, 'introduc': 987, 'paint': 988, 'skill': 989, 'channel': 990, 'complex': 991, 'camp': 992, 'christian': 993, 'hole': 994, 'extra': 995, 'mental': 996, 'limit': 997, 'immedi': 998, 'ann': 999, 'mere': 1000, 'million': 1001, 'slightli': 1002, '6': 1003, 'comput': 1004, 'slasher': 1005, 'conclus': 1006, 'imposs': 1007, 'suddenli': 1008, 'teen': 1009, 'neither': 1010, 'crimin': 1011, 'spent': 1012, 'nation': 1013, 'physic': 1014, 'respons': 1015, 'planet': 1016, 'receiv': 1017, 'fake': 1018, 'blue': 1019, 'sick': 1020, 'bizarr': 1021, 'embarrass': 1022, 'indian': 1023, '15': 1024, 'ring': 1025, 'pop': 1026, 'drop': 1027, 'drag': 1028, 'haunt': 1029, 'pointless': 1030, 'suspect': 1031, 'edg': 1032, 'search': 1033, 'handl': 1034, 'biggest': 1035, 'common': 1036, 'hurt': 1037, 'arriv': 1038, 'faith': 1039, 'technic': 1040, 'angel': 1041, 'genuin': 1042, 'dad': 1043, 'awesom': 1044, 'solid': 1045, 'f': 1046, 'focu': 1047, 'van': 1048, 'former': 1049, 'colleg': 1050, 'count': 1051, 'tear': 1052, 'heavi': 1053, 'wall': 1054, 'rais': 1055, 'younger': 1056, 'laughabl': 1057, 'visit': 1058, 'excus': 1059, 'fair': 1060, 'sign': 1061, 'cult': 1062, 'tough': 1063, 'motion': 1064, 'key': 1065, 'super': 1066, 'desir': 1067, 'stun': 1068, 'addit': 1069, 'cloth': 1070, 'exploit': 1071, 'smith': 1072, 'tortur': 1073, 'race': 1074, 'davi': 1075, 'author': 1076, 'cross': 1077, 'jim': 1078, 'focus': 1079, 'compel': 1080, 'consist': 1081, 'minor': 1082, 'chemistri': 1083, 'pathet': 1084, 'commit': 1085, 'park': 1086, 'obsess': 1087, 'tradit': 1088, 'frank': 1089, 'grade': 1090, '60': 1091, 'asid': 1092, 'brutal': 1093, 'steve': 1094, 'somewher': 1095, 'depress': 1096, 'opportun': 1097, 'explor': 1098, 'grant': 1099, 'rule': 1100, 'u': 1101, 'honest': 1102, 'besid': 1103, 'anti': 1104, 'dub': 1105, 'intend': 1106, 'trailer': 1107, 'bar': 1108, 'regard': 1109, 'west': 1110, 'scientist': 1111, 'longer': 1112, 'decad': 1113, 'judg': 1114, 'silent': 1115, 'armi': 1116, 'creativ': 1117, 'wild': 1118, 'g': 1119, 'south': 1120, 'stewart': 1121, 'draw': 1122, 'road': 1123, 'govern': 1124, 'boss': 1125, 'ex': 1126, 'practic': 1127, 'surprisingli': 1128, 'motiv': 1129, 'club': 1130, 'gang': 1131, 'festiv': 1132, 'redeem': 1133, 'page': 1134, 'london': 1135, 'green': 1136, 'machin': 1137, 'idiot': 1138, 'militari': 1139, 'aliv': 1140, 'display': 1141, 'thrill': 1142, 'repeat': 1143, 'yeah': 1144, 'folk': 1145, 'nobodi': 1146, '100': 1147, '40': 1148, 'journey': 1149, 'garbag': 1150, 'smile': 1151, 'tire': 1152, 'ground': 1153, 'mood': 1154, 'bought': 1155, 'cost': 1156, 'stone': 1157, 'sam': 1158, 'noir': 1159, 'mouth': 1160, 'agent': 1161, 'terrif': 1162, 'utterli': 1163, 'requir': 1164, 'sexi': 1165, 'area': 1166, 'honestli': 1167, 'geniu': 1168, 'report': 1169, 'enter': 1170, 'humour': 1171, 'glad': 1172, 'investig': 1173, 'serial': 1174, 'passion': 1175, 'narr': 1176, 'occasion': 1177, 'climax': 1178, 'marriag': 1179, 'studi': 1180, 'industri': 1181, 'demon': 1182, 'ship': 1183, 'nowher': 1184, 'center': 1185, 'charli': 1186, 'loos': 1187, 'bear': 1188, 'hors': 1189, 'hang': 1190, 'wow': 1191, 'graphic': 1192, 'giant': 1193, 'admir': 1194, 'send': 1195, 'loud': 1196, 'damn': 1197, 'nake': 1198, 'subtl': 1199, 'rel': 1200, 'profession': 1201, 'blow': 1202, 'bottom': 1203, 'batman': 1204, 'insult': 1205, 'doubl': 1206, 'kelli': 1207, 'boyfriend': 1208, 'r': 1209, 'initi': 1210, 'frame': 1211, 'gem': 1212, 'opera': 1213, 'challeng': 1214, 'cinemat': 1215, 'drawn': 1216, 'affect': 1217, 'church': 1218, 'nightmar': 1219, 'seek': 1220, 'fulli': 1221, 'j': 1222, 'evid': 1223, 'l': 1224, 'essenti': 1225, 'conflict': 1226, 'arm': 1227, 'grace': 1228, 'wind': 1229, 'christoph': 1230, 'henri': 1231, 'narrat': 1232, 'witch': 1233, 'assum': 1234, 'hunt': 1235, 'push': 1236, 'chri': 1237, 'wise': 1238, 'repres': 1239, 'month': 1240, 'nomin': 1241, 'avail': 1242, 'sceneri': 1243, 'affair': 1244, 'hide': 1245, 'smart': 1246, 'bond': 1247, 'thu': 1248, 'justic': 1249, 'interview': 1250, 'outstand': 1251, 'flashback': 1252, 'satisfi': 1253, 'presenc': 1254, 'constantli': 1255, 'central': 1256, 'bed': 1257, 'sell': 1258, 'content': 1259, 'iron': 1260, 'everybodi': 1261, 'gag': 1262, 'hotel': 1263, 'slowli': 1264, 'hire': 1265, 'system': 1266, 'charl': 1267, 'thrown': 1268, 'individu': 1269, 'adam': 1270, 'hey': 1271, 'jone': 1272, 'allen': 1273, 'mediocr': 1274, 'billi': 1275, 'ray': 1276, 'lesson': 1277, 'cameo': 1278, 'photographi': 1279, 'fellow': 1280, 'pari': 1281, 'strike': 1282, 'brief': 1283, 'rise': 1284, 'absurd': 1285, 'independ': 1286, 'neg': 1287, 'impact': 1288, 'phone': 1289, 'ill': 1290, 'model': 1291, 'born': 1292, 'fresh': 1293, 'angl': 1294, 'spoil': 1295, 'likabl': 1296, 'abus': 1297, 'discuss': 1298, 'hill': 1299, 'sight': 1300, 'ahead': 1301, 'sent': 1302, 'photograph': 1303, 'blame': 1304, 'logic': 1305, 'occur': 1306, 'shine': 1307, 'mainli': 1308, 'bruce': 1309, 'skip': 1310, 'commerci': 1311, 'forev': 1312, 'teacher': 1313, 'segment': 1314, 'held': 1315, 'surround': 1316, 'blond': 1317, 'zero': 1318, 'resembl': 1319, 'summer': 1320, 'satir': 1321, 'trap': 1322, 'fool': 1323, 'six': 1324, 'ball': 1325, 'queen': 1326, 'sub': 1327, 'twice': 1328, 'tragedi': 1329, 'reaction': 1330, 'pack': 1331, 'bomb': 1332, 'will': 1333, 'protagonist': 1334, 'hospit': 1335, 'mile': 1336, 'sport': 1337, 'trust': 1338, 'vote': 1339, 'mom': 1340, 'jerri': 1341, 'drink': 1342, 'encount': 1343, 'plane': 1344, 'current': 1345, 'al': 1346, 'station': 1347, 'program': 1348, 'celebr': 1349, 'choos': 1350, 'martin': 1351, 'join': 1352, 'field': 1353, 'round': 1354, 'tragic': 1355, 'lord': 1356, 'favourit': 1357, 'robot': 1358, 'vision': 1359, 'jean': 1360, 'tie': 1361, 'arthur': 1362, 'roger': 1363, 'random': 1364, 'fortun': 1365, 'psycholog': 1366, 'dread': 1367, 'intern': 1368, 'epic': 1369, 'prefer': 1370, 'improv': 1371, 'nonsens': 1372, 'formula': 1373, 'pleasur': 1374, 'highlight': 1375, 'legend': 1376, 'tape': 1377, 'dollar': 1378, '11': 1379, 'porn': 1380, 'gorgeou': 1381, 'thin': 1382, 'wide': 1383, 'object': 1384, 'fox': 1385, 'ugli': 1386, 'buddi': 1387, 'influenc': 1388, 'nasti': 1389, 'prepar': 1390, 'ii': 1391, 'supposedli': 1392, 'progress': 1393, 'warm': 1394, 'reflect': 1395, 'worthi': 1396, 'youth': 1397, 'length': 1398, 'latter': 1399, 'unusu': 1400, 'crash': 1401, 'shop': 1402, 'childhood': 1403, 'seven': 1404, 'superior': 1405, 'remot': 1406, 'theatr': 1407, 'funniest': 1408, 'pilot': 1409, 'paid': 1410, 'disgust': 1411, 'fell': 1412, 'convers': 1413, 'trick': 1414, 'castl': 1415, 'rob': 1416, 'disast': 1417, 'establish': 1418, 'gangster': 1419, 'mine': 1420, 'heaven': 1421, 'suicid': 1422, 'ident': 1423, 'disappear': 1424, 'forgotten': 1425, 'decis': 1426, 'singer': 1427, 'mask': 1428, 'tend': 1429, 'heroin': 1430, 'partner': 1431, 'brian': 1432, 'recogn': 1433, 'alan': 1434, 'desert': 1435, 'ms': 1436, 'thoroughli': 1437, 'p': 1438, 'sky': 1439, 'stuck': 1440, 'replac': 1441, 'accur': 1442, 'market': 1443, 'seemingli': 1444, 'andi': 1445, 'commentari': 1446, 'clue': 1447, 'uncl': 1448, 'danni': 1449, 'eddi': 1450, 'jackson': 1451, 'devil': 1452, 'that': 1453, 'refus': 1454, 'therefor': 1455, 'pair': 1456, 'fate': 1457, 'river': 1458, 'ed': 1459, 'fault': 1460, 'accid': 1461, 'unit': 1462, 'tune': 1463, 'afraid': 1464, 'stephen': 1465, 'hidden': 1466, 'clean': 1467, 'russian': 1468, 'quick': 1469, 'irrit': 1470, 'captain': 1471, 'instanc': 1472, 'test': 1473, 'convey': 1474, 'readi': 1475, 'european': 1476, 'daniel': 1477, 'insan': 1478, 'frustrat': 1479, 'wed': 1480, '1950': 1481, 'food': 1482, 'chines': 1483, 'rescu': 1484, 'lock': 1485, 'angri': 1486, 'dirti': 1487, 'joy': 1488, 'price': 1489, 'steven': 1490, 'bland': 1491, 'cage': 1492, 'rang': 1493, 'anymor': 1494, 'wooden': 1495, 'rush': 1496, 'jason': 1497, 'n': 1498, 'news': 1499, 'board': 1500, 'martial': 1501, 'twenti': 1502, '12': 1503, 'led': 1504, 'worri': 1505, 'hunter': 1506, 'cgi': 1507, 'transform': 1508, 'symbol': 1509, 'johnni': 1510, 'sentiment': 1511, 'piti': 1512, 'x': 1513, 'invent': 1514, 'onto': 1515, 'process': 1516, 'attitud': 1517, 'explan': 1518, 'awar': 1519, 'owner': 1520, 'aim': 1521, 'energi': 1522, 'target': 1523, 'favor': 1524, 'floor': 1525, 'necessari': 1526, 'opposit': 1527, 'religi': 1528, 'insight': 1529, 'window': 1530, 'blind': 1531, 'chick': 1532, 'movement': 1533, 'deepli': 1534, 'possess': 1535, 'research': 1536, 'comparison': 1537, 'mountain': 1538, 'comed': 1539, 'whatsoev': 1540, 'grand': 1541, 'rain': 1542, 'mid': 1543, 'bank': 1544, 'shadow': 1545, 'began': 1546, 'parodi': 1547, 'princ': 1548, 'pre': 1549, 'credibl': 1550, 'taylor': 1551, 'weapon': 1552, 'friendship': 1553, 'teach': 1554, 'flesh': 1555, 'dougla': 1556, 'protect': 1557, 'bloodi': 1558, 'terror': 1559, 'hint': 1560, 'marvel': 1561, 'accord': 1562, 'watchabl': 1563, 'leader': 1564, 'superman': 1565, 'anybodi': 1566, 'drunk': 1567, 'load': 1568, 'freddi': 1569, 'brown': 1570, 'seat': 1571, 'jeff': 1572, 'hitler': 1573, 'tim': 1574, 'appropri': 1575, 'villag': 1576, 'unknown': 1577, 'keaton': 1578, 'knock': 1579, 'charg': 1580, 'england': 1581, 'empti': 1582, 'enemi': 1583, 'media': 1584, 'unnecessari': 1585, 'dare': 1586, 'wave': 1587, 'utter': 1588, 'craft': 1589, 'perspect': 1590, 'strength': 1591, 'buck': 1592, 'kiss': 1593, 'ford': 1594, 'contrast': 1595, 'correct': 1596, 'nativ': 1597, 'speed': 1598, 'chill': 1599, 'knowledg': 1600, 'anywher': 1601, 'soap': 1602, 'distract': 1603, 'magnific': 1604, 'nazi': 1605, 'mission': 1606, 'fred': 1607, '1980': 1608, 'breath': 1609, 'ice': 1610, 'joan': 1611, 'jr': 1612, 'crowd': 1613, 'moon': 1614, 'soft': 1615, '000': 1616, 'kate': 1617, 'frighten': 1618, 'dick': 1619, 'hundr': 1620, 'nick': 1621, 'dan': 1622, 'dozen': 1623, 'somebodi': 1624, 'radio': 1625, 'simon': 1626, 'academi': 1627, 'loss': 1628, 'thousand': 1629, 'shakespear': 1630, 'andrew': 1631, 'sum': 1632, 'root': 1633, 'quot': 1634, 'account': 1635, 'vehicl': 1636, '1970': 1637, 'leg': 1638, 'behavior': 1639, 'convent': 1640, 'gold': 1641, 'regular': 1642, 'worker': 1643, 'demand': 1644, 'compet': 1645, 'pretenti': 1646, 'candi': 1647, 'notabl': 1648, 'stretch': 1649, 'explos': 1650, 'privat': 1651, 'interpret': 1652, 'japan': 1653, 'lynch': 1654, 'debut': 1655, 'tarzan': 1656, 'constant': 1657, 'sea': 1658, 'translat': 1659, 'spi': 1660, 'prais': 1661, 'revolv': 1662, 'quiet': 1663, 'threaten': 1664, 'failur': 1665, 'technolog': 1666, 'sat': 1667, 'franc': 1668, 'ass': 1669, 'jesu': 1670, 'punch': 1671, 'met': 1672, 'aid': 1673, 'kevin': 1674, 'higher': 1675, 'toy': 1676, 'vh': 1677, 'mike': 1678, 'interact': 1679, 'abandon': 1680, 'separ': 1681, 'confront': 1682, 'bet': 1683, 'command': 1684, 'stunt': 1685, 'site': 1686, 'techniqu': 1687, 'belong': 1688, 'servic': 1689, 'recal': 1690, 'gotten': 1691, 'foot': 1692, 'cabl': 1693, 'bug': 1694, 'freak': 1695, 'fu': 1696, 'jimmi': 1697, 'african': 1698, 'capabl': 1699, 'bright': 1700, 'stock': 1701, 'boat': 1702, 'clark': 1703, 'presid': 1704, 'fat': 1705, 'succeed': 1706, 'spanish': 1707, 'gene': 1708, 'structur': 1709, 'paper': 1710, 'kidnap': 1711, 'factor': 1712, 'whilst': 1713, 'belief': 1714, 'educ': 1715, 'realism': 1716, 'attend': 1717, 'realis': 1718, 'witti': 1719, 'complic': 1720, 'tree': 1721, 'bob': 1722, 'broken': 1723, 'assist': 1724, 'finest': 1725, 'santa': 1726, 'smoke': 1727, 'up': 1728, 'observ': 1729, 'determin': 1730, 'depart': 1731, 'v': 1732, 'oper': 1733, 'rubbish': 1734, 'routin': 1735, 'lewi': 1736, 'hat': 1737, 'fame': 1738, 'domin': 1739, 'hook': 1740, 'morgan': 1741, 'advanc': 1742, 'foreign': 1743, 'kinda': 1744, 'safe': 1745, 'lone': 1746, 'numer': 1747, 'rank': 1748, 'vs': 1749, 'shape': 1750, 'washington': 1751, 'civil': 1752, 'shallow': 1753, 'rose': 1754, 'werewolf': 1755, 'morn': 1756, 'gari': 1757, 'kong': 1758, 'ordinari': 1759, 'winner': 1760, 'accomplish': 1761, 'virtual': 1762, 'whenev': 1763, 'grab': 1764, 'peac': 1765, 'offens': 1766, 'luck': 1767, 'h': 1768, 'complain': 1769, 'contriv': 1770, 'patient': 1771, 'activ': 1772, 'bigger': 1773, 'welcom': 1774, 'unfunni': 1775, 'dimension': 1776, 'con': 1777, 'trek': 1778, 'pretend': 1779, 'lesbian': 1780, 'cain': 1781, 'code': 1782, 'dri': 1783, 'wake': 1784, 'eric': 1785, 'flash': 1786, 'statu': 1787, 'corrupt': 1788, 'guard': 1789, 'manipul': 1790, 'dancer': 1791, 'albert': 1792, 'gain': 1793, 'awkward': 1794, 'speech': 1795, 'context': 1796, 'signific': 1797, 'sourc': 1798, 'sean': 1799, 'corni': 1800, 'clip': 1801, '13': 1802, 'anthoni': 1803, 'psycho': 1804, 'advic': 1805, 'theatric': 1806, 'priest': 1807, 'reli': 1808, 'religion': 1809, 'w': 1810, 'curiou': 1811, 'flow': 1812, 'addict': 1813, 'secur': 1814, 'asian': 1815, 'skin': 1816, 'jennif': 1817, 'howard': 1818, 'specif': 1819, 'core': 1820, 'organ': 1821, 'promot': 1822, 'golden': 1823, 'luke': 1824, 'comfort': 1825, 'cheat': 1826, 'cash': 1827, 'lucki': 1828, 'dislik': 1829, 'associ': 1830, 'lower': 1831, 'regret': 1832, 'frankli': 1833, 'frequent': 1834, 'contribut': 1835, 'balanc': 1836, 'devic': 1837, 'spell': 1838, 'wing': 1839, 'degre': 1840, 'forgiv': 1841, 'sake': 1842, 'lake': 1843, 'print': 1844, 'mass': 1845, 'thoma': 1846, 'betti': 1847, 'unexpect': 1848, 'gordon': 1849, 'crack': 1850, 'categori': 1851, 'amateur': 1852, 'invit': 1853, 'unfold': 1854, 'construct': 1855, 'grown': 1856, 'depend': 1857, 'anna': 1858, 'walter': 1859, 'condit': 1860, 'intellectu': 1861, 'honor': 1862, 'matur': 1863, 'grew': 1864, 'spectacular': 1865, 'mirror': 1866, 'sole': 1867, 'veteran': 1868, 'sudden': 1869, 'grip': 1870, 'overli': 1871, 'robin': 1872, 'liner': 1873, 'experienc': 1874, 'demonstr': 1875, 'card': 1876, 'freedom': 1877, 'meanwhil': 1878, 'gift': 1879, 'section': 1880, 'brilliantli': 1881, 'crappi': 1882, 'circumst': 1883, 'subtitl': 1884, 'drew': 1885, 'sheriff': 1886, 'colour': 1887, 'unabl': 1888, 'theori': 1889, 'oliv': 1890, 'cook': 1891, 'altern': 1892, 'sheer': 1893, 'laughter': 1894, 'path': 1895, 'pile': 1896, 'matt': 1897, 'parker': 1898, 'lawyer': 1899, 'accident': 1900, 'relief': 1901, 'defin': 1902, 'treatment': 1903, 'wander': 1904, 'hall': 1905, 'sinatra': 1906, 'captiv': 1907, 'dragon': 1908, 'hank': 1909, 'halloween': 1910, 'gratuit': 1911, 'moor': 1912, 'jacki': 1913, 'kung': 1914, 'k': 1915, 'unintent': 1916, 'barbara': 1917, 'wound': 1918, 'cowboy': 1919, 'broadway': 1920, 'wayn': 1921, 'spoof': 1922, 'statement': 1923, 'winter': 1924, 'canadian': 1925, 'surreal': 1926, 'cheer': 1927, 'gonna': 1928, 'fish': 1929, 'compos': 1930, 'treasur': 1931, 'fare': 1932, 'unrealist': 1933, 'victor': 1934, 'woodi': 1935, 'emerg': 1936, 'sensit': 1937, 'ran': 1938, 'driven': 1939, 'sympathet': 1940, 'neighbor': 1941, 'overlook': 1942, 'glass': 1943, 'topic': 1944, 'authent': 1945, 'expos': 1946, 'menac': 1947, 'handsom': 1948, 'michel': 1949, 'gross': 1950, 'ancient': 1951, 'chief': 1952, 'built': 1953, 'contemporari': 1954, 'nevertheless': 1955, 'stranger': 1956, 'pleasant': 1957, 'russel': 1958, 'feet': 1959, 'network': 1960, 'comedian': 1961, 'cinderella': 1962, 'gori': 1963, 'letter': 1964, 'earn': 1965, 'consider': 1966, 'blockbust': 1967, 'underr': 1968, 'miser': 1969, 'endless': 1970, 'switch': 1971, 'brook': 1972, 'solv': 1973, 'virgin': 1974, 'edward': 1975, 'joseph': 1976, 'bullet': 1977, 'convict': 1978, 'victoria': 1979, '0': 1980, 'chosen': 1981, 'scale': 1982, 'scenario': 1983, 'cynic': 1984, 'alex': 1985, 'com': 1986, 'sword': 1987, 'gut': 1988, 'outrag': 1989, 'curs': 1990, 'substanc': 1991, 'proper': 1992, 'wrap': 1993, 'monkey': 1994, 'juli': 1995, 'driver': 1996, 'uk': 1997, 'screenwrit': 1998, 'par': 1999, 'remov': 2000, 'bird': 2001, 'indic': 2002, 'court': 2003, 'rental': 2004, 'roy': 2005, 'naiv': 2006, 'consequ': 2007, 'grave': 2008, 'advertis': 2009, 'inevit': 2010, 'nanci': 2011, 'loser': 2012, 'bridg': 2013, 'brave': 2014, 'slap': 2015, 'le': 2016, 'germani': 2017, 'fatal': 2018, 'invis': 2019, 'provok': 2020, 'footbal': 2021, 'ador': 2022, 'anger': 2023, 'loui': 2024, 'chan': 2025, 'alcohol': 2026, 'anderson': 2027, 'stumbl': 2028, 'willi': 2029, 'ryan': 2030, 'professor': 2031, 'assassin': 2032, '1930': 2033, 'australian': 2034, 'patrick': 2035, 'bat': 2036, 'sharp': 2037, 'trilog': 2038, 'lousi': 2039, 'strongli': 2040, 'refresh': 2041, 'deni': 2042, 'heck': 2043, 'saturday': 2044, 'cell': 2045, 'amateurish': 2046, 'liber': 2047, 'ape': 2048, 'eight': 2049, 'sin': 2050, 'vagu': 2051, 'justifi': 2052, 'resid': 2053, 'san': 2054, 'mini': 2055, 'sympathi': 2056, 'indi': 2057, 'creator': 2058, 'terrifi': 2059, 'reput': 2060, 'defeat': 2061, 'task': 2062, 'endur': 2063, 'expert': 2064, 'tabl': 2065, 'tediou': 2066, 'prevent': 2067, 'trial': 2068, 'che': 2069, 'basebal': 2070, 'imit': 2071, 'employ': 2072, 'rival': 2073, 'offend': 2074, 'complaint': 2075, 'europ': 2076, 'max': 2077, 'beach': 2078, 'dig': 2079, 'weekend': 2080, 'pitch': 2081, 'fairi': 2082, 'murphi': 2083, 'purchas': 2084, 'risk': 2085, 'format': 2086, 'powel': 2087, 'tini': 2088, 'bite': 2089, 'glimps': 2090, 'harsh': 2091, 'hype': 2092, 'nois': 2093, 'reminisc': 2094, 'titan': 2095, 'fals': 2096, '14': 2097, 'strip': 2098, 'prime': 2099, 'till': 2100, 'north': 2101, 'asleep': 2102, 'texa': 2103, 'descript': 2104, 'revel': 2105, 'africa': 2106, 'destruct': 2107, 'sitcom': 2108, 'inner': 2109, 'excess': 2110, 'surfac': 2111, 'arrest': 2112, 'semi': 2113, 'uninterest': 2114, 'spin': 2115, 'makeup': 2116, 'massiv': 2117, 'hitchcock': 2118, 'twin': 2119, 'dinosaur': 2120, 'argu': 2121, 'maintain': 2122, 'controversi': 2123, 'melodrama': 2124, 'stare': 2125, 'reject': 2126, 'insist': 2127, 'expens': 2128, 'ideal': 2129, 'ludicr': 2130, 'kim': 2131, 'subplot': 2132, 'nail': 2133, 'supernatur': 2134, 'host': 2135, 'press': 2136, 'atroci': 2137, 'ala': 2138, 'forest': 2139, 'columbo': 2140, 'erot': 2141, 'ga': 2142, 'notch': 2143, 'dude': 2144, 'cant': 2145, 'presum': 2146, 'identifi': 2147, 'forgett': 2148, 'crude': 2149, 'guest': 2150, 'character': 2151, 'method': 2152, 'plagu': 2153, 'closer': 2154, 'ear': 2155, 'landscap': 2156, 'border': 2157, 'lion': 2158, 'beast': 2159, 'foster': 2160, 'princess': 2161, 'damag': 2162, 'urban': 2163, 'bound': 2164, 'previous': 2165, 'birth': 2166, 'storytel': 2167, 'aunt': 2168, 'pacino': 2169, 'accus': 2170, 'jungl': 2171, 'chose': 2172, 'jess': 2173, 'doll': 2174, 'nude': 2175, 'guid': 2176, 'thirti': 2177, 'propaganda': 2178, 'emma': 2179, '25': 2180, 'warrior': 2181, 'mate': 2182, 'mainstream': 2183, 'whoever': 2184, 'pet': 2185, 'upset': 2186, 'cooper': 2187, 'friday': 2188, 'merit': 2189, 'deadli': 2190, 'size': 2191, 'poster': 2192, 'latest': 2193, 'gritti': 2194, 'exact': 2195, 'warner': 2196, '1990': 2197, 'popul': 2198, 'contest': 2199, 'settl': 2200, 'ton': 2201, 'blend': 2202, 'contact': 2203, 'rough': 2204, 'sun': 2205, 'buff': 2206, 'wilson': 2207, 'corps': 2208, 'citizen': 2209, 'bu': 2210, 'overcom': 2211, 'select': 2212, 'mgm': 2213, 'metal': 2214, 'environ': 2215, 'pitt': 2216, 'alic': 2217, 'widow': 2218, 'rat': 2219, 'particip': 2220, 'lift': 2221, 'ted': 2222, 'guilti': 2223, 'link': 2224, 'revolut': 2225, 'moron': 2226, 'accompani': 2227, 'matrix': 2228, 'afternoon': 2229, 'johnson': 2230, 'corpor': 2231, 'exagger': 2232, '1960': 2233, 'prostitut': 2234, 'corner': 2235, 'instal': 2236, 'multipl': 2237, 'sincer': 2238, 'hood': 2239, 'doom': 2240, 'clair': 2241, 'holm': 2242, 'friendli': 2243, 'leagu': 2244, 'irish': 2245, 'blah': 2246, 'aka': 2247, 'defend': 2248, 'sunday': 2249, 'grim': 2250, 'advis': 2251, 'examin': 2252, 'junk': 2253, 'hip': 2254, 'campi': 2255, 'lugosi': 2256, 'string': 2257, 'tight': 2258, 'rachel': 2259, 'varieti': 2260, 'confid': 2261, 'shake': 2262, 'pro': 2263, 'icon': 2264, 'shut': 2265, 'attach': 2266, 'medic': 2267, 'jaw': 2268, 'sullivan': 2269, 'denni': 2270, 'goal': 2271, 'directli': 2272, 'mexican': 2273, 'courag': 2274, 'legendari': 2275, 'prior': 2276, 'dean': 2277, 'duke': 2278, 'sentenc': 2279, 'terrorist': 2280, 'breast': 2281, 'bourn': 2282, 'truck': 2283, 'sarah': 2284, 'vietnam': 2285, 'behav': 2286, 'proceed': 2287, 'hong': 2288, 'un': 2289, 'nose': 2290, 'split': 2291, 'donald': 2292, 'yell': 2293, 'entri': 2294, 'jerk': 2295, 'buri': 2296, 'lifetim': 2297, 'everywher': 2298, 'forth': 2299, 'borrow': 2300, 'gather': 2301, 'unconvinc': 2302, 'crush': 2303, 'confess': 2304, 'swim': 2305, 'concentr': 2306, 'stolen': 2307, 'california': 2308, 'pan': 2309, 'lip': 2310, 'turkey': 2311, 'deliveri': 2312, 'spite': 2313, 'julia': 2314, 'flight': 2315, 'reward': 2316, 'proud': 2317, 'offici': 2318, 'freeman': 2319, 'quest': 2320, 'downright': 2321, 'china': 2322, 'hoffman': 2323, 'notori': 2324, 'fade': 2325, 'jon': 2326, 'fabul': 2327, 'jail': 2328, 'inept': 2329, 'sink': 2330, 'betray': 2331, 'lazi': 2332, 'sir': 2333, 'worthwhil': 2334, 'encourag': 2335, 'survivor': 2336, 'lisa': 2337, 'branagh': 2338, 'bag': 2339, 'susan': 2340, 'storm': 2341, 'relev': 2342, 'cousin': 2343, 'retard': 2344, 'bell': 2345, 'imageri': 2346, 'teeth': 2347, 'shower': 2348, 'hugh': 2349, 'trade': 2350, 'alright': 2351, 'summari': 2352, 'quirki': 2353, 'tremend': 2354, 'shark': 2355, 'mexico': 2356, 'finger': 2357, 'facial': 2358, 'bride': 2359, 'stab': 2360, 'toler': 2361, 'bitter': 2362, 'blown': 2363, 'hyster': 2364, 'pose': 2365, 'von': 2366, 'ha': 2367, 'scheme': 2368, 'address': 2369, 'ron': 2370, 'larri': 2371, 'afterward': 2372, 'christ': 2373, 'ned': 2374, 'bone': 2375, 'cruel': 2376, 'pursu': 2377, 'feed': 2378, 'distinct': 2379, 'tour': 2380, 'swear': 2381, 'beg': 2382, 'thumb': 2383, 'traci': 2384, 'snake': 2385, 'screw': 2386, 'photo': 2387, 'raw': 2388, 'obscur': 2389, 'mechan': 2390, 'chair': 2391, 'stomach': 2392, 'occas': 2393, 'resist': 2394, 'render': 2395, 'necessarili': 2396, 'cabin': 2397, 'chain': 2398, 'heavili': 2399, 'southern': 2400, 'gruesom': 2401, 'argument': 2402, 'holiday': 2403, 'sidney': 2404, 'hardi': 2405, 'racist': 2406, 'india': 2407, 'satan': 2408, 'indulg': 2409, 'understood': 2410, 'philip': 2411, 'lay': 2412, 'integr': 2413, 'forgot': 2414, 'pregnant': 2415, 'obnoxi': 2416, 'belov': 2417, 'outfit': 2418, 'stalk': 2419, 'tongu': 2420, 'fourth': 2421, 'midnight': 2422, '17': 2423, 'magazin': 2424, 'slapstick': 2425, 'carol': 2426, 'restor': 2427, 'inhabit': 2428, 'deeper': 2429, 'garden': 2430, 'ticket': 2431, 'devot': 2432, 'brad': 2433, 'incid': 2434, 'lincoln': 2435, 'shoe': 2436, 'benefit': 2437, 'maria': 2438, 'disbelief': 2439, 'sandler': 2440, 'lili': 2441, 'guarante': 2442, 'divorc': 2443, 'anticip': 2444, 'underground': 2445, 'elizabeth': 2446, 'princip': 2447, 'creation': 2448, 'bbc': 2449, 'cring': 2450, 'amazingli': 2451, 'explod': 2452, 'mildli': 2453, 'capit': 2454, 'slave': 2455, 'greater': 2456, 'introduct': 2457, 'extraordinari': 2458, 'funnier': 2459, 'lesli': 2460, 'halfway': 2461, 'transfer': 2462, 'text': 2463, 'enhanc': 2464, 'advantag': 2465, 'overwhelm': 2466, 'extent': 2467, 'punish': 2468, 'wreck': 2469, 'tap': 2470, 'lo': 2471, 'east': 2472, 'deliber': 2473, 'preview': 2474, 'dynam': 2475, 'horrif': 2476, 'plant': 2477, 'error': 2478, 'jessica': 2479, 'lane': 2480, 'ensu': 2481, 'homosexu': 2482, 'appli': 2483, 'sophist': 2484, 'miscast': 2485, 'vincent': 2486, 'vacat': 2487, '2000': 2488, 'miller': 2489, 'basi': 2490, 'measur': 2491, 'uncomfort': 2492, 'spoken': 2493, 'steel': 2494, 'via': 2495, 'sleazi': 2496, 'mansion': 2497, 'elev': 2498, 'extend': 2499, 'bollywood': 2500, 'reed': 2501, 'cathol': 2502, 'goofi': 2503, 'conceiv': 2504, 'assign': 2505, 'breathtak': 2506, 'savag': 2507, 'mous': 2508, 'overact': 2509, 'hippi': 2510, 'stanley': 2511, 'fix': 2512, 'alter': 2513, 'melt': 2514, 'dentist': 2515, 'beer': 2516, 'daili': 2517, 'blair': 2518, 'inspector': 2519, 'nowaday': 2520, 'sacrific': 2521, 'properli': 2522, 'everyday': 2523, 'oppos': 2524, 'subsequ': 2525, 'succe': 2526, 'burt': 2527, 'carpent': 2528, 'neck': 2529, 'laura': 2530, 'block': 2531, 'circl': 2532, 'massacr': 2533, 'mob': 2534, 'concert': 2535, 'fallen': 2536, 'seagal': 2537, 'lesser': 2538, 'portrait': 2539, 'grey': 2540, 'access': 2541, 'pool': 2542, 'christi': 2543, 'fay': 2544, 'jake': 2545, 'relax': 2546, 'competit': 2547, 'sinist': 2548, 'chees': 2549, 'react': 2550, 'isol': 2551, 'usa': 2552, 'jewish': 2553, 'suitabl': 2554, 'immens': 2555, 'nine': 2556, '2006': 2557, 'nonetheless': 2558, 'spiritu': 2559, 'stink': 2560, 'chop': 2561, 'creep': 2562, 'appal': 2563, 'lyric': 2564, 'ironi': 2565, 'reduc': 2566, 'navi': 2567, 'showcas': 2568, 'user': 2569, 'shirt': 2570, 'franchis': 2571, 'sold': 2572, 'retir': 2573, 'nut': 2574, 'adopt': 2575, 'luci': 2576, 'spring': 2577, 'rage': 2578, 'needless': 2579, 'asham': 2580, 'bath': 2581, 'digit': 2582, 'jay': 2583, 'stanwyck': 2584, 'per': 2585, 'bulli': 2586, 'uninspir': 2587, 'nurs': 2588, 'zone': 2589, '1940': 2590, 'illustr': 2591, '2001': 2592, 'oddli': 2593, 'amongst': 2594, 'broadcast': 2595, 'laid': 2596, 'upper': 2597, 'sutherland': 2598, 'fulfil': 2599, 'disguis': 2600, 'brando': 2601, 'baker': 2602, 'throat': 2603, 'stylish': 2604, 'aspir': 2605, '18': 2606, 'em': 2607, 'wanna': 2608, 'nobl': 2609, 'impli': 2610, 'pound': 2611, 'wwii': 2612, 'endear': 2613, 'neighborhood': 2614, 'thief': 2615, 'pride': 2616, 'shoulder': 2617, 'tens': 2618, 'distribut': 2619, 'rochest': 2620, 'prop': 2621, 'dinner': 2622, '16': 2623, 'dawn': 2624, 'shift': 2625, 'albeit': 2626, 'cinematograph': 2627, 'diseas': 2628, 'bett': 2629, 'coher': 2630, 'bo': 2631, 'silenc': 2632, 'rebel': 2633, 'forti': 2634, 'matthau': 2635, 'snow': 2636, 'poignant': 2637, 'surf': 2638, 'wash': 2639, 'function': 2640, 'shout': 2641, 'knife': 2642, 'contract': 2643, 'heat': 2644, 'reunion': 2645, 'horrend': 2646, 'instinct': 2647, 'internet': 2648, 'henc': 2649, 'derek': 2650, 'cannib': 2651, 'silver': 2652, 'chuck': 2653, 'widmark': 2654, 'cancel': 2655, 'proof': 2656, 'mindless': 2657, 'eeri': 2658, 'height': 2659, 'duti': 2660, 'elvira': 2661, 'etern': 2662, 'incoher': 2663, 'pie': 2664, 'alik': 2665, 'musician': 2666, 'repetit': 2667, 'premier': 2668, 'glori': 2669, 'neat': 2670, 'spielberg': 2671, 'greatli': 2672, 'torn': 2673, 'elvi': 2674, 'mill': 2675, 'absorb': 2676, 'innov': 2677, 'crisi': 2678, 'wealthi': 2679, 'infam': 2680, 'precis': 2681, 'bang': 2682, 'lovabl': 2683, 'announc': 2684, 'horrifi': 2685, 'redempt': 2686, 'burton': 2687, 'britain': 2688, 'nelson': 2689, 'homag': 2690, 'blank': 2691, 'racism': 2692, 'itali': 2693, 'fbi': 2694, 'diamond': 2695, 'trite': 2696, 'chaplin': 2697, 'parallel': 2698, 'hammer': 2699, 'resolut': 2700, 'ensembl': 2701, 'flop': 2702, 'happili': 2703, 'helen': 2704, 'dedic': 2705, 'wilder': 2706, 'pat': 2707, 'streisand': 2708, 'broke': 2709, 'carter': 2710, 'plastic': 2711, 'st': 2712, 'disagre': 2713, 'conclud': 2714, 'triumph': 2715, 'factori': 2716, 'mar': 2717, 'cube': 2718, 'oil': 2719, 'row': 2720, 'bush': 2721, 'vega': 2722, 'rocket': 2723, 'march': 2724, 'own': 2725, 'weight': 2726, 'climb': 2727, 'chuckl': 2728, 'fighter': 2729, 'luca': 2730, 'boot': 2731, 'sensibl': 2732, 'mst3k': 2733, 'meaning': 2734, 'kurt': 2735, 'unforgett': 2736, 'lust': 2737, 'enorm': 2738, 'dump': 2739, 'wherea': 2740, 'thug': 2741, 'spare': 2742, 'dane': 2743, 'fifti': 2744, 'butt': 2745, 'engin': 2746, 'threat': 2747, 'bobbi': 2748, 'rap': 2749, 'difficulti': 2750, 'adequ': 2751, 'caricatur': 2752, 'brand': 2753, 'arnold': 2754, 'karloff': 2755, 'stress': 2756, 'dear': 2757, 'secretari': 2758, 'hamlet': 2759, 'ego': 2760, 'polish': 2761, 'swing': 2762, 'fest': 2763, 'elabor': 2764, 'homeless': 2765, 'ralph': 2766, 'arrog': 2767, 'barri': 2768, 'flynn': 2769, 'journalist': 2770, 'arrang': 2771, 'float': 2772, 'unbear': 2773, 'conspiraci': 2774, 'induc': 2775, 'fanci': 2776, 'grate': 2777, 'puppet': 2778, 'simpson': 2779, 'resort': 2780, 'tool': 2781, 'spike': 2782, 'tribut': 2783, 'choreograph': 2784, 'basement': 2785, 'exercis': 2786, 'boll': 2787, 'pig': 2788, 'guilt': 2789, 'muppet': 2790, 'phillip': 2791, 'cruis': 2792, 'toilet': 2793, 'babe': 2794, 'slip': 2795, 'tower': 2796, 'layer': 2797, 'medium': 2798, 'puzzl': 2799, 'ward': 2800, '24': 2801, 'document': 2802, 'ham': 2803, 'file': 2804, 'fianc': 2805, 'item': 2806, 'editor': 2807, 'korean': 2808, 'scarecrow': 2809, 'stan': 2810, 'larger': 2811, 'transit': 2812, 'catherin': 2813, 'minim': 2814, 'persona': 2815, 'doc': 2816, 'denzel': 2817, 'inexplic': 2818, 'orient': 2819, 'glover': 2820, 'assur': 2821, 'slaughter': 2822, 'superfici': 2823, 'territori': 2824, 'librari': 2825, 'philosoph': 2826, 'spark': 2827, 'portion': 2828, 'jet': 2829, 'jeremi': 2830, 'owe': 2831, 'shi': 2832, 'financi': 2833, 'boredom': 2834, 'sneak': 2835, 'walken': 2836, 'ban': 2837, 'pg': 2838, 'dorothi': 2839, 'curti': 2840, 'wolf': 2841, 'backdrop': 2842, 'multi': 2843, 'ambigu': 2844, 'profound': 2845, 'whale': 2846, 'eleph': 2847, 'metaphor': 2848, 'cusack': 2849, 'hudson': 2850, 'hack': 2851, 'implaus': 2852, 'rave': 2853, 'notion': 2854, 'stiff': 2855, 'viru': 2856, 'ultra': 2857, 'gadget': 2858, '2005': 2859, 'birthday': 2860, 'elsewher': 2861, 'union': 2862, 'urg': 2863, 'squar': 2864, 'lloyd': 2865, 'reader': 2866, 'newspap': 2867, 'poison': 2868, 'distanc': 2869, 'pad': 2870, 'bibl': 2871, 'afford': 2872, 'slight': 2873, 'superhero': 2874, 'canada': 2875, '1st': 2876, 'eva': 2877, 'hawk': 2878, 'deriv': 2879, 'eastwood': 2880, 'disc': 2881, 'cure': 2882, 'charisma': 2883, 'button': 2884, 'skit': 2885, 'restaur': 2886, 'health': 2887, 'huh': 2888, 'heston': 2889, 'sadist': 2890, 'essenc': 2891, 'drown': 2892, 'montag': 2893, 'spread': 2894, 'dealt': 2895, 'estat': 2896, 'peak': 2897, 'fetch': 2898, 'invest': 2899, 'lab': 2900, 'gradual': 2901, 'maniac': 2902, 'godfath': 2903, 'scoobi': 2904, 'muslim': 2905, 'companion': 2906, 'tea': 2907, 'gothic': 2908, 'countless': 2909, 'cup': 2910, 'servant': 2911, 'ritter': 2912, 'miik': 2913, 'subtleti': 2914, 'alli': 2915, 'kane': 2916, 'heroic': 2917, 'electr': 2918, 'elect': 2919, 'iii': 2920, 'charismat': 2921, 'briefli': 2922, 'salli': 2923, 'wannab': 2924, 'nuanc': 2925, 'admittedli': 2926, 'neil': 2927, 'cole': 2928, 'toss': 2929, 'resourc': 2930, 'grandmoth': 2931, 'bud': 2932, 'reel': 2933, 'tender': 2934, 'ingredi': 2935, 'stood': 2936, 'stronger': 2937, 'punk': 2938, 'poverti': 2939, 'dawson': 2940, 'pauli': 2941, 'label': 2942, 'reev': 2943, 'mafia': 2944, 'carrey': 2945, 'pit': 2946, 'mild': 2947, 'gate': 2948, 'kubrick': 2949, 'shall': 2950, 'tag': 2951, 'astair': 2952, 'outcom': 2953, 'ian': 2954, 'smooth': 2955, 'cardboard': 2956, 'useless': 2957, 'fond': 2958, 'cox': 2959, 'easier': 2960, 'updat': 2961, 'assault': 2962, 'terri': 2963, 'burst': 2964, 'smash': 2965, 'bakshi': 2966, 'coincid': 2967, 'increasingli': 2968, 'vari': 2969, 'qualifi': 2970, 'sketch': 2971, 'fist': 2972, 'vulner': 2973, 'divers': 2974, 'melodramat': 2975, '2002': 2976, 'resolv': 2977, 'exchang': 2978, 'rex': 2979, 'samurai': 2980, 'blast': 2981, 'be': 2982, 'tame': 2983, 'conveni': 2984, 'insert': 2985, 'scratch': 2986, 'brillianc': 2987, 'luckili': 2988, 'suspend': 2989, 'reynold': 2990, 'templ': 2991, 'coach': 2992, 'strictli': 2993, 'ambiti': 2994, 'farm': 2995, 'walker': 2996, 'nuclear': 2997, 'matthew': 2998, 'fisher': 2999, 'seventi': 3000, 'pin': 3001, 'hamilton': 3002, 'jami': 3003, 'soprano': 3004, 'meat': 3005, 'gotta': 3006, 'spooki': 3007, 'worthless': 3008, 'convolut': 3009, 'closet': 3010, 'struck': 3011, 'timeless': 3012, 'kudo': 3013, 'joey': 3014, 'cave': 3015, 'empir': 3016, 'revers': 3017, 'instantli': 3018, 'monk': 3019, 'recreat': 3020, 'eccentr': 3021, 'grasp': 3022, 'ninja': 3023, 'brosnan': 3024, 'butcher': 3025, 'clock': 3026, 'discoveri': 3027, 'fifteen': 3028, 'eighti': 3029, 'evok': 3030, 'clown': 3031, 'wipe': 3032, 'gray': 3033, 'sloppi': 3034, 'norman': 3035, 'pal': 3036, 'bleak': 3037, 'mitchel': 3038, 'miracl': 3039, 'cliff': 3040, 'declar': 3041, 'communist': 3042, 'sidekick': 3043, 'selfish': 3044, 'partli': 3045, 'importantli': 3046, 'inconsist': 3047, 'seller': 3048, 'lifestyl': 3049, 'destin': 3050, 'websit': 3051, 'australia': 3052, 'aforement': 3053, 'ho': 3054, 'piano': 3055, 'stoog': 3056, 'cheek': 3057, 'farc': 3058, 'seed': 3059, 'superbl': 3060, '45': 3061, 'flawless': 3062, 'psychiatrist': 3063, 'chew': 3064, 'enthusiast': 3065, 'debat': 3066, 'drivel': 3067, 'emili': 3068, 'regardless': 3069, 'dire': 3070, 'abc': 3071, 'bash': 3072, 'slice': 3073, 'kitchen': 3074, 'soviet': 3075, 'akshay': 3076, 'anni': 3077, 'dash': 3078, 'pressur': 3079, 'splatter': 3080, 'wick': 3081, 'incompet': 3082, 'directori': 3083, 'wrestl': 3084, 'cagney': 3085, 'pleasantli': 3086, 'artifici': 3087, 'suppli': 3088, 'duo': 3089, 'boil': 3090, 'ken': 3091, 'cia': 3092, 'flower': 3093, 'glow': 3094, 'cameron': 3095, 'curios': 3096, 'increas': 3097, 'helicopt': 3098, 'distant': 3099, 'chapter': 3100, 'lou': 3101, 'beaten': 3102, 'seduc': 3103, 'prize': 3104, 'doo': 3105, 'mann': 3106, 'recov': 3107, 'dave': 3108, 'judi': 3109, 'jar': 3110, 'blob': 3111, 'craven': 3112, 'perri': 3113, 'eleg': 3114, 'goldberg': 3115, 'web': 3116, 'ranger': 3117, 'glenn': 3118, 'craig': 3119, 'favour': 3120, 'psychot': 3121, 'hop': 3122, 'combat': 3123, 'drunken': 3124, 'turner': 3125, 'splendid': 3126, 'laurel': 3127, 'panic': 3128, 'ellen': 3129, 'francisco': 3130, 'plausibl': 3131, 'ruth': 3132, 'gentl': 3133, 'hatr': 3134, 'flip': 3135, 'rid': 3136, 'graduat': 3137, 'greek': 3138, 'slightest': 3139, 'min': 3140, 'wizard': 3141, 'fx': 3142, 'falk': 3143, 'shortli': 3144, 'modesti': 3145, 'philosophi': 3146, 'alexand': 3147, '20th': 3148, 'gandhi': 3149, 'we': 3150, 'holi': 3151, 'manhattan': 3152, 'lend': 3153, 'legal': 3154, 'knight': 3155, 'unpleas': 3156, 'tall': 3157, 'jealou': 3158, 'dracula': 3159, 'ocean': 3160, 'fund': 3161, 'harm': 3162, 'futurist': 3163, 'felix': 3164, 'preciou': 3165, 'explicit': 3166, 'childish': 3167, 'overdon': 3168, 'ami': 3169, 'thread': 3170, 'mock': 3171, 'forbidden': 3172, 'nod': 3173, 'digniti': 3174, 'scientif': 3175, 'bless': 3176, 'giallo': 3177, 'reviv': 3178, 'tank': 3179, 'thick': 3180, 'torment': 3181, 'broad': 3182, 'margaret': 3183, 'awe': 3184, 'verhoeven': 3185, 'awaken': 3186, 'yesterday': 3187, '99': 3188, 'pirat': 3189, '2004': 3190, 'repeatedli': 3191, 'mel': 3192, 'unwatch': 3193, 'elderli': 3194, 'fever': 3195, 'eve': 3196, 'nerv': 3197, 'lean': 3198, 'publish': 3199, 'timothi': 3200, 'politician': 3201, 'ah': 3202, 'automat': 3203, 'roman': 3204, 'acclaim': 3205, 'royal': 3206, 'absenc': 3207, 'bin': 3208, 'custom': 3209, 'romero': 3210, 'stiller': 3211, 'kay': 3212, 'uniform': 3213, 'rivet': 3214, 'ambit': 3215, 'launch': 3216, 'griffith': 3217, 'eas': 3218, 'crook': 3219, 'phrase': 3220, 'sunshin': 3221, 'stinker': 3222, 'pulp': 3223, 'purpl': 3224, 'termin': 3225, 'wallac': 3226, 'homicid': 3227, 'gabriel': 3228, 'bathroom': 3229, 'warren': 3230, 'tomato': 3231, 'darker': 3232, 'pierc': 3233, 'antic': 3234, 'foul': 3235, 'transport': 3236, 'eyr': 3237, 'kenneth': 3238, 'juvenil': 3239, 'rambo': 3240, 'revolutionari': 3241, 'prom': 3242, 'horrid': 3243, 'marin': 3244, 'viciou': 3245, 'saint': 3246, 'packag': 3247, 'coloni': 3248, 'contrari': 3249, 'sixti': 3250, '2003': 3251, 'q': 3252, 'hollow': 3253, 'evolv': 3254, 'awak': 3255, 'choreographi': 3256, 'ought': 3257, 'donna': 3258, 'li': 3259, 'karen': 3260, 'brazil': 3261, 'pray': 3262, 'album': 3263, 'ireland': 3264, 'defi': 3265, 'candid': 3266, 'boast': 3267, 'stole': 3268, 'conserv': 3269, 'option': 3270, 'kapoor': 3271, 'overr': 3272, 'mummi': 3273, 'ramon': 3274, 'mildr': 3275, 'nerd': 3276, 'beatti': 3277, 'twelv': 3278, 'blade': 3279, 'dose': 3280, 'protest': 3281, 'confirm': 3282, 'flame': 3283, 'jazz': 3284, 'funer': 3285, 'global': 3286, 'trio': 3287, 'altman': 3288, 'kirk': 3289, 'natali': 3290, 'detract': 3291, 'fulci': 3292, 'astonish': 3293, 'collabor': 3294, 'whip': 3295, 'spit': 3296, 'audio': 3297, 'delici': 3298, 'bull': 3299, 'leap': 3300, 'yellow': 3301, 'shade': 3302, 'racial': 3303, 'bottl': 3304, 'mystic': 3305, 'blake': 3306, 'tommi': 3307, 'nicholson': 3308, 'enterpris': 3309, 'destini': 3310, 'neo': 3311, 'swedish': 3312, 'reunit': 3313, 'merci': 3314, 'altogeth': 3315, 'popcorn': 3316, 'threw': 3317, 'vivid': 3318, 'visibl': 3319, 'harder': 3320, 'meaningless': 3321, 'inherit': 3322, 'pseudo': 3323, 'bedroom': 3324, 'adolesc': 3325, 'enchant': 3326, 'fonda': 3327, 'todd': 3328, 'staff': 3329, 'ruthless': 3330, 'uneven': 3331, 'exhibit': 3332, 'tip': 3333, 'crocodil': 3334, 'befriend': 3335, 'wire': 3336, 'await': 3337, 'kennedi': 3338, 'lawrenc': 3339, 'jew': 3340, 'roommat': 3341, 'bust': 3342, 'madonna': 3343, 'respond': 3344, 'moodi': 3345, 'decor': 3346, 'suspici': 3347, 'reserv': 3348, 'lemmon': 3349, 'fanat': 3350, 'edi': 3351, 'synopsi': 3352, 'voight': 3353, 'leonard': 3354, 'atlanti': 3355, 'carl': 3356, '2007': 3357, 'garner': 3358, 'dimens': 3359, 'unsettl': 3360, 'palma': 3361, 'bold': 3362, 'ventur': 3363, 'chao': 3364, 'voyag': 3365, 'bargain': 3366, 'abysm': 3367, 'rural': 3368, 'clumsi': 3369, 'bradi': 3370, 'centr': 3371, 'incident': 3372, 'holli': 3373, 'clint': 3374, 'audit': 3375, 'mall': 3376, 'daddi': 3377, 'humili': 3378, 'cuba': 3379, 'troop': 3380, 'neglect': 3381, '2nd': 3382, 'versu': 3383, 'nearbi': 3384, 'acknowledg': 3385, 'poetic': 3386, 'ant': 3387, 'elimin': 3388, 'immigr': 3389, 'characterist': 3390, 'cd': 3391, 'cari': 3392, 'imperson': 3393, 'wealth': 3394, 'echo': 3395, 'tiger': 3396, 'hart': 3397, 'trail': 3398, 'lit': 3399, 'timon': 3400, 'prejudic': 3401, 'collaps': 3402, 'infect': 3403, 'solo': 3404, 'paus': 3405, 'mickey': 3406, 'pun': 3407, 'homer': 3408, 'marshal': 3409, 'jeffrey': 3410, 'saga': 3411, 'domest': 3412, 'mistaken': 3413, 'repuls': 3414, 'celluloid': 3415, 'inappropri': 3416, 'harvey': 3417, 'ginger': 3418, 'gear': 3419, 'sore': 3420, 'assembl': 3421, 'inan': 3422, 'coat': 3423, 'hbo': 3424, 'cake': 3425, 'tribe': 3426, 'equip': 3427, 'chest': 3428, 'milk': 3429, 'pant': 3430, '1996': 3431, 'olivi': 3432, 'interrupt': 3433, 'apolog': 3434, 'coffe': 3435, 'promin': 3436, 'undoubtedli': 3437, 'leon': 3438, 'furthermor': 3439, 'solut': 3440, 'maggi': 3441, 'florida': 3442, 'primari': 3443, 'humbl': 3444, 'aveng': 3445, 'polanski': 3446, 'instant': 3447, 'embrac': 3448, 'consum': 3449, 'pot': 3450, 'exot': 3451, 'colleagu': 3452, 'trace': 3453, 'airplan': 3454, 'jenni': 3455, 'devast': 3456, 'colonel': 3457, 'pen': 3458, 'retain': 3459, 'institut': 3460, 'brooklyn': 3461, 'highest': 3462, 'vulgar': 3463, 'outer': 3464, 'descend': 3465, 'strain': 3466, 'principl': 3467, 'wive': 3468, 'rick': 3469, 'ya': 3470, 'disabl': 3471, 'cope': 3472, 'illog': 3473, 'godzilla': 3474, 'poke': 3475, 'gender': 3476, 'dian': 3477, 'seduct': 3478, '3rd': 3479, '1999': 3480, 'dutch': 3481, 'bowl': 3482, 'smaller': 3483, 'linda': 3484, 'sale': 3485, 'dive': 3486, 'gloriou': 3487, 'yard': 3488, 'scope': 3489, 'lol': 3490, 'mixtur': 3491, 'beneath': 3492, 'vast': 3493, 'glamor': 3494, 'primarili': 3495, 'rabbit': 3496, 'gundam': 3497, 'predecessor': 3498, 'inferior': 3499, 'dud': 3500, 'bubbl': 3501, 'devoid': 3502, 'blatant': 3503, 'secondli': 3504, 'cue': 3505, 'hal': 3506, 'casual': 3507, 'simplist': 3508, 'alert': 3509, 'aggress': 3510, 'z': 3511, 'garbo': 3512, 'hideou': 3513, 'shelf': 3514, 'alfr': 3515, 'grinch': 3516, 'domino': 3517, 'trademark': 3518, 'streep': 3519, 'invas': 3520, 'pearl': 3521, 'breed': 3522, 'disjoint': 3523, 'arab': 3524, 'museum': 3525, 'et': 3526, 'talki': 3527, 'myer': 3528, 'countrysid': 3529, 'april': 3530, 'shirley': 3531, 'senseless': 3532, 'slide': 3533, 'sh': 3534, 'disgrac': 3535, 'experiment': 3536, 'defens': 3537, 'hopeless': 3538, 'robinson': 3539, 'acid': 3540, 'illeg': 3541, 'uwe': 3542, 'unhappi': 3543, 'obtain': 3544, 'oz': 3545, 'mail': 3546, 'boom': 3547, 'stir': 3548, 'hardcor': 3549, 'stack': 3550, 'loyal': 3551, 'stellar': 3552, 'robberi': 3553, 'maci': 3554, 'vanish': 3555, 'rendit': 3556, 'mayor': 3557, 'applaud': 3558, 'khan': 3559, 'berlin': 3560, 'topless': 3561, 'wont': 3562, 'spider': 3563, 'tenant': 3564, 'craze': 3565, 'soccer': 3566, 'incomprehens': 3567, 'fri': 3568, 'amanda': 3569, 'diana': 3570, 'declin': 3571, 'blew': 3572, 'emphasi': 3573, 'tempt': 3574, 'counter': 3575, 'dismiss': 3576, 'rifl': 3577, 'grandfath': 3578, 'recruit': 3579, 'dicken': 3580, 'psychic': 3581, 'scroog': 3582, 'span': 3583, 'hartley': 3584, 'parad': 3585, 'porno': 3586, 'trashi': 3587, 'shaw': 3588, 'ration': 3589, 'shed': 3590, 'wet': 3591, 'woo': 3592, 'sibl': 3593, 'bitch': 3594, 'revolt': 3595, 'faster': 3596, 'justin': 3597, 'niro': 3598, 'ethnic': 3599, 'riot': 3600, 'sympath': 3601, 'intim': 3602, 'goer': 3603, 'resurrect': 3604, 'lumet': 3605, 'choru': 3606, 'partial': 3607, 'nephew': 3608, 'hesit': 3609, 'unreal': 3610, 'commend': 3611, 'region': 3612, 'eager': 3613, 'ensur': 3614, 'dealer': 3615, 'lena': 3616, 'patriot': 3617, 'andr': 3618, 'honesti': 3619, 'hopper': 3620, 'gap': 3621, 'farmer': 3622, 'feminist': 3623, 'weakest': 3624, 'ballet': 3625, 'steam': 3626, 'rider': 3627, 'wheel': 3628, 'wendi': 3629, 'immort': 3630, 'mario': 3631, 'biographi': 3632, 'enlighten': 3633, '00': 3634, 'slick': 3635, 'worm': 3636, 'jonathan': 3637, 'skull': 3638, 'repress': 3639, 'victori': 3640, 'charlott': 3641, 'sappi': 3642, 'morri': 3643, 'confin': 3644, 'nostalg': 3645, 'composit': 3646, 'mutant': 3647, 'util': 3648, 'properti': 3649, 'psychopath': 3650, 'leo': 3651, 'sandra': 3652, 'franco': 3653, 'prequel': 3654, 'snap': 3655, 'wore': 3656, 'blunt': 3657, 'vice': 3658, 'similarli': 3659, 'kingdom': 3660, 'safeti': 3661, 'owen': 3662, 'macarthur': 3663, 'hung': 3664, 'strand': 3665, '1972': 3666, 'compens': 3667, 'pattern': 3668, 'recycl': 3669, 'tad': 3670, 'rope': 3671, 'repli': 3672, 'dalton': 3673, 'bergman': 3674, 'rambl': 3675, 'rocki': 3676, 'miseri': 3677, 'exit': 3678, 'thru': 3679, 'farrel': 3680, 'drum': 3681, 'speci': 3682, 'drain': 3683, 'deed': 3684, 'valuabl': 3685, 'whoopi': 3686, 'tail': 3687, 'kyle': 3688, 'dust': 3689, 'bow': 3690, 'nervou': 3691, 'cg': 3692, 'bumbl': 3693, 'emperor': 3694, 'campbel': 3695, 'montana': 3696, 'bonu': 3697, 'latin': 3698, 'acquir': 3699, 'compass': 3700, 'del': 3701, 'hyde': 3702, 'heartbreak': 3703, 'snl': 3704, 'despair': 3705, 'airport': 3706, 'romp': 3707, 'contempl': 3708, 'orson': 3709, 'oppress': 3710, 'downhil': 3711, 'wacki': 3712, 'tonight': 3713, 'radic': 3714, 'pour': 3715, 'rapist': 3716, 'chess': 3717, 'mistress': 3718, 'gimmick': 3719, 'bleed': 3720, 'slug': 3721, 'gal': 3722, 'rotten': 3723, 'da': 3724, 'martian': 3725, 'roth': 3726, '35': 3727, 'percept': 3728, 'carradin': 3729, 'olli': 3730, 'taught': 3731, '1983': 3732, 'belt': 3733, 'arc': 3734, 'slash': 3735, 'edgar': 3736, 'unpredict': 3737, 'pursuit': 3738, 'attorney': 3739, 'mislead': 3740, 'shelley': 3741, 'pervers': 3742, 'arguabl': 3743, 'stilt': 3744, 'dazzl': 3745, 'preach': 3746, 'paltrow': 3747, 'heal': 3748, 'champion': 3749, 'melodi': 3750, 'tackl': 3751, 'pervert': 3752, 'banal': 3753, 'programm': 3754, 'tooth': 3755, 'vocal': 3756, 'rubi': 3757, 'virginia': 3758, 'closest': 3759, 'passeng': 3760, 'franki': 3761, 'vengeanc': 3762, 'duval': 3763, 'chicken': 3764, 'graham': 3765, 'conneri': 3766, 'raymond': 3767, 'poem': 3768, 'bela': 3769, 'plight': 3770, 'cleverli': 3771, 'uplift': 3772, 'dixon': 3773, 'mesmer': 3774, 'sensat': 3775, 'gambl': 3776, 'maid': 3777, 'employe': 3778, 'tiresom': 3779, 'marti': 3780, 'orang': 3781, 'tube': 3782, 'swallow': 3783, 'numb': 3784, 'habit': 3785, 'pokemon': 3786, 'engross': 3787, 'lundgren': 3788, 'climact': 3789, 'quarter': 3790, 'abraham': 3791, 'extens': 3792, 'clone': 3793, 'secretli': 3794, 'bay': 3795, 'outing': 3796, 'volum': 3797, 'paranoia': 3798, 'calm': 3799, 'profan': 3800, 'convincingli': 3801, 'suffic': 3802, 'inject': 3803, 'gerard': 3804, 'monologu': 3805, 'scottish': 3806, 'amitabh': 3807, 'whine': 3808, 'mute': 3809, '1968': 3810, 'iran': 3811, 'giggl': 3812, 'crystal': 3813, 'sirk': 3814, 'yawn': 3815, 'fed': 3816, 'underst': 3817, 'septemb': 3818, 'earl': 3819, 'lowest': 3820, 'chicago': 3821, 'backward': 3822, 'profess': 3823, 'nichola': 3824, 'meander': 3825, 'grotesqu': 3826, 'frankenstein': 3827, 'im': 3828, 'bend': 3829, 'plod': 3830, 'junior': 3831, 'linger': 3832, 'trend': 3833, 'surpass': 3834, 'richardson': 3835, 'expand': 3836, 'ethan': 3837, 'taxi': 3838, 'dispos': 3839, 'poetri': 3840, 'abort': 3841, 'franci': 3842, 'austen': 3843, 'spock': 3844, 'mundan': 3845, 'sue': 3846, 'econom': 3847, 'simplic': 3848, 'nostalgia': 3849, 'literatur': 3850, 'stallon': 3851, 'catchi': 3852, 'compliment': 3853, 'instrument': 3854, 'myth': 3855, 'spoke': 3856, 'muddl': 3857, 'lure': 3858, 'hum': 3859, 'descent': 3860, 'rant': 3861, 'waitress': 3862, 'household': 3863, 'cannon': 3864, 'rubber': 3865, 'dysfunct': 3866, 'greedi': 3867, 'eugen': 3868, 'der': 3869, 'tourist': 3870, 'louis': 3871, 'carel': 3872, 'omen': 3873, 'alongsid': 3874, 'hello': 3875, 'recognit': 3876, 'stale': 3877, 'phantom': 3878, 'mankind': 3879, 'occupi': 3880, 'bacal': 3881, 'sissi': 3882, 'mortal': 3883, 'recognis': 3884, 'molli': 3885, 'phoni': 3886, 'cent': 3887, 'deaf': 3888, 'crucial': 3889, 'dement': 3890, 'map': 3891, 'dictat': 3892, 'furi': 3893, 'randi': 3894, 'damon': 3895, 'duck': 3896, 'june': 3897, 'eaten': 3898, 'insur': 3899, 'flee': 3900, 'equival': 3901, 'coast': 3902, 'lang': 3903, 'irrelev': 3904, 'firstli': 3905, 'onlin': 3906, 'likewis': 3907, 'ashley': 3908, 'damm': 3909, 'blackmail': 3910, 'wisdom': 3911, '1973': 3912, 'daisi': 3913, 'loyalti': 3914, 'heel': 3915, 'lengthi': 3916, 'antwon': 3917, 'newli': 3918, 'reign': 3919, 'rude': 3920, 'buffalo': 3921, 'freez': 3922, 'cyborg': 3923, 'twilight': 3924, 'grayson': 3925, 'drake': 3926, 'bump': 3927, 'dreari': 3928, 'labor': 3929, 'bike': 3930, 'distinguish': 3931, 'rooney': 3932, 'biko': 3933, 'emphas': 3934, 'sailor': 3935, 'barrymor': 3936, 'startl': 3937, 'ridden': 3938, 'baddi': 3939, 'boxer': 3940, 'nineti': 3941, 'inher': 3942, 'pink': 3943, 'attribut': 3944, 'provoc': 3945, 'keith': 3946, 'approv': 3947, 'butler': 3948, 'interior': 3949, 'chronicl': 3950, 'tunnel': 3951, 'exposur': 3952, 'prey': 3953, 'analysi': 3954, 'incorpor': 3955, 'unorigin': 3956, 'worn': 3957, 'proce': 3958, 'vein': 3959, 'basketbal': 3960, 'elm': 3961, 'substitut': 3962, 'millionair': 3963, 'fleet': 3964, 'degrad': 3965, 'stalker': 3966, 'walsh': 3967, 'mighti': 3968, 'carla': 3969, 'condemn': 3970, 'barrel': 3971, 'othello': 3972, 'underli': 3973, 'robbin': 3974, 'indiffer': 3975, 'predat': 3976, 'er': 3977, 'bunni': 3978, 'undeni': 3979, 'drift': 3980, 'meg': 3981, 'meyer': 3982, 'improvis': 3983, 'nicol': 3984, 'simmon': 3985, 'hypnot': 3986, 'belushi': 3987, 'unrel': 3988, 'mormon': 3989, 'julian': 3990, 'enthusiasm': 3991, 'warmth': 3992, 'firm': 3993, 'agenda': 3994, 'edgi': 3995, 'roof': 3996, 'exquisit': 3997, 'disord': 3998, 'mtv': 3999, 'greed': 4000, 'marion': 4001, 'hay': 4002, 'alarm': 4003, 'unawar': 4004, 'dolph': 4005, 'shove': 4006, '3d': 4007, 'priceless': 4008, 'nyc': 4009, 'rukh': 4010, 'palac': 4011, 'errol': 4012, 'lampoon': 4013, 'vital': 4014, 'alison': 4015, 'watson': 4016, 'reid': 4017, 'novak': 4018, 'showdown': 4019, 'minimum': 4020, 'zizek': 4021, 'eastern': 4022, 'peril': 4023, 'campaign': 4024, '13th': 4025, 'pamela': 4026, 'distort': 4027, 'simultan': 4028, 'petti': 4029, 'gestur': 4030, 'ponder': 4031, 'spain': 4032, 'angela': 4033, 'session': 4034, 'glanc': 4035, 'preserv': 4036, 'coup': 4037, '1933': 4038, 'what': 4039, 'beatl': 4040, 'cassidi': 4041, 'peck': 4042, 'valentin': 4043, 'orlean': 4044, 'unleash': 4045, 'thompson': 4046, 'israel': 4047, 'drip': 4048, 'crown': 4049, 'iraq': 4050, 'randomli': 4051, 'testament': 4052, 'profit': 4053, 'nun': 4054, 'championship': 4055, 'sergeant': 4056, '1984': 4057, 'scotland': 4058, 'exposit': 4059, 'stroke': 4060, 'travesti': 4061, 'calib': 4062, 'bro': 4063, 'crow': 4064, 'perpetu': 4065, 'brenda': 4066, 'han': 4067, 'gentleman': 4068, 'quinn': 4069, 'wig': 4070, 'represent': 4071, 'shootout': 4072, 'miyazaki': 4073, 'sabrina': 4074, 'cream': 4075, 'contradict': 4076, 'valley': 4077, 'jan': 4078, 'regist': 4079, 'restrain': 4080, 'din': 4081, 'stake': 4082, 'reson': 4083, 'rout': 4084, 'realm': 4085, 'empathi': 4086, 'buster': 4087, 'mon': 4088, 'unimagin': 4089, 'crawl': 4090, 'climat': 4091, 'cooki': 4092, 'kurosawa': 4093, 'fido': 4094, 'passabl': 4095, 'compromis': 4096, 'ross': 4097, 'perceiv': 4098, 'soderbergh': 4099, 'cloud': 4100, 'unseen': 4101, 'spacey': 4102, 'demis': 4103, 'censor': 4104, 'delic': 4105, 'absent': 4106, 'pole': 4107, 'tacki': 4108, 'stargat': 4109, 'mclaglen': 4110, 'businessman': 4111, '1987': 4112, 'fuller': 4113, '1997': 4114, 'painter': 4115, 'pretens': 4116, 'derang': 4117, 'shoddi': 4118, 'geek': 4119, 'shaki': 4120, 'monoton': 4121, 'meryl': 4122, 'traumat': 4123, 'josh': 4124, 'unsatisfi': 4125, 'ustinov': 4126, 'wax': 4127, 'dana': 4128, 'greg': 4129, 'sammi': 4130, 'sucker': 4131, 'crawford': 4132, 'distress': 4133, 'darren': 4134, 'baldwin': 4135, 'abomin': 4136, 'femm': 4137, 'warrant': 4138, 'seal': 4139, 'primit': 4140, 'exclus': 4141, '1993': 4142, 'judgment': 4143, 'uncov': 4144, 'deniro': 4145, 'anchor': 4146, 'furiou': 4147, 'norm': 4148, 'dee': 4149, 'wholli': 4150, 'deceas': 4151, 'jewel': 4152, 'valid': 4153, 'austin': 4154, 'correctli': 4155, 'accuraci': 4156, 'click': 4157, 'tarantino': 4158, 'verbal': 4159, 'clash': 4160, 'polici': 4161, 'tech': 4162, 'fog': 4163, 'expedit': 4164, 'nathan': 4165, 'fenc': 4166, 'unravel': 4167, 'kumar': 4168, 'reluct': 4169, 'antonioni': 4170, 'sid': 4171, 'shanghai': 4172, 'fabric': 4173, 'crippl': 4174, 'wretch': 4175, 'patienc': 4176, 'hallucin': 4177, 'bake': 4178, '2008': 4179, '3000': 4180, 'clerk': 4181, 'murray': 4182, '1995': 4183, 'tax': 4184, 'debt': 4185, 'sunni': 4186, 'mode': 4187, 'sheet': 4188, 'slam': 4189, 'pocket': 4190, 'malon': 4191, 'fought': 4192, 'dreck': 4193, 'behold': 4194, 'temper': 4195, 'wang': 4196, 'sustain': 4197, 'roller': 4198, 'joel': 4199, 'sand': 4200, 'seldom': 4201, '1971': 4202, 'ritual': 4203, 'vanc': 4204, 'fart': 4205, 'enforc': 4206, 'darn': 4207, 'nicola': 4208, 'unfair': 4209, 'trait': 4210, 'logan': 4211, 'alec': 4212, 'conduct': 4213, 'despis': 4214, 'pete': 4215, 'critiqu': 4216, 'preston': 4217, 'canyon': 4218, 'fundament': 4219, 'shell': 4220, 'guitar': 4221, 'exhaust': 4222, 'technicolor': 4223, 'soup': 4224, 'divid': 4225, 'outlin': 4226, 'helpless': 4227, 'bias': 4228, 'grief': 4229, 'stuart': 4230, 'rita': 4231, 'clau': 4232, 'schedul': 4233, 'legaci': 4234, 'scriptwrit': 4235, 'preposter': 4236, 'stark': 4237, 'tactic': 4238, 'sweep': 4239, 'conscious': 4240, 'robber': 4241, 'isabel': 4242, 'penni': 4243, 'phil': 4244, 'squad': 4245, 'runner': 4246, 'bridget': 4247, 'culmin': 4248, 'cigarett': 4249, 'lacklust': 4250, 'flair': 4251, 'jodi': 4252, 'bloom': 4253, 'downey': 4254, 'unexpectedli': 4255, 'connor': 4256, 'implic': 4257, 'consciou': 4258, 'liberti': 4259, 'agenc': 4260, 'vomit': 4261, 'boyl': 4262, 'newman': 4263, 'marc': 4264, 'rear': 4265, 'restrict': 4266, 'russia': 4267, 'sugar': 4268, 'passag': 4269, 'delv': 4270, 'drove': 4271, 'alicia': 4272, 'rehash': 4273, 'invad': 4274, 'kansa': 4275, 'jacket': 4276, 'gregori': 4277, 'inabl': 4278, 'propos': 4279, 'palanc': 4280, 'alley': 4281, 'sniper': 4282, 'sentinel': 4283, 'tripe': 4284, 'foxx': 4285, 'behaviour': 4286, 'awhil': 4287, 'rampag': 4288, 'feat': 4289, 'sharon': 4290, '1936': 4291, 'cap': 4292, '22': 4293, 'horn': 4294, 'wrench': 4295, 'rod': 4296, 'lush': 4297, 'asylum': 4298, 'mccoy': 4299, 'tendenc': 4300, 'pale': 4301, 'aesthet': 4302, 'vet': 4303, 'yeti': 4304, 'karl': 4305, 'kolchak': 4306, 'bacon': 4307, 'rehears': 4308, 'chainsaw': 4309, 'improb': 4310, 'arrow': 4311, 'ladder': 4312, 'delet': 4313, 'rumor': 4314, 'hackney': 4315, 'elit': 4316, '1920': 4317, 'prank': 4318, 'minu': 4319, '1978': 4320, 'rhythm': 4321, 'fright': 4322, 'el': 4323, 'hungri': 4324, 'globe': 4325, 'financ': 4326, 'paradis': 4327, 'conscienc': 4328, 'shortcom': 4329, 'wildli': 4330, 'underneath': 4331, 'newcom': 4332, 'visitor': 4333, 'wagner': 4334, 'filler': 4335, 'paramount': 4336, 'stream': 4337, 'lurk': 4338, 'coaster': 4339, 'thunderbird': 4340, 'spice': 4341, 'weav': 4342, 'amazon': 4343, '1988': 4344, 'suspicion': 4345, 'suffici': 4346, 'sung': 4347, 'aristocrat': 4348, '19th': 4349, 'scoop': 4350, 'tomorrow': 4351, 'tasteless': 4352, 'basing': 4353, 'hulk': 4354, 'loneli': 4355, '1989': 4356, 'penn': 4357, 'choppi': 4358, '75': 4359, 'rub': 4360, 'recogniz': 4361, 'heist': 4362, 'impos': 4363, 'en': 4364, 'entranc': 4365, 'worship': 4366, 'lectur': 4367, 'cancer': 4368, 'counterpart': 4369, 'secondari': 4370, 'smell': 4371, 'abrupt': 4372, 'teas': 4373, 'springer': 4374, 'immers': 4375, 'chamberlain': 4376, 'inmat': 4377, 'literari': 4378, 'naughti': 4379, 'chavez': 4380, 'paxton': 4381, 'tierney': 4382, 'standout': 4383, 'atroc': 4384, 'iv': 4385, '1939': 4386, 'couch': 4387, 'ingeni': 4388, 'straightforward': 4389, 'wwe': 4390, 'ram': 4391, 'brit': 4392, 'posey': 4393, 'minist': 4394, 'leigh': 4395, 'curli': 4396, 'bread': 4397, 'quietli': 4398, 'beverli': 4399, 'grudg': 4400, 'dirt': 4401, 'hopkin': 4402, 'policeman': 4403, 'cattl': 4404, '1986': 4405, 'sublim': 4406, 'variat': 4407, 'ace': 4408, 'missil': 4409, 'net': 4410, 'misguid': 4411, 'attenborough': 4412, 'laurenc': 4413, 'yearn': 4414, 'lindsay': 4415, 'moreov': 4416, 'injuri': 4417, 'geni': 4418, 'heartfelt': 4419, 'enthral': 4420, 'nemesi': 4421, 'sassi': 4422, 'duel': 4423, 'morbid': 4424, 'convert': 4425, 'quaid': 4426, 'skeptic': 4427, 'transcend': 4428, 'bernard': 4429, 'clan': 4430, 'watcher': 4431, 'nolan': 4432, 'entitl': 4433, 'esther': 4434, 'ratso': 4435, 'brood': 4436, 'hopelessli': 4437, 'obstacl': 4438, 'uncut': 4439, 'egg': 4440, 'youngest': 4441, 'cruelti': 4442, 'steadi': 4443, 'dont': 4444, 'reliabl': 4445, 'bean': 4446, 'unexplain': 4447, 'out': 4448, 'enabl': 4449, 'vader': 4450, 'diari': 4451, 'buzz': 4452, '1979': 4453, 'graini': 4454, 'poe': 4455, 'hk': 4456, 'characteris': 4457, 'spiral': 4458, 'puppi': 4459, 'tyler': 4460, 'mytholog': 4461, 'facil': 4462, 'kidman': 4463, 'kitti': 4464, 'moder': 4465, 'grin': 4466, 'artsi': 4467, 'bye': 4468, 'rosemari': 4469, 'carlito': 4470, 'setup': 4471, 'bewar': 4472, 'bounc': 4473, 'niec': 4474, 'acquaint': 4475, 'disastr': 4476, 'martha': 4477, 'exterior': 4478, 'despic': 4479, 'hain': 4480, 'narrow': 4481, 'kline': 4482, 'hammi': 4483, 'gina': 4484, 'bronson': 4485, 'baffl': 4486, 'effici': 4487, 'clueless': 4488, 'patricia': 4489, 'fuel': 4490, 'heap': 4491, 'christin': 4492, 'preming': 4493, 'athlet': 4494, 'weather': 4495, 'sweat': 4496, 'underworld': 4497, 'decept': 4498, 'oblig': 4499, 'gillian': 4500, 'spontan': 4501, '1969': 4502, 'brendan': 4503, 'suprem': 4504, '73': 4505, 'fontain': 4506, 'outlaw': 4507, '19': 4508, 'virtu': 4509, 'enlist': 4510, 'mayhem': 4511, 'circu': 4512, 'shatter': 4513, 'dilemma': 4514, 'tick': 4515, 'sooner': 4516, 'goof': 4517, 'preachi': 4518, 'loath': 4519, 'loi': 4520, 'harmless': 4521, 'scar': 4522, 'headach': 4523, 'mermaid': 4524, 'astound': 4525, 'rome': 4526, 'analyz': 4527, 'insipid': 4528, 'taboo': 4529, 'angst': 4530, 'dandi': 4531, 'uh': 4532, 'lester': 4533, 'renaiss': 4534, 'viewpoint': 4535, 'trigger': 4536, 'housewif': 4537, 'sleepwalk': 4538, 'injur': 4539, 'candl': 4540, 'biker': 4541, 'hepburn': 4542, 'stair': 4543, 'slimi': 4544, 'hostag': 4545, 'spade': 4546, 'hooker': 4547, 'claustrophob': 4548, 'hokey': 4549, 'zoom': 4550, 'stimul': 4551, 'idol': 4552, 'contempt': 4553, 'whore': 4554, 'amor': 4555, 'redund': 4556, 'filth': 4557, 'fluff': 4558, 'phenomenon': 4559, 'intric': 4560, 'boston': 4561, 'overlong': 4562, 'salt': 4563, 'steer': 4564, 'foolish': 4565, 'surgeri': 4566, 'ebert': 4567, 'macho': 4568, 'oldest': 4569, 'scorses': 4570, 'immatur': 4571, 'camcord': 4572, 'dish': 4573, 'corbett': 4574, 'ariel': 4575, 'cassavet': 4576, 'bent': 4577, 'dismal': 4578, 'glorifi': 4579, 'gere': 4580, 'guin': 4581, 'sox': 4582, 'tripl': 4583, 'joker': 4584, 'alvin': 4585, 'widescreen': 4586, 'astronaut': 4587, 'rhyme': 4588, 'down': 4589, 'antagonist': 4590, 'keen': 4591, 'cohen': 4592, 'obligatori': 4593, 'trivia': 4594, 'proport': 4595, 'flag': 4596, 'zane': 4597, 'schlock': 4598, '1981': 4599, 'nolt': 4600, 'cow': 4601, 'messi': 4602, '1976': 4603, 'perman': 4604, 'beard': 4605, 'fascist': 4606, 'margin': 4607, 'cush': 4608, 'transplant': 4609, 'strongest': 4610, 'preced': 4611, 'shield': 4612, 'conquer': 4613, 'harold': 4614, 'mount': 4615, 'frantic': 4616, 'gabl': 4617, 'remad': 4618, 'mutual': 4619, 'faint': 4620, 'flashi': 4621, 'assert': 4622, 'gasp': 4623, 'spree': 4624, 'radiat': 4625, 'corman': 4626, 'muscl': 4627, 'dwarf': 4628, 'flirt': 4629, 'shred': 4630, 'naschi': 4631, 'spinal': 4632, 'departur': 4633, 'bitten': 4634, 'danish': 4635, 'divin': 4636, 'discern': 4637, 'flock': 4638, 'neurot': 4639, 'boob': 4640, 'persuad': 4641, '28': 4642, 'barn': 4643, 'deer': 4644, 'brush': 4645, 'mobil': 4646, 'interestingli': 4647, 'mol': 4648, 'vaniti': 4649, 'inflict': 4650, 'fishburn': 4651, '1945': 4652, 'resum': 4653, '95': 4654, 'carey': 4655, 'bachelor': 4656, 'archiv': 4657, 'wield': 4658, 'ritchi': 4659, 'hara': 4660, 'www': 4661, 'info': 4662, 'claud': 4663, 'aborigin': 4664, 'instruct': 4665, 'strive': 4666, 'repris': 4667, 'scandal': 4668, 'off': 4669, 'raj': 4670, 'triangl': 4671, 'sensual': 4672, 'someday': 4673, 'cycl': 4674, 'pacif': 4675, 'vibrant': 4676, 'cliffhang': 4677, 'hapless': 4678, 'earnest': 4679, 'axe': 4680, 'biblic': 4681, 'ish': 4682, 'cher': 4683, 'loretta': 4684, 'undermin': 4685, 'artwork': 4686, 'dylan': 4687, 'harrison': 4688, 'helm': 4689, 'dim': 4690, 'fragil': 4691, 'recit': 4692, 'europa': 4693, 'rot': 4694, 'pixar': 4695, 'timberlak': 4696, 'wendigo': 4697, 'neill': 4698, 'submit': 4699, 'banter': 4700, 'prophet': 4701, 'heartwarm': 4702, 'hug': 4703, 'dame': 4704, 'melissa': 4705, 'mobster': 4706, 'anton': 4707, 'colin': 4708, 'casino': 4709, 'miracul': 4710, 'pickford': 4711, 'frontier': 4712, 'clad': 4713, 'kathryn': 4714, 'bate': 4715, 'carlo': 4716, 'hilar': 4717, 'jade': 4718, 'parson': 4719, 'senior': 4720, 'traffic': 4721, 'luka': 4722, 'proclaim': 4723, 'cb': 4724, 'foil': 4725, 'northern': 4726, 'jordan': 4727, 'electron': 4728, 'mason': 4729, 'estrang': 4730, 'orphan': 4731, 'isra': 4732, 'seedi': 4733, 'feast': 4734, 'eli': 4735, 'wardrob': 4736, 'articl': 4737, 'razor': 4738, 'holocaust': 4739, 'uma': 4740, 'aris': 4741, 'lui': 4742, 'bikini': 4743, 'trier': 4744, 'toronto': 4745, 'antholog': 4746, 'static': 4747, 'venom': 4748, 'vanessa': 4749, 'marlon': 4750, 'redneck': 4751, 'flavor': 4752, 'bondag': 4753, 'winchest': 4754, 'shepherd': 4755, 'breakfast': 4756, 'vile': 4757, 'lucil': 4758, 'blatantli': 4759, 'misfortun': 4760, 'alexandr': 4761, 'illus': 4762, 'nope': 4763, 'jo': 4764, 'http': 4765, 'akin': 4766, 'choke': 4767, 'milo': 4768, 'sicken': 4769, 'legitim': 4770, 'cerebr': 4771, 'mathieu': 4772, 'token': 4773, 'pc': 4774, 'rooki': 4775, 'peer': 4776, 'psych': 4777, 'feminin': 4778, 'outdat': 4779, 'styliz': 4780, 'retriev': 4781, 'oppon': 4782, 'nightclub': 4783, 'charlton': 4784, 'disregard': 4785, 'gilbert': 4786, 'swept': 4787, 'knightley': 4788, 'wrestler': 4789, 'deem': 4790, 'abund': 4791, 'leather': 4792, 'gunga': 4793, 'howl': 4794, 'magician': 4795, 'affleck': 4796, 'shorter': 4797, 'huston': 4798, 'ceremoni': 4799, 'linear': 4800, 'cartoonish': 4801, 'turd': 4802, 'audrey': 4803, 'dudley': 4804, 'fifth': 4805, 'boyer': 4806, 'smack': 4807, 'tack': 4808, 'ideolog': 4809, 'clinic': 4810, 'highway': 4811, 'frog': 4812, 'comprehend': 4813, 'glare': 4814, 'tara': 4815, '1991': 4816, 'energet': 4817, 'chip': 4818, 'evolut': 4819, 'moe': 4820, 'btw': 4821, '4th': 4822, 'summar': 4823, 'breakdown': 4824, 'sleaz': 4825, 'client': 4826, 'uniformli': 4827, 'corn': 4828, 'potter': 4829, 'salman': 4830, 'compris': 4831, 'conrad': 4832, 'spine': 4833, 'whack': 4834, 'boo': 4835, 'braveheart': 4836, 'greet': 4837, 'durat': 4838, 'deliver': 4839, 'lifeless': 4840, 'snatch': 4841, 'toe': 4842, 'goldsworthi': 4843, 'einstein': 4844, 'bastard': 4845, 'phenomen': 4846, 'bogu': 4847, 'lighter': 4848, 'lavish': 4849, 'spawn': 4850, 'cuban': 4851, 'newer': 4852, 'mitch': 4853, '1994': 4854, 'collector': 4855, 'cemeteri': 4856, 'plate': 4857, 'senat': 4858, 'monument': 4859, 'alleg': 4860, 'signal': 4861, 'randolph': 4862, 'ol': 4863, '1974': 4864, 'jedi': 4865, 'lex': 4866, 'clara': 4867, 'belli': 4868, 'firmli': 4869, 'wtf': 4870, 'ie': 4871, 'bulk': 4872, 'constitut': 4873, 'replay': 4874, 'nina': 4875, 'outright': 4876, 'embark': 4877, 'jare': 4878, 'spectacl': 4879, 'historian': 4880, 'capot': 4881, 'eleven': 4882, 'inaccuraci': 4883, 'sorrow': 4884, 'kazan': 4885, 'evelyn': 4886, 'luxuri': 4887, 'bori': 4888, 'undead': 4889, 'kent': 4890, 'occup': 4891, 'judd': 4892, 'jule': 4893, 'healthi': 4894, 'undertak': 4895, 'cecil': 4896, 'neatli': 4897, '1977': 4898, 'pronounc': 4899, 'appl': 4900, 'jam': 4901, 'liu': 4902, 'armstrong': 4903, 'trauma': 4904, 'fluid': 4905, 'creek': 4906, 'gilliam': 4907, 'mcqueen': 4908, 'miami': 4909, 'porter': 4910, 'abound': 4911, 'galaxi': 4912, 'basket': 4913, 'walt': 4914, 'comprehens': 4915, 'lanc': 4916, 'fruit': 4917, 'vain': 4918, 'ash': 4919, 'kiddi': 4920, 'subtli': 4921, 'lauren': 4922, 'comb': 4923, 'inclus': 4924, 'roar': 4925, 'meal': 4926, 'unsuspect': 4927, 'cape': 4928, 'blur': 4929, 'unattract': 4930, 'decapit': 4931, 'forgiven': 4932, 'curtain': 4933, 'inaccur': 4934, 'groan': 4935, 'truman': 4936, 'mum': 4937, 'bait': 4938, 'antonio': 4939, 'knee': 4940, 'sidewalk': 4941, 'propheci': 4942, 'vignett': 4943, 'paula': 4944, 'congratul': 4945, 'rosario': 4946, 'poker': 4947, 'spray': 4948, 'miniseri': 4949, 'id': 4950, 'pepper': 4951, 'sacrif': 4952, '1985': 4953, 'palm': 4954, 'relentless': 4955, 'tokyo': 4956, 'carmen': 4957, 'pioneer': 4958, 'conan': 4959, 'aussi': 4960, 'goldblum': 4961, 'genet': 4962, 'bsg': 4963, 'victorian': 4964, 'weaker': 4965, 'rapidli': 4966, 'turtl': 4967, 'drone': 4968, 'playboy': 4969, 'profil': 4970, 'reincarn': 4971, 'asset': 4972, 'spill': 4973, 'vastli': 4974, 'frontal': 4975, 'orchestr': 4976, 'jill': 4977, 'scariest': 4978, 'casper': 4979, 'sophi': 4980, 'mice': 4981, 'incorrect': 4982, 'ghetto': 4983, 'evan': 4984, 'monti': 4985, 'cypher': 4986, 'bravo': 4987, 'dubiou': 4988, 'ingrid': 4989, 'sparkl': 4990, 'omin': 4991, 'modest': 4992, 'hostil': 4993, 'masterson': 4994, 'hackman': 4995, 'detach': 4996, 'verg': 4997, 'macabr': 4998, 'epitom': 4999}\n"
     ]
    }
   ],
   "source": [
    "word_dict = build_dict(train_X)"
   ]
  },
  {
   "cell_type": "markdown",
   "metadata": {},
   "source": [
    "**Question:** What are the five most frequently appearing (tokenized) words in the training set? Does it makes sense that these words appear frequently in the training set?"
   ]
  },
  {
   "cell_type": "markdown",
   "metadata": {},
   "source": [
    "**Answer:**\n",
    "\n",
    "1-movi\n",
    "2-film\n",
    "3-one\n",
    "4-like\n",
    "5-time\n"
   ]
  },
  {
   "cell_type": "code",
   "execution_count": 16,
   "metadata": {},
   "outputs": [
    {
     "name": "stdout",
     "output_type": "stream",
     "text": [
      "movi\n",
      "film\n",
      "one\n",
      "like\n",
      "time\n"
     ]
    }
   ],
   "source": [
    "# TODO: Use this space to determine the five most frequently appearing words in the training set.\n",
    "\n",
    "for x in list(word_dict)[0:5]:\n",
    "    print (x)"
   ]
  },
  {
   "cell_type": "markdown",
   "metadata": {},
   "source": [
    "### Save `word_dict`\n",
    "\n",
    "Later on when we construct an endpoint which processes a submitted review we will need to make use of the `word_dict` which we have created. As such, we will save it to a file now for future use."
   ]
  },
  {
   "cell_type": "code",
   "execution_count": 17,
   "metadata": {},
   "outputs": [],
   "source": [
    "data_dir = '../data/pytorch' # The folder we will use for storing data\n",
    "if not os.path.exists(data_dir): # Make sure that the folder exists\n",
    "    os.makedirs(data_dir)"
   ]
  },
  {
   "cell_type": "code",
   "execution_count": 18,
   "metadata": {},
   "outputs": [],
   "source": [
    "with open(os.path.join(data_dir, 'word_dict.pkl'), \"wb\") as f:\n",
    "    pickle.dump(word_dict, f)"
   ]
  },
  {
   "cell_type": "markdown",
   "metadata": {},
   "source": [
    "### Transform the reviews\n",
    "\n",
    "Now that we have our word dictionary which allows us to transform the words appearing in the reviews into integers, it is time to make use of it and convert our reviews to their integer sequence representation, making sure to pad or truncate to a fixed length, which in our case is `500`."
   ]
  },
  {
   "cell_type": "code",
   "execution_count": 19,
   "metadata": {},
   "outputs": [],
   "source": [
    "def convert_and_pad(word_dict, sentence, pad=500):\n",
    "    NOWORD = 0 # We will use 0 to represent the 'no word' category\n",
    "    INFREQ = 1 # and we use 1 to represent the infrequent words, i.e., words not appearing in word_dict\n",
    "    \n",
    "    working_sentence = [NOWORD] * pad\n",
    "    \n",
    "    for word_index, word in enumerate(sentence[:pad]):\n",
    "        if word in word_dict:\n",
    "            working_sentence[word_index] = word_dict[word]\n",
    "        else:\n",
    "            working_sentence[word_index] = INFREQ\n",
    "            \n",
    "    return working_sentence, min(len(sentence), pad)\n",
    "\n",
    "def convert_and_pad_data(word_dict, data, pad=500):\n",
    "    result = []\n",
    "    lengths = []\n",
    "    \n",
    "    for sentence in data:\n",
    "        converted, leng = convert_and_pad(word_dict, sentence, pad)\n",
    "        result.append(converted)\n",
    "        lengths.append(leng)\n",
    "        \n",
    "    return np.array(result), np.array(lengths)"
   ]
  },
  {
   "cell_type": "code",
   "execution_count": 20,
   "metadata": {},
   "outputs": [],
   "source": [
    "train_X, train_X_len = convert_and_pad_data(word_dict, train_X)\n",
    "test_X, test_X_len = convert_and_pad_data(word_dict, test_X)"
   ]
  },
  {
   "cell_type": "markdown",
   "metadata": {},
   "source": [
    "As a quick check to make sure that things are working as intended, check to see what one of the reviews in the training set looks like after having been processeed. Does this look reasonable? What is the length of a review in the training set?"
   ]
  },
  {
   "cell_type": "code",
   "execution_count": 21,
   "metadata": {},
   "outputs": [
    {
     "name": "stdout",
     "output_type": "stream",
     "text": [
      "[   5   46   26  123   71   35 2590 1159    3  672  514 1110   71  775\n",
      "   97  114  421  895 3311 1159  347   65 3416  136  663   44  358  152\n",
      " 1288  227    1    3  228  317  447  773   73  313  110   15  372  113\n",
      "  271    1    1    1    1   41 2258 1740  675   28 3028  101  508 1781\n",
      "   15  660   46 1954    3  219  108    8    5   65   14   72    2  672\n",
      "  514 1110   57   97  189  621  609 2783  421    0    0    0    0    0\n",
      "    0    0    0    0    0    0    0    0    0    0    0    0    0    0\n",
      "    0    0    0    0    0    0    0    0    0    0    0    0    0    0\n",
      "    0    0    0    0    0    0    0    0    0    0    0    0    0    0\n",
      "    0    0    0    0    0    0    0    0    0    0    0    0    0    0\n",
      "    0    0    0    0    0    0    0    0    0    0    0    0    0    0\n",
      "    0    0    0    0    0    0    0    0    0    0    0    0    0    0\n",
      "    0    0    0    0    0    0    0    0    0    0    0    0    0    0\n",
      "    0    0    0    0    0    0    0    0    0    0    0    0    0    0\n",
      "    0    0    0    0    0    0    0    0    0    0    0    0    0    0\n",
      "    0    0    0    0    0    0    0    0    0    0    0    0    0    0\n",
      "    0    0    0    0    0    0    0    0    0    0    0    0    0    0\n",
      "    0    0    0    0    0    0    0    0    0    0    0    0    0    0\n",
      "    0    0    0    0    0    0    0    0    0    0    0    0    0    0\n",
      "    0    0    0    0    0    0    0    0    0    0    0    0    0    0\n",
      "    0    0    0    0    0    0    0    0    0    0    0    0    0    0\n",
      "    0    0    0    0    0    0    0    0    0    0    0    0    0    0\n",
      "    0    0    0    0    0    0    0    0    0    0    0    0    0    0\n",
      "    0    0    0    0    0    0    0    0    0    0    0    0    0    0\n",
      "    0    0    0    0    0    0    0    0    0    0    0    0    0    0\n",
      "    0    0    0    0    0    0    0    0    0    0    0    0    0    0\n",
      "    0    0    0    0    0    0    0    0    0    0    0    0    0    0\n",
      "    0    0    0    0    0    0    0    0    0    0    0    0    0    0\n",
      "    0    0    0    0    0    0    0    0    0    0    0    0    0    0\n",
      "    0    0    0    0    0    0    0    0    0    0    0    0    0    0\n",
      "    0    0    0    0    0    0    0    0    0    0    0    0    0    0\n",
      "    0    0    0    0    0    0    0    0    0    0    0    0    0    0\n",
      "    0    0    0    0    0    0    0    0    0    0    0    0    0    0\n",
      "    0    0    0    0    0    0    0    0    0    0    0    0    0    0\n",
      "    0    0    0    0    0    0    0    0    0    0    0    0    0    0\n",
      "    0    0    0    0    0    0    0    0    0    0]\n",
      "500\n"
     ]
    }
   ],
   "source": [
    "# Use this cell to examine one of the processed reviews to make sure everything is working as intended.\n",
    "\n",
    "print(train_X[4])\n",
    "print(len(train_X[4]))"
   ]
  },
  {
   "cell_type": "markdown",
   "metadata": {},
   "source": [
    "**Question:** In the cells above we use the `preprocess_data` and `convert_and_pad_data` methods to process both the training and testing set. Why or why not might this be a problem?"
   ]
  },
  {
   "cell_type": "markdown",
   "metadata": {},
   "source": [
    "**Answer:**\n",
    "\n",
    "In training and testing data should be processed in the same way as when we have data from the users\n",
    "to ensure that they consist of the same preprocess "
   ]
  },
  {
   "cell_type": "markdown",
   "metadata": {},
   "source": [
    "## Step 3: Upload the data to S3\n",
    "\n",
    "As in the XGBoost notebook, we will need to upload the training dataset to S3 in order for our training code to access it. For now we will save it locally and we will upload to S3 later on.\n",
    "\n",
    "### Save the processed training dataset locally\n",
    "\n",
    "It is important to note the format of the data that we are saving as we will need to know it when we write the training code. In our case, each row of the dataset has the form `label`, `length`, `review[500]` where `review[500]` is a sequence of `500` integers representing the words in the review."
   ]
  },
  {
   "cell_type": "code",
   "execution_count": 22,
   "metadata": {},
   "outputs": [],
   "source": [
    "import pandas as pd\n",
    "    \n",
    "pd.concat([pd.DataFrame(train_y), pd.DataFrame(train_X_len), pd.DataFrame(train_X)], axis=1) \\\n",
    "        .to_csv(os.path.join(data_dir, 'train.csv'), header=False, index=False)"
   ]
  },
  {
   "cell_type": "markdown",
   "metadata": {},
   "source": [
    "### Uploading the training data\n",
    "\n",
    "\n",
    "Next, we need to upload the training data to the SageMaker default S3 bucket so that we can provide access to it while training our model."
   ]
  },
  {
   "cell_type": "code",
   "execution_count": 23,
   "metadata": {},
   "outputs": [],
   "source": [
    "import sagemaker\n",
    "\n",
    "sagemaker_session = sagemaker.Session()\n",
    "\n",
    "bucket = sagemaker_session.default_bucket()\n",
    "prefix = 'sagemaker/sentiment_rnn'\n",
    "\n",
    "role = sagemaker.get_execution_role()"
   ]
  },
  {
   "cell_type": "code",
   "execution_count": 24,
   "metadata": {},
   "outputs": [],
   "source": [
    "input_data = sagemaker_session.upload_data(path=data_dir, bucket=bucket, key_prefix=prefix)"
   ]
  },
  {
   "cell_type": "markdown",
   "metadata": {},
   "source": [
    "**NOTE:** The cell above uploads the entire contents of our data directory. This includes the `word_dict.pkl` file. This is fortunate as we will need this later on when we create an endpoint that accepts an arbitrary review. For now, we will just take note of the fact that it resides in the data directory (and so also in the S3 training bucket) and that we will need to make sure it gets saved in the model directory."
   ]
  },
  {
   "cell_type": "markdown",
   "metadata": {},
   "source": [
    "## Step 4: Build and Train the PyTorch Model\n",
    "\n",
    "In the XGBoost notebook we discussed what a model is in the SageMaker framework. In particular, a model comprises three objects\n",
    "\n",
    " - Model Artifacts,\n",
    " - Training Code, and\n",
    " - Inference Code,\n",
    " \n",
    "each of which interact with one another. In the XGBoost example we used training and inference code that was provided by Amazon. Here we will still be using containers provided by Amazon with the added benefit of being able to include our own custom code.\n",
    "\n",
    "We will start by implementing our own neural network in PyTorch along with a training script. For the purposes of this project we have provided the necessary model object in the `model.py` file, inside of the `train` folder. You can see the provided implementation by running the cell below."
   ]
  },
  {
   "cell_type": "code",
   "execution_count": 25,
   "metadata": {},
   "outputs": [
    {
     "name": "stdout",
     "output_type": "stream",
     "text": [
      "\u001b[34mimport\u001b[39;49;00m \u001b[04m\u001b[36mtorch\u001b[39;49;00m\u001b[04m\u001b[36m.\u001b[39;49;00m\u001b[04m\u001b[36mnn\u001b[39;49;00m \u001b[34mas\u001b[39;49;00m \u001b[04m\u001b[36mnn\u001b[39;49;00m\r\n",
      "\r\n",
      "\u001b[34mclass\u001b[39;49;00m \u001b[04m\u001b[32mLSTMClassifier\u001b[39;49;00m(nn.Module):\r\n",
      "    \u001b[33m\"\"\"\u001b[39;49;00m\r\n",
      "\u001b[33m    This is the simple RNN model we will be using to perform Sentiment Analysis.\u001b[39;49;00m\r\n",
      "\u001b[33m    \"\"\"\u001b[39;49;00m\r\n",
      "\r\n",
      "    \u001b[34mdef\u001b[39;49;00m \u001b[32m__init__\u001b[39;49;00m(\u001b[36mself\u001b[39;49;00m, embedding_dim, hidden_dim, vocab_size):\r\n",
      "        \u001b[33m\"\"\"\u001b[39;49;00m\r\n",
      "\u001b[33m        Initialize the model by settingg up the various layers.\u001b[39;49;00m\r\n",
      "\u001b[33m        \"\"\"\u001b[39;49;00m\r\n",
      "        \u001b[36msuper\u001b[39;49;00m(LSTMClassifier, \u001b[36mself\u001b[39;49;00m).\u001b[32m__init__\u001b[39;49;00m()\r\n",
      "\r\n",
      "        \u001b[36mself\u001b[39;49;00m.embedding = nn.Embedding(vocab_size, embedding_dim, padding_idx=\u001b[34m0\u001b[39;49;00m)\r\n",
      "        \u001b[36mself\u001b[39;49;00m.lstm = nn.LSTM(embedding_dim, hidden_dim)\r\n",
      "        \u001b[36mself\u001b[39;49;00m.dense = nn.Linear(in_features=hidden_dim, out_features=\u001b[34m1\u001b[39;49;00m)\r\n",
      "        \u001b[36mself\u001b[39;49;00m.sig = nn.Sigmoid()\r\n",
      "        \r\n",
      "        \u001b[36mself\u001b[39;49;00m.word_dict = \u001b[34mNone\u001b[39;49;00m\r\n",
      "\r\n",
      "    \u001b[34mdef\u001b[39;49;00m \u001b[32mforward\u001b[39;49;00m(\u001b[36mself\u001b[39;49;00m, x):\r\n",
      "        \u001b[33m\"\"\"\u001b[39;49;00m\r\n",
      "\u001b[33m        Perform a forward pass of our model on some input.\u001b[39;49;00m\r\n",
      "\u001b[33m        \"\"\"\u001b[39;49;00m\r\n",
      "        x = x.t()\r\n",
      "        lengths = x[\u001b[34m0\u001b[39;49;00m,:]\r\n",
      "        reviews = x[\u001b[34m1\u001b[39;49;00m:,:]\r\n",
      "        embeds = \u001b[36mself\u001b[39;49;00m.embedding(reviews)\r\n",
      "        lstm_out, _ = \u001b[36mself\u001b[39;49;00m.lstm(embeds)\r\n",
      "        out = \u001b[36mself\u001b[39;49;00m.dense(lstm_out)\r\n",
      "        out = out[lengths - \u001b[34m1\u001b[39;49;00m, \u001b[36mrange\u001b[39;49;00m(\u001b[36mlen\u001b[39;49;00m(lengths))]\r\n",
      "        \u001b[34mreturn\u001b[39;49;00m \u001b[36mself\u001b[39;49;00m.sig(out.squeeze())\r\n"
     ]
    }
   ],
   "source": [
    "!pygmentize train/model.py"
   ]
  },
  {
   "cell_type": "markdown",
   "metadata": {},
   "source": [
    "The important takeaway from the implementation provided is that there are three parameters that we may wish to tweak to improve the performance of our model. These are the embedding dimension, the hidden dimension and the size of the vocabulary. We will likely want to make these parameters configurable in the training script so that if we wish to modify them we do not need to modify the script itself. We will see how to do this later on. To start we will write some of the training code in the notebook so that we can more easily diagnose any issues that arise.\n",
    "\n",
    "First we will load a small portion of the training data set to use as a sample. It would be very time consuming to try and train the model completely in the notebook as we do not have access to a gpu and the compute instance that we are using is not particularly powerful. However, we can work on a small bit of the data to get a feel for how our training script is behaving."
   ]
  },
  {
   "cell_type": "code",
   "execution_count": 26,
   "metadata": {},
   "outputs": [],
   "source": [
    "import torch\n",
    "import torch.utils.data\n",
    "\n",
    "# Read in only the first 250 rows\n",
    "train_sample = pd.read_csv(os.path.join(data_dir, 'train.csv'), header=None, names=None, nrows=250)\n",
    "\n",
    "# Turn the input pandas dataframe into tensors\n",
    "train_sample_y = torch.from_numpy(train_sample[[0]].values).float().squeeze()\n",
    "train_sample_X = torch.from_numpy(train_sample.drop([0], axis=1).values).long()\n",
    "\n",
    "# Build the dataset\n",
    "train_sample_ds = torch.utils.data.TensorDataset(train_sample_X, train_sample_y)\n",
    "# Build the dataloader\n",
    "train_sample_dl = torch.utils.data.DataLoader(train_sample_ds, batch_size=50)"
   ]
  },
  {
   "cell_type": "markdown",
   "metadata": {},
   "source": [
    "### (TODO) Writing the training method\n",
    "\n",
    "Next we need to write the training code itself. This should be very similar to training methods that you have written before to train PyTorch models. We will leave any difficult aspects such as model saving / loading and parameter loading until a little later."
   ]
  },
  {
   "cell_type": "code",
   "execution_count": 27,
   "metadata": {},
   "outputs": [],
   "source": [
    "# this fun we will copy it at train.py\n",
    "def train(model, train_loader, epochs, optimizer, loss_fn, device):\n",
    "    for epoch in range(1, epochs + 1):\n",
    "        model.train()\n",
    "        total_loss = 0\n",
    "        for batch in train_loader:         \n",
    "            batch_X, batch_y = batch\n",
    "            \n",
    "            batch_X = batch_X.to(device)\n",
    "            batch_y = batch_y.to(device)\n",
    "            \n",
    "            # TODO: Complete this train method to train the model provided.\n",
    "            optimizer.zero_grad()\n",
    "            # step one: Forward\n",
    "            output = model(batch_X)\n",
    "            loss = loss_fn(output, batch_y)\n",
    "            # step two : Backward\n",
    "            loss.backward()\n",
    "            optimizer.step()\n",
    "            \n",
    "            total_loss += loss.data.item()\n",
    "        print(\"Epoch: {}, BCELoss: {}\".format(epoch, total_loss / len(train_loader)))"
   ]
  },
  {
   "cell_type": "markdown",
   "metadata": {},
   "source": [
    "Supposing we have the training method above, we will test that it is working by writing a bit of code in the notebook that executes our training method on the small sample training set that we loaded earlier. The reason for doing this in the notebook is so that we have an opportunity to fix any errors that arise early when they are easier to diagnose."
   ]
  },
  {
   "cell_type": "code",
   "execution_count": 28,
   "metadata": {},
   "outputs": [
    {
     "name": "stdout",
     "output_type": "stream",
     "text": [
      "Epoch: 1, BCELoss: 0.6925756573677063\n",
      "Epoch: 2, BCELoss: 0.6843188643455506\n",
      "Epoch: 3, BCELoss: 0.6771656990051269\n",
      "Epoch: 4, BCELoss: 0.6690256714820861\n",
      "Epoch: 5, BCELoss: 0.6586431503295899\n"
     ]
    }
   ],
   "source": [
    "import torch.optim as optim\n",
    "from train.model import LSTMClassifier\n",
    "\n",
    "device = torch.device(\"cuda\" if torch.cuda.is_available() else \"cpu\")\n",
    "model = LSTMClassifier(32, 100, 5000).to(device)\n",
    "optimizer = optim.Adam(model.parameters())\n",
    "loss_fn = torch.nn.BCELoss()\n",
    "\n",
    "train(model, train_sample_dl, 5, optimizer, loss_fn, device) # change two 10 to see the diff "
   ]
  },
  {
   "cell_type": "markdown",
   "metadata": {},
   "source": [
    "In order to construct a PyTorch model using SageMaker we must provide SageMaker with a training script. We may optionally include a directory which will be copied to the container and from which our training code will be run. When the training container is executed it will check the uploaded directory (if there is one) for a `requirements.txt` file and install any required Python libraries, after which the training script will be run."
   ]
  },
  {
   "cell_type": "markdown",
   "metadata": {},
   "source": [
    "### (TODO) Training the model\n",
    "\n",
    "When a PyTorch model is constructed in SageMaker, an entry point must be specified. This is the Python file which will be executed when the model is trained. Inside of the `train` directory is a file called `train.py` which has been provided and which contains most of the necessary code to train our model. The only thing that is missing is the implementation of the `train()` method which you wrote earlier in this notebook.\n",
    "\n",
    "**TODO**: Copy the `train()` method written above and paste it into the `train/train.py` file where required.\n",
    "\n",
    "The way that SageMaker passes hyperparameters to the training script is by way of arguments. These arguments can then be parsed and used in the training script. To see how this is done take a look at the provided `train/train.py` file."
   ]
  },
  {
   "cell_type": "code",
   "execution_count": 29,
   "metadata": {},
   "outputs": [],
   "source": [
    "from sagemaker.pytorch import PyTorch\n",
    "\n",
    "estimator = PyTorch(entry_point=\"train.py\",\n",
    "                    source_dir=\"train\",\n",
    "                    role=role,\n",
    "                    framework_version='0.4.0',\n",
    "                    train_instance_count=1,\n",
    "                    train_instance_type='ml.p2.xlarge',\n",
    "                    hyperparameters={\n",
    "                        'epochs': 10,\n",
    "                        'hidden_dim': 200,\n",
    "                    })"
   ]
  },
  {
   "cell_type": "code",
   "execution_count": 30,
   "metadata": {},
   "outputs": [
    {
     "name": "stderr",
     "output_type": "stream",
     "text": [
      "'create_image_uri' will be deprecated in favor of 'ImageURIProvider' class in SageMaker Python SDK v2.\n",
      "'s3_input' class will be renamed to 'TrainingInput' in SageMaker Python SDK v2.\n",
      "'create_image_uri' will be deprecated in favor of 'ImageURIProvider' class in SageMaker Python SDK v2.\n"
     ]
    },
    {
     "name": "stdout",
     "output_type": "stream",
     "text": [
      "2021-11-07 18:37:43 Starting - Starting the training job...\n",
      "2021-11-07 18:37:52 Starting - Launching requested ML instances......\n",
      "2021-11-07 18:39:10 Starting - Preparing the instances for training............\n",
      "2021-11-07 18:41:08 Downloading - Downloading input data...\n",
      "2021-11-07 18:41:30 Training - Downloading the training image..\u001b[34mbash: cannot set terminal process group (-1): Inappropriate ioctl for device\u001b[0m\n",
      "\u001b[34mbash: no job control in this shell\u001b[0m\n",
      "\u001b[34m2021-11-07 18:41:52,984 sagemaker-containers INFO     Imported framework sagemaker_pytorch_container.training\u001b[0m\n",
      "\u001b[34m2021-11-07 18:41:53,011 sagemaker_pytorch_container.training INFO     Block until all host DNS lookups succeed.\u001b[0m\n",
      "\u001b[34m2021-11-07 18:41:53,017 sagemaker_pytorch_container.training INFO     Invoking user training script.\u001b[0m\n",
      "\u001b[34m2021-11-07 18:41:53,321 sagemaker-containers INFO     Module train does not provide a setup.py. \u001b[0m\n",
      "\u001b[34mGenerating setup.py\u001b[0m\n",
      "\u001b[34m2021-11-07 18:41:53,321 sagemaker-containers INFO     Generating setup.cfg\u001b[0m\n",
      "\u001b[34m2021-11-07 18:41:53,322 sagemaker-containers INFO     Generating MANIFEST.in\u001b[0m\n",
      "\u001b[34m2021-11-07 18:41:53,322 sagemaker-containers INFO     Installing module with the following command:\u001b[0m\n",
      "\u001b[34m/usr/bin/python -m pip install -U . -r requirements.txt\u001b[0m\n",
      "\u001b[34mProcessing /opt/ml/code\u001b[0m\n",
      "\u001b[34mCollecting pandas (from -r requirements.txt (line 1))\u001b[0m\n",
      "\u001b[34m  Downloading https://files.pythonhosted.org/packages/74/24/0cdbf8907e1e3bc5a8da03345c23cbed7044330bb8f73bb12e711a640a00/pandas-0.24.2-cp35-cp35m-manylinux1_x86_64.whl (10.0MB)\u001b[0m\n",
      "\u001b[34mCollecting numpy (from -r requirements.txt (line 2))\n",
      "  Downloading https://files.pythonhosted.org/packages/b5/36/88723426b4ff576809fec7d73594fe17a35c27f8d01f93637637a29ae25b/numpy-1.18.5-cp35-cp35m-manylinux1_x86_64.whl (19.9MB)\u001b[0m\n",
      "\u001b[34mCollecting nltk (from -r requirements.txt (line 3))\n",
      "  Downloading https://files.pythonhosted.org/packages/5e/37/9532ddd4b1bbb619333d5708aaad9bf1742f051a664c3c6fa6632a105fd8/nltk-3.6.2-py3-none-any.whl (1.5MB)\u001b[0m\n",
      "\u001b[34mCollecting beautifulsoup4 (from -r requirements.txt (line 4))\n",
      "  Downloading https://files.pythonhosted.org/packages/69/bf/f0f194d3379d3f3347478bd267f754fc68c11cbf2fe302a6ab69447b1417/beautifulsoup4-4.10.0-py3-none-any.whl (97kB)\u001b[0m\n",
      "\u001b[34mCollecting html5lib (from -r requirements.txt (line 5))\u001b[0m\n",
      "\u001b[34m  Downloading https://files.pythonhosted.org/packages/6c/dd/a834df6482147d48e225a49515aabc28974ad5a4ca3215c18a882565b028/html5lib-1.1-py2.py3-none-any.whl (112kB)\u001b[0m\n",
      "\u001b[34mRequirement already satisfied, skipping upgrade: python-dateutil>=2.5.0 in /usr/local/lib/python3.5/dist-packages (from pandas->-r requirements.txt (line 1)) (2.7.5)\u001b[0m\n",
      "\u001b[34mCollecting pytz>=2011k (from pandas->-r requirements.txt (line 1))\n",
      "  Downloading https://files.pythonhosted.org/packages/d3/e3/d9f046b5d1c94a3aeab15f1f867aa414f8ee9d196fae6865f1d6a0ee1a0b/pytz-2021.3-py2.py3-none-any.whl (503kB)\u001b[0m\n",
      "\u001b[34mCollecting regex (from nltk->-r requirements.txt (line 3))\u001b[0m\n",
      "\u001b[34m  Downloading https://files.pythonhosted.org/packages/fb/6f/c3bc1dc02343ed4baa56545f4c9ba1cdf29a5a9c9fc9bc2b0bb846246550/regex-2021.11.2.tar.gz (712kB)\u001b[0m\n",
      "\u001b[34mRequirement already satisfied, skipping upgrade: click in /usr/local/lib/python3.5/dist-packages (from nltk->-r requirements.txt (line 3)) (7.0)\u001b[0m\n",
      "\u001b[34mCollecting joblib (from nltk->-r requirements.txt (line 3))\n",
      "  Downloading https://files.pythonhosted.org/packages/28/5c/cf6a2b65a321c4a209efcdf64c2689efae2cb62661f8f6f4bb28547cf1bf/joblib-0.14.1-py2.py3-none-any.whl (294kB)\u001b[0m\n",
      "\u001b[34mCollecting tqdm (from nltk->-r requirements.txt (line 3))\n",
      "  Downloading https://files.pythonhosted.org/packages/63/f3/b7a1b8e40fd1bd049a34566eb353527bb9b8e9b98f8b6cf803bb64d8ce95/tqdm-4.62.3-py2.py3-none-any.whl (76kB)\u001b[0m\n",
      "\u001b[34mCollecting soupsieve>1.2 (from beautifulsoup4->-r requirements.txt (line 4))\n",
      "  Downloading https://files.pythonhosted.org/packages/02/fb/1c65691a9aeb7bd6ac2aa505b84cb8b49ac29c976411c6ab3659425e045f/soupsieve-2.1-py3-none-any.whl\u001b[0m\n",
      "\u001b[34mCollecting webencodings (from html5lib->-r requirements.txt (line 5))\n",
      "  Downloading https://files.pythonhosted.org/packages/f4/24/2a3e3df732393fed8b3ebf2ec078f05546de641fe1b667ee316ec1dcf3b7/webencodings-0.5.1-py2.py3-none-any.whl\u001b[0m\n",
      "\u001b[34mRequirement already satisfied, skipping upgrade: six>=1.9 in /usr/local/lib/python3.5/dist-packages (from html5lib->-r requirements.txt (line 5)) (1.11.0)\u001b[0m\n",
      "\u001b[34mBuilding wheels for collected packages: train, regex\n",
      "  Running setup.py bdist_wheel for train: started\n",
      "  Running setup.py bdist_wheel for train: finished with status 'done'\n",
      "  Stored in directory: /tmp/pip-ephem-wheel-cache-uy0puubh/wheels/35/24/16/37574d11bf9bde50616c67372a334f94fa8356bc7164af8ca3\n",
      "  Running setup.py bdist_wheel for regex: started\u001b[0m\n",
      "\n",
      "2021-11-07 18:41:52 Training - Training image download completed. Training in progress.\u001b[34m  Running setup.py bdist_wheel for regex: finished with status 'done'\n",
      "  Stored in directory: /root/.cache/pip/wheels/e5/75/26/e8168dec42f0096c90630af475047df1ad74b610b861505120\u001b[0m\n",
      "\u001b[34mSuccessfully built train regex\u001b[0m\n",
      "\u001b[34mInstalling collected packages: numpy, pytz, pandas, regex, joblib, tqdm, nltk, soupsieve, beautifulsoup4, webencodings, html5lib, train\n",
      "  Found existing installation: numpy 1.15.4\u001b[0m\n",
      "\u001b[34m    Uninstalling numpy-1.15.4:\n",
      "      Successfully uninstalled numpy-1.15.4\u001b[0m\n",
      "\u001b[34mSuccessfully installed beautifulsoup4-4.10.0 html5lib-1.1 joblib-0.14.1 nltk-3.6.2 numpy-1.18.5 pandas-0.24.2 pytz-2021.3 regex-2021.11.2 soupsieve-2.1 tqdm-4.62.3 train-1.0.0 webencodings-0.5.1\u001b[0m\n",
      "\u001b[34mYou are using pip version 18.1, however version 20.3.4 is available.\u001b[0m\n",
      "\u001b[34mYou should consider upgrading via the 'pip install --upgrade pip' command.\u001b[0m\n",
      "\u001b[34m2021-11-07 18:42:17,673 sagemaker-containers INFO     Invoking user script\n",
      "\u001b[0m\n",
      "\u001b[34mTraining Env:\n",
      "\u001b[0m\n",
      "\u001b[34m{\n",
      "    \"input_config_dir\": \"/opt/ml/input/config\",\n",
      "    \"user_entry_point\": \"train.py\",\n",
      "    \"hosts\": [\n",
      "        \"algo-1\"\n",
      "    ],\n",
      "    \"module_dir\": \"s3://sagemaker-us-east-1-409008182466/sagemaker-pytorch-2021-11-07-18-37-42-880/source/sourcedir.tar.gz\",\n",
      "    \"framework_module\": \"sagemaker_pytorch_container.training:main\",\n",
      "    \"input_dir\": \"/opt/ml/input\",\n",
      "    \"hyperparameters\": {\n",
      "        \"epochs\": 10,\n",
      "        \"hidden_dim\": 200\n",
      "    },\n",
      "    \"network_interface_name\": \"eth0\",\n",
      "    \"resource_config\": {\n",
      "        \"hosts\": [\n",
      "            \"algo-1\"\n",
      "        ],\n",
      "        \"current_host\": \"algo-1\",\n",
      "        \"network_interface_name\": \"eth0\"\n",
      "    },\n",
      "    \"additional_framework_parameters\": {},\n",
      "    \"output_intermediate_dir\": \"/opt/ml/output/intermediate\",\n",
      "    \"input_data_config\": {\n",
      "        \"training\": {\n",
      "            \"S3DistributionType\": \"FullyReplicated\",\n",
      "            \"TrainingInputMode\": \"File\",\n",
      "            \"RecordWrapperType\": \"None\"\n",
      "        }\n",
      "    },\n",
      "    \"log_level\": 20,\n",
      "    \"channel_input_dirs\": {\n",
      "        \"training\": \"/opt/ml/input/data/training\"\n",
      "    },\n",
      "    \"model_dir\": \"/opt/ml/model\",\n",
      "    \"module_name\": \"train\",\n",
      "    \"num_cpus\": 4,\n",
      "    \"current_host\": \"algo-1\",\n",
      "    \"num_gpus\": 1,\n",
      "    \"job_name\": \"sagemaker-pytorch-2021-11-07-18-37-42-880\",\n",
      "    \"output_dir\": \"/opt/ml/output\",\n",
      "    \"output_data_dir\": \"/opt/ml/output/data\"\u001b[0m\n",
      "\u001b[34m}\n",
      "\u001b[0m\n",
      "\u001b[34mEnvironment variables:\n",
      "\u001b[0m\n",
      "\u001b[34mSM_FRAMEWORK_PARAMS={}\u001b[0m\n",
      "\u001b[34mSM_INPUT_DATA_CONFIG={\"training\":{\"RecordWrapperType\":\"None\",\"S3DistributionType\":\"FullyReplicated\",\"TrainingInputMode\":\"File\"}}\u001b[0m\n",
      "\u001b[34mSM_INPUT_DIR=/opt/ml/input\u001b[0m\n",
      "\u001b[34mSM_RESOURCE_CONFIG={\"current_host\":\"algo-1\",\"hosts\":[\"algo-1\"],\"network_interface_name\":\"eth0\"}\u001b[0m\n",
      "\u001b[34mSM_OUTPUT_INTERMEDIATE_DIR=/opt/ml/output/intermediate\u001b[0m\n",
      "\u001b[34mSM_HP_HIDDEN_DIM=200\u001b[0m\n",
      "\u001b[34mSM_CURRENT_HOST=algo-1\u001b[0m\n",
      "\u001b[34mSM_TRAINING_ENV={\"additional_framework_parameters\":{},\"channel_input_dirs\":{\"training\":\"/opt/ml/input/data/training\"},\"current_host\":\"algo-1\",\"framework_module\":\"sagemaker_pytorch_container.training:main\",\"hosts\":[\"algo-1\"],\"hyperparameters\":{\"epochs\":10,\"hidden_dim\":200},\"input_config_dir\":\"/opt/ml/input/config\",\"input_data_config\":{\"training\":{\"RecordWrapperType\":\"None\",\"S3DistributionType\":\"FullyReplicated\",\"TrainingInputMode\":\"File\"}},\"input_dir\":\"/opt/ml/input\",\"job_name\":\"sagemaker-pytorch-2021-11-07-18-37-42-880\",\"log_level\":20,\"model_dir\":\"/opt/ml/model\",\"module_dir\":\"s3://sagemaker-us-east-1-409008182466/sagemaker-pytorch-2021-11-07-18-37-42-880/source/sourcedir.tar.gz\",\"module_name\":\"train\",\"network_interface_name\":\"eth0\",\"num_cpus\":4,\"num_gpus\":1,\"output_data_dir\":\"/opt/ml/output/data\",\"output_dir\":\"/opt/ml/output\",\"output_intermediate_dir\":\"/opt/ml/output/intermediate\",\"resource_config\":{\"current_host\":\"algo-1\",\"hosts\":[\"algo-1\"],\"network_interface_name\":\"eth0\"},\"user_entry_point\":\"train.py\"}\u001b[0m\n",
      "\u001b[34mSM_NUM_GPUS=1\u001b[0m\n",
      "\u001b[34mSM_HP_EPOCHS=10\u001b[0m\n",
      "\u001b[34mSM_HOSTS=[\"algo-1\"]\u001b[0m\n",
      "\u001b[34mSM_MODULE_DIR=s3://sagemaker-us-east-1-409008182466/sagemaker-pytorch-2021-11-07-18-37-42-880/source/sourcedir.tar.gz\u001b[0m\n",
      "\u001b[34mSM_OUTPUT_DIR=/opt/ml/output\u001b[0m\n",
      "\u001b[34mSM_USER_ENTRY_POINT=train.py\u001b[0m\n",
      "\u001b[34mSM_LOG_LEVEL=20\u001b[0m\n",
      "\u001b[34mSM_USER_ARGS=[\"--epochs\",\"10\",\"--hidden_dim\",\"200\"]\u001b[0m\n",
      "\u001b[34mSM_MODULE_NAME=train\u001b[0m\n",
      "\u001b[34mSM_NETWORK_INTERFACE_NAME=eth0\u001b[0m\n",
      "\u001b[34mSM_OUTPUT_DATA_DIR=/opt/ml/output/data\u001b[0m\n",
      "\u001b[34mPYTHONPATH=/usr/local/bin:/usr/lib/python35.zip:/usr/lib/python3.5:/usr/lib/python3.5/plat-x86_64-linux-gnu:/usr/lib/python3.5/lib-dynload:/usr/local/lib/python3.5/dist-packages:/usr/lib/python3/dist-packages\u001b[0m\n",
      "\u001b[34mSM_CHANNEL_TRAINING=/opt/ml/input/data/training\u001b[0m\n",
      "\u001b[34mSM_NUM_CPUS=4\u001b[0m\n",
      "\u001b[34mSM_CHANNELS=[\"training\"]\u001b[0m\n",
      "\u001b[34mSM_HPS={\"epochs\":10,\"hidden_dim\":200}\u001b[0m\n",
      "\u001b[34mSM_FRAMEWORK_MODULE=sagemaker_pytorch_container.training:main\u001b[0m\n",
      "\u001b[34mSM_MODEL_DIR=/opt/ml/model\u001b[0m\n",
      "\u001b[34mSM_INPUT_CONFIG_DIR=/opt/ml/input/config\n",
      "\u001b[0m\n",
      "\u001b[34mInvoking script with the following command:\n",
      "\u001b[0m\n",
      "\u001b[34m/usr/bin/python -m train --epochs 10 --hidden_dim 200\n",
      "\n",
      "\u001b[0m\n",
      "\u001b[34mUsing device cuda.\u001b[0m\n",
      "\u001b[34mGet train data loader.\u001b[0m\n",
      "\u001b[34mModel loaded with embedding_dim 32, hidden_dim 200, vocab_size 5000.\u001b[0m\n",
      "\u001b[34mEpoch: 1, BCELoss: 0.6653466163849344\u001b[0m\n",
      "\u001b[34mEpoch: 2, BCELoss: 0.5793632597339397\u001b[0m\n",
      "\u001b[34mEpoch: 3, BCELoss: 0.5143563187852198\u001b[0m\n",
      "\u001b[34mEpoch: 4, BCELoss: 0.4342907995593791\u001b[0m\n",
      "\u001b[34mEpoch: 5, BCELoss: 0.38607568096141426\u001b[0m\n",
      "\u001b[34mEpoch: 6, BCELoss: 0.36637311869738054\u001b[0m\n",
      "\u001b[34mEpoch: 7, BCELoss: 0.3365040470142754\u001b[0m\n",
      "\u001b[34mEpoch: 8, BCELoss: 0.31828455170806574\u001b[0m\n",
      "\u001b[34mEpoch: 9, BCELoss: 0.29141477571458235\u001b[0m\n",
      "\u001b[34mEpoch: 10, BCELoss: 0.2779208287900808\u001b[0m\n",
      "\u001b[34m2021-11-07 18:45:19,140 sagemaker-containers INFO     Reporting training SUCCESS\u001b[0m\n",
      "\n",
      "2021-11-07 18:45:29 Uploading - Uploading generated training model\n",
      "2021-11-07 18:45:29 Completed - Training job completed\n",
      "Training seconds: 261\n",
      "Billable seconds: 261\n"
     ]
    }
   ],
   "source": [
    "estimator.fit({'training': input_data})"
   ]
  },
  {
   "cell_type": "markdown",
   "metadata": {},
   "source": [
    "## Step 5: Testing the model\n",
    "\n",
    "As mentioned at the top of this notebook, we will be testing this model by first deploying it and then sending the testing data to the deployed endpoint. We will do this so that we can make sure that the deployed model is working correctly.\n",
    "\n",
    "## Step 6: Deploy the model for testing\n",
    "\n",
    "Now that we have trained our model, we would like to test it to see how it performs. Currently our model takes input of the form `review_length, review[500]` where `review[500]` is a sequence of `500` integers which describe the words present in the review, encoded using `word_dict`. Fortunately for us, SageMaker provides built-in inference code for models with simple inputs such as this.\n",
    "\n",
    "There is one thing that we need to provide, however, and that is a function which loads the saved model. This function must be called `model_fn()` and takes as its only parameter a path to the directory where the model artifacts are stored. This function must also be present in the python file which we specified as the entry point. In our case the model loading function has been provided and so no changes need to be made.\n",
    "\n",
    "**NOTE**: When the built-in inference code is run it must import the `model_fn()` method from the `train.py` file. This is why the training code is wrapped in a main guard ( ie, `if __name__ == '__main__':` )\n",
    "\n",
    "Since we don't need to change anything in the code that was uploaded during training, we can simply deploy the current model as-is.\n",
    "\n",
    "**NOTE:** When deploying a model you are asking SageMaker to launch an compute instance that will wait for data to be sent to it. As a result, this compute instance will continue to run until *you* shut it down. This is important to know since the cost of a deployed endpoint depends on how long it has been running for.\n",
    "\n",
    "In other words **If you are no longer using a deployed endpoint, shut it down!**\n",
    "\n",
    "**TODO:** Deploy the trained model."
   ]
  },
  {
   "cell_type": "code",
   "execution_count": 31,
   "metadata": {},
   "outputs": [
    {
     "name": "stderr",
     "output_type": "stream",
     "text": [
      "Parameter image will be renamed to image_uri in SageMaker Python SDK v2.\n",
      "'create_image_uri' will be deprecated in favor of 'ImageURIProvider' class in SageMaker Python SDK v2.\n"
     ]
    },
    {
     "name": "stdout",
     "output_type": "stream",
     "text": [
      "---------!"
     ]
    }
   ],
   "source": [
    "# TODO: Deploy the trained model\n",
    "\n",
    "predictor_sentiment = estimator.deploy(initial_instance_count = 1, instance_type = 'ml.m4.xlarge')\n"
   ]
  },
  {
   "cell_type": "markdown",
   "metadata": {},
   "source": [
    "## Step 7 - Use the model for testing\n",
    "\n",
    "Once deployed, we can read in the test data and send it off to our deployed model to get some results. Once we collect all of the results we can determine how accurate our model is."
   ]
  },
  {
   "cell_type": "code",
   "execution_count": 32,
   "metadata": {},
   "outputs": [],
   "source": [
    "test_X = pd.concat([pd.DataFrame(test_X_len), pd.DataFrame(test_X)], axis=1)"
   ]
  },
  {
   "cell_type": "code",
   "execution_count": 33,
   "metadata": {},
   "outputs": [],
   "source": [
    "# We split the data into chunks and send each chunk seperately, accumulating the results.\n",
    "\n",
    "def predict(data, rows=512):\n",
    "    split_array = np.array_split(data, int(data.shape[0] / float(rows) + 1))\n",
    "    predictions = np.array([])\n",
    "    for array in split_array:\n",
    "        predictions = np.append(predictions, predictor_sentiment.predict(array))\n",
    "    \n",
    "    return predictions"
   ]
  },
  {
   "cell_type": "code",
   "execution_count": 34,
   "metadata": {},
   "outputs": [],
   "source": [
    "predictions = predict(test_X.values)\n",
    "predictions = [round(num) for num in predictions]"
   ]
  },
  {
   "cell_type": "code",
   "execution_count": 35,
   "metadata": {},
   "outputs": [
    {
     "name": "stdout",
     "output_type": "stream",
     "text": [
      "predictions: [1, 0, 0, 1, 1]\n",
      "test_y [0, 0, 0, 1, 1]\n"
     ]
    },
    {
     "data": {
      "text/plain": [
       "0.85308"
      ]
     },
     "execution_count": 35,
     "metadata": {},
     "output_type": "execute_result"
    }
   ],
   "source": [
    "from sklearn.metrics import accuracy_score\n",
    "print(\"predictions:\", predictions[:5])\n",
    "print(\"test_y\", test_y[:5])\n",
    "accuracy_score(test_y, predictions)"
   ]
  },
  {
   "cell_type": "markdown",
   "metadata": {},
   "source": [
    "**Question:** How does this model compare to the XGBoost model you created earlier? Why might these two models perform differently on this dataset? Which do *you* think is better for sentiment analysis?"
   ]
  },
  {
   "cell_type": "markdown",
   "metadata": {},
   "source": [
    "**Answer:**\n",
    "\n",
    "In comparison to the XGBoost model, we have somewhat worse or similar performance. \n",
    "\n",
    "In my opinion, when it comes to speech and text processing, RNN (like this model) is preferable for sentiment analysis because it can handle large vocabulary lists."
   ]
  },
  {
   "cell_type": "markdown",
   "metadata": {},
   "source": [
    "### (TODO) More testing\n",
    "\n",
    "We now have a trained model which has been deployed and which we can send processed reviews to and which returns the predicted sentiment. However, ultimately we would like to be able to send our model an unprocessed review. That is, we would like to send the review itself as a string. For example, suppose we wish to send the following review to our model."
   ]
  },
  {
   "cell_type": "code",
   "execution_count": 36,
   "metadata": {},
   "outputs": [],
   "source": [
    "test_review = 'The simplest pleasures in life are the best, and this film is one of them. Combining a rather basic storyline of love and adventure this movie transcends the usual weekend fair with wit and unmitigated charm.'"
   ]
  },
  {
   "cell_type": "markdown",
   "metadata": {},
   "source": [
    "The question we now need to answer is, how do we send this review to our model?\n",
    "\n",
    "Recall in the first section of this notebook we did a bunch of data processing to the IMDb dataset. In particular, we did two specific things to the provided reviews.\n",
    " - Removed any html tags and stemmed the input\n",
    " - Encoded the review as a sequence of integers using `word_dict`\n",
    " \n",
    "In order process the review we will need to repeat these two steps.\n",
    "\n",
    "**TODO**: Using the `review_to_words` and `convert_and_pad` methods from section one, convert `test_review` into a numpy array `test_data` suitable to send to our model. Remember that our model expects input of the form `review_length, review[500]`. So make sure you produce two variables from processing: \n",
    "- A sequence of length 500 which represents the converted review\n",
    "- The length of the review"
   ]
  },
  {
   "cell_type": "code",
   "execution_count": 37,
   "metadata": {},
   "outputs": [
    {
     "name": "stdout",
     "output_type": "stream",
     "text": [
      "['simplest', 'pleasur', 'life', 'best', 'film', 'one', 'combin', 'rather', 'basic', 'storylin', 'love', 'adventur', 'movi', 'transcend', 'usual', 'weekend', 'fair', 'wit', 'unmitig', 'charm']\n",
      "20\n"
     ]
    },
    {
     "data": {
      "text/plain": [
       "[     0     1     2     3     4     5     6     7    8    9    ...  491  492  \\\n",
       " 0      1     1     1  1438  1224   704     1     1    0    0  ...    0    0   \n",
       " 1   1438  1224   704     1     1  1101  1209     0    0    0  ...    0    0   \n",
       " 2   1224     1  1046   704     0     0     0     0    0    0  ...    0    0   \n",
       " 3    425   704     1     1     0     0     0     0    0    0  ...    0    0   \n",
       " 4   1046     1  1224     1     0     0     0     0    0    0  ...    0    0   \n",
       " 5      1  1498   704     0     0     0     0     0    0    0  ...    0    0   \n",
       " 6    894     1     1   425     1  1498     0     0    0    0  ...    0    0   \n",
       " 7   1209     1     1  1768   704  1209     0     0    0    0  ...    0    0   \n",
       " 8    425     1     1     1   894     0     0     0    0    0  ...    0    0   \n",
       " 9      1     1     1  1209     1  1224     1  1498    0    0  ...    0    0   \n",
       " 10  1224     1  1732   704     0     0     0     0    0    0  ...    0    0   \n",
       " 11     1     1  1732   704  1498     1  1101  1209    0    0  ...    0    0   \n",
       " 12     1     1  1732     1     0     0     0     0    0    0  ...    0    0   \n",
       " 13     1  1209     1  1498     1   894   704  1498    1    0  ...    0    0   \n",
       " 14  1101     1  1101     1  1224     0     0     0    0    0  ...    0    0   \n",
       " 15  1810   704   704  1915   704  1498     1     0    0    0  ...    0    0   \n",
       " 16  1046     1     1  1209     0     0     0     0    0    0  ...    0    0   \n",
       " 17  1810     1     1     0     0     0     0     0    0    0  ...    0    0   \n",
       " 18  1101  1498     1     1     1     1  1119     0    0    0  ...    0    0   \n",
       " 19   894  1768     1  1209     1     0     0     0    0    0  ...    0    0   \n",
       " \n",
       "     493  494  495  496  497  498  499  0    \n",
       " 0     0    0    0    0    0    0    0    8  \n",
       " 1     0    0    0    0    0    0    0    7  \n",
       " 2     0    0    0    0    0    0    0    4  \n",
       " 3     0    0    0    0    0    0    0    4  \n",
       " 4     0    0    0    0    0    0    0    4  \n",
       " 5     0    0    0    0    0    0    0    3  \n",
       " 6     0    0    0    0    0    0    0    6  \n",
       " 7     0    0    0    0    0    0    0    6  \n",
       " 8     0    0    0    0    0    0    0    5  \n",
       " 9     0    0    0    0    0    0    0    8  \n",
       " 10    0    0    0    0    0    0    0    4  \n",
       " 11    0    0    0    0    0    0    0    8  \n",
       " 12    0    0    0    0    0    0    0    4  \n",
       " 13    0    0    0    0    0    0    0    9  \n",
       " 14    0    0    0    0    0    0    0    5  \n",
       " 15    0    0    0    0    0    0    0    7  \n",
       " 16    0    0    0    0    0    0    0    4  \n",
       " 17    0    0    0    0    0    0    0    3  \n",
       " 18    0    0    0    0    0    0    0    7  \n",
       " 19    0    0    0    0    0    0    0    5  \n",
       " \n",
       " [20 rows x 501 columns]]"
      ]
     },
     "execution_count": 37,
     "metadata": {},
     "output_type": "execute_result"
    }
   ],
   "source": [
    "# TODO: Convert test_review into a form usable by the model and save the results in test_data\n",
    "test_words = review_to_words(test_review)\n",
    "print(test_words)\n",
    "print(len(test_words))\n",
    "\n",
    "# convert and pad\n",
    "review, review_length = convert_and_pad_data(word_dict, test_words)\n",
    "\n",
    "test_data = [pd.concat([pd.DataFrame(review), pd.DataFrame(review_length)], axis=1)]\n",
    "test_data"
   ]
  },
  {
   "cell_type": "code",
   "execution_count": 38,
   "metadata": {},
   "outputs": [],
   "source": [
    "# TODO: Convert test_review into a form usable by the model and save the results in test_data\n",
    "test_data = None\n",
    "processed_data, processed_data_len = convert_and_pad(word_dict, review_to_words(test_review))\n",
    "test_data = [np.array(processed_data)]\n"
   ]
  },
  {
   "cell_type": "code",
   "execution_count": null,
   "metadata": {},
   "outputs": [],
   "source": []
  },
  {
   "cell_type": "markdown",
   "metadata": {},
   "source": [
    "Now that we have processed the review, we can send the resulting array to our model to predict the sentiment of the review."
   ]
  },
  {
   "cell_type": "code",
   "execution_count": 39,
   "metadata": {},
   "outputs": [
    {
     "data": {
      "text/plain": [
       "array(0.752083, dtype=float32)"
      ]
     },
     "execution_count": 39,
     "metadata": {},
     "output_type": "execute_result"
    }
   ],
   "source": [
    "predictor_sentiment.predict(test_data)"
   ]
  },
  {
   "cell_type": "markdown",
   "metadata": {},
   "source": [
    "Since the return value of our model is close to `1`, we can be certain that the review we submitted is positive."
   ]
  },
  {
   "cell_type": "markdown",
   "metadata": {},
   "source": [
    "### Delete the endpoint\n",
    "\n",
    "Of course, just like in the XGBoost notebook, once we've deployed an endpoint it continues to run until we tell it to shut down. Since we are done using our endpoint for now, we can delete it."
   ]
  },
  {
   "cell_type": "code",
   "execution_count": 40,
   "metadata": {},
   "outputs": [
    {
     "name": "stderr",
     "output_type": "stream",
     "text": [
      "estimator.delete_endpoint() will be deprecated in SageMaker Python SDK v2. Please use the delete_endpoint() function on your predictor instead.\n"
     ]
    }
   ],
   "source": [
    "estimator.delete_endpoint()"
   ]
  },
  {
   "cell_type": "markdown",
   "metadata": {},
   "source": [
    "## Step 6 (again) - Deploy the model for the web app\n",
    "\n",
    "Now that we know that our model is working, it's time to create some custom inference code so that we can send the model a review which has not been processed and have it determine the sentiment of the review.\n",
    "\n",
    "As we saw above, by default the estimator which we created, when deployed, will use the entry script and directory which we provided when creating the model. However, since we now wish to accept a string as input and our model expects a processed review, we need to write some custom inference code.\n",
    "\n",
    "We will store the code that we write in the `serve` directory. Provided in this directory is the `model.py` file that we used to construct our model, a `utils.py` file which contains the `review_to_words` and `convert_and_pad` pre-processing functions which we used during the initial data processing, and `predict.py`, the file which will contain our custom inference code. Note also that `requirements.txt` is present which will tell SageMaker what Python libraries are required by our custom inference code.\n",
    "\n",
    "When deploying a PyTorch model in SageMaker, you are expected to provide four functions which the SageMaker inference container will use.\n",
    " - `model_fn`: This function is the same function that we used in the training script and it tells SageMaker how to load our model.\n",
    " - `input_fn`: This function receives the raw serialized input that has been sent to the model's endpoint and its job is to de-serialize and make the input available for the inference code.\n",
    " - `output_fn`: This function takes the output of the inference code and its job is to serialize this output and return it to the caller of the model's endpoint.\n",
    " - `predict_fn`: The heart of the inference script, this is where the actual prediction is done and is the function which you will need to complete.\n",
    "\n",
    "For the simple website that we are constructing during this project, the `input_fn` and `output_fn` methods are relatively straightforward. We only require being able to accept a string as input and we expect to return a single value as output. You might imagine though that in a more complex application the input or output may be image data or some other binary data which would require some effort to serialize.\n",
    "\n",
    "### (TODO) Writing inference code\n",
    "\n",
    "Before writing our custom inference code, we will begin by taking a look at the code which has been provided."
   ]
  },
  {
   "cell_type": "code",
   "execution_count": 41,
   "metadata": {},
   "outputs": [
    {
     "name": "stdout",
     "output_type": "stream",
     "text": [
      "\u001b[34mimport\u001b[39;49;00m \u001b[04m\u001b[36margparse\u001b[39;49;00m\r\n",
      "\u001b[34mimport\u001b[39;49;00m \u001b[04m\u001b[36mjson\u001b[39;49;00m\r\n",
      "\u001b[34mimport\u001b[39;49;00m \u001b[04m\u001b[36mos\u001b[39;49;00m\r\n",
      "\u001b[34mimport\u001b[39;49;00m \u001b[04m\u001b[36mpickle\u001b[39;49;00m\r\n",
      "\u001b[34mimport\u001b[39;49;00m \u001b[04m\u001b[36msys\u001b[39;49;00m\r\n",
      "\u001b[34mimport\u001b[39;49;00m \u001b[04m\u001b[36msagemaker_containers\u001b[39;49;00m\r\n",
      "\u001b[34mimport\u001b[39;49;00m \u001b[04m\u001b[36mpandas\u001b[39;49;00m \u001b[34mas\u001b[39;49;00m \u001b[04m\u001b[36mpd\u001b[39;49;00m\r\n",
      "\u001b[34mimport\u001b[39;49;00m \u001b[04m\u001b[36mnumpy\u001b[39;49;00m \u001b[34mas\u001b[39;49;00m \u001b[04m\u001b[36mnp\u001b[39;49;00m\r\n",
      "\u001b[34mimport\u001b[39;49;00m \u001b[04m\u001b[36mtorch\u001b[39;49;00m\r\n",
      "\u001b[34mimport\u001b[39;49;00m \u001b[04m\u001b[36mtorch\u001b[39;49;00m\u001b[04m\u001b[36m.\u001b[39;49;00m\u001b[04m\u001b[36mnn\u001b[39;49;00m \u001b[34mas\u001b[39;49;00m \u001b[04m\u001b[36mnn\u001b[39;49;00m\r\n",
      "\u001b[34mimport\u001b[39;49;00m \u001b[04m\u001b[36mtorch\u001b[39;49;00m\u001b[04m\u001b[36m.\u001b[39;49;00m\u001b[04m\u001b[36moptim\u001b[39;49;00m \u001b[34mas\u001b[39;49;00m \u001b[04m\u001b[36moptim\u001b[39;49;00m\r\n",
      "\u001b[34mimport\u001b[39;49;00m \u001b[04m\u001b[36mtorch\u001b[39;49;00m\u001b[04m\u001b[36m.\u001b[39;49;00m\u001b[04m\u001b[36mutils\u001b[39;49;00m\u001b[04m\u001b[36m.\u001b[39;49;00m\u001b[04m\u001b[36mdata\u001b[39;49;00m\r\n",
      "\r\n",
      "\u001b[34mfrom\u001b[39;49;00m \u001b[04m\u001b[36mmodel\u001b[39;49;00m \u001b[34mimport\u001b[39;49;00m LSTMClassifier\r\n",
      "\r\n",
      "\u001b[34mfrom\u001b[39;49;00m \u001b[04m\u001b[36mutils\u001b[39;49;00m \u001b[34mimport\u001b[39;49;00m review_to_words, convert_and_pad\r\n",
      "\r\n",
      "\u001b[34mdef\u001b[39;49;00m \u001b[32mmodel_fn\u001b[39;49;00m(model_dir):\r\n",
      "    \u001b[33m\"\"\"Load the PyTorch model from the `model_dir` directory.\"\"\"\u001b[39;49;00m\r\n",
      "    \u001b[36mprint\u001b[39;49;00m(\u001b[33m\"\u001b[39;49;00m\u001b[33mLoading model.\u001b[39;49;00m\u001b[33m\"\u001b[39;49;00m)\r\n",
      "\r\n",
      "    \u001b[37m# First, load the parameters used to create the model.\u001b[39;49;00m\r\n",
      "    model_info = {}\r\n",
      "    model_info_path = os.path.join(model_dir, \u001b[33m'\u001b[39;49;00m\u001b[33mmodel_info.pth\u001b[39;49;00m\u001b[33m'\u001b[39;49;00m)\r\n",
      "    \u001b[34mwith\u001b[39;49;00m \u001b[36mopen\u001b[39;49;00m(model_info_path, \u001b[33m'\u001b[39;49;00m\u001b[33mrb\u001b[39;49;00m\u001b[33m'\u001b[39;49;00m) \u001b[34mas\u001b[39;49;00m f:\r\n",
      "        model_info = torch.load(f)\r\n",
      "\r\n",
      "    \u001b[36mprint\u001b[39;49;00m(\u001b[33m\"\u001b[39;49;00m\u001b[33mmodel_info: \u001b[39;49;00m\u001b[33m{}\u001b[39;49;00m\u001b[33m\"\u001b[39;49;00m.format(model_info))\r\n",
      "\r\n",
      "    \u001b[37m# Determine the device and construct the model.\u001b[39;49;00m\r\n",
      "    device = torch.device(\u001b[33m\"\u001b[39;49;00m\u001b[33mcuda\u001b[39;49;00m\u001b[33m\"\u001b[39;49;00m \u001b[34mif\u001b[39;49;00m torch.cuda.is_available() \u001b[34melse\u001b[39;49;00m \u001b[33m\"\u001b[39;49;00m\u001b[33mcpu\u001b[39;49;00m\u001b[33m\"\u001b[39;49;00m)\r\n",
      "    model = LSTMClassifier(model_info[\u001b[33m'\u001b[39;49;00m\u001b[33membedding_dim\u001b[39;49;00m\u001b[33m'\u001b[39;49;00m], model_info[\u001b[33m'\u001b[39;49;00m\u001b[33mhidden_dim\u001b[39;49;00m\u001b[33m'\u001b[39;49;00m], model_info[\u001b[33m'\u001b[39;49;00m\u001b[33mvocab_size\u001b[39;49;00m\u001b[33m'\u001b[39;49;00m])\r\n",
      "\r\n",
      "    \u001b[37m# Load the store model parameters.\u001b[39;49;00m\r\n",
      "    model_path = os.path.join(model_dir, \u001b[33m'\u001b[39;49;00m\u001b[33mmodel.pth\u001b[39;49;00m\u001b[33m'\u001b[39;49;00m)\r\n",
      "    \u001b[34mwith\u001b[39;49;00m \u001b[36mopen\u001b[39;49;00m(model_path, \u001b[33m'\u001b[39;49;00m\u001b[33mrb\u001b[39;49;00m\u001b[33m'\u001b[39;49;00m) \u001b[34mas\u001b[39;49;00m f:\r\n",
      "        model.load_state_dict(torch.load(f))\r\n",
      "\r\n",
      "    \u001b[37m# Load the saved word_dict.\u001b[39;49;00m\r\n",
      "    word_dict_path = os.path.join(model_dir, \u001b[33m'\u001b[39;49;00m\u001b[33mword_dict.pkl\u001b[39;49;00m\u001b[33m'\u001b[39;49;00m)\r\n",
      "    \u001b[34mwith\u001b[39;49;00m \u001b[36mopen\u001b[39;49;00m(word_dict_path, \u001b[33m'\u001b[39;49;00m\u001b[33mrb\u001b[39;49;00m\u001b[33m'\u001b[39;49;00m) \u001b[34mas\u001b[39;49;00m f:\r\n",
      "        model.word_dict = pickle.load(f)\r\n",
      "\r\n",
      "    model.to(device).eval()\r\n",
      "\r\n",
      "    \u001b[36mprint\u001b[39;49;00m(\u001b[33m\"\u001b[39;49;00m\u001b[33mDone loading model.\u001b[39;49;00m\u001b[33m\"\u001b[39;49;00m)\r\n",
      "    \u001b[34mreturn\u001b[39;49;00m model\r\n",
      "\r\n",
      "\u001b[34mdef\u001b[39;49;00m \u001b[32minput_fn\u001b[39;49;00m(serialized_input_data, content_type):\r\n",
      "    \u001b[36mprint\u001b[39;49;00m(\u001b[33m'\u001b[39;49;00m\u001b[33mDeserializing the input data.\u001b[39;49;00m\u001b[33m'\u001b[39;49;00m)\r\n",
      "    \u001b[34mif\u001b[39;49;00m content_type == \u001b[33m'\u001b[39;49;00m\u001b[33mtext/plain\u001b[39;49;00m\u001b[33m'\u001b[39;49;00m:\r\n",
      "        data = serialized_input_data.decode(\u001b[33m'\u001b[39;49;00m\u001b[33mutf-8\u001b[39;49;00m\u001b[33m'\u001b[39;49;00m)\r\n",
      "        \u001b[34mreturn\u001b[39;49;00m data\r\n",
      "    \u001b[34mraise\u001b[39;49;00m \u001b[36mException\u001b[39;49;00m(\u001b[33m'\u001b[39;49;00m\u001b[33mRequested unsupported ContentType in content_type: \u001b[39;49;00m\u001b[33m'\u001b[39;49;00m + content_type)\r\n",
      "\r\n",
      "\u001b[34mdef\u001b[39;49;00m \u001b[32moutput_fn\u001b[39;49;00m(prediction_output, accept):\r\n",
      "    \u001b[36mprint\u001b[39;49;00m(\u001b[33m'\u001b[39;49;00m\u001b[33mSerializing the generated output.\u001b[39;49;00m\u001b[33m'\u001b[39;49;00m)\r\n",
      "    \u001b[34mreturn\u001b[39;49;00m \u001b[36mstr\u001b[39;49;00m(prediction_output)\r\n",
      "\r\n",
      "\u001b[34mdef\u001b[39;49;00m \u001b[32mpredict_fn\u001b[39;49;00m(input_data, model):\r\n",
      "    \u001b[36mprint\u001b[39;49;00m(\u001b[33m'\u001b[39;49;00m\u001b[33mInferring sentiment of input data.\u001b[39;49;00m\u001b[33m'\u001b[39;49;00m)\r\n",
      "\r\n",
      "    device = torch.device(\u001b[33m\"\u001b[39;49;00m\u001b[33mcuda\u001b[39;49;00m\u001b[33m\"\u001b[39;49;00m \u001b[34mif\u001b[39;49;00m torch.cuda.is_available() \u001b[34melse\u001b[39;49;00m \u001b[33m\"\u001b[39;49;00m\u001b[33mcpu\u001b[39;49;00m\u001b[33m\"\u001b[39;49;00m)\r\n",
      "    \r\n",
      "    \u001b[34mif\u001b[39;49;00m model.word_dict \u001b[35mis\u001b[39;49;00m \u001b[34mNone\u001b[39;49;00m:\r\n",
      "        \u001b[34mraise\u001b[39;49;00m \u001b[36mException\u001b[39;49;00m(\u001b[33m'\u001b[39;49;00m\u001b[33mModel has not been loaded properly, no word_dict.\u001b[39;49;00m\u001b[33m'\u001b[39;49;00m)\r\n",
      "    \r\n",
      "    \u001b[37m# TODO: Process input_data so that it is ready to be sent to our model.\u001b[39;49;00m\r\n",
      "    \u001b[37m#       You should produce two variables:\u001b[39;49;00m\r\n",
      "    \u001b[37m#         data_X   - A sequence of length 500 which represents the converted review\u001b[39;49;00m\r\n",
      "    \u001b[37m#         data_len - The length of the review\u001b[39;49;00m\r\n",
      "\r\n",
      "    review_words = review_to_words(input_data)\r\n",
      "    data_X, data_len = convert_and_pad(model.word_dict, review_words)\r\n",
      "\r\n",
      "    \u001b[37m# Using data_X and data_len we construct an appropriate input tensor. Remember\u001b[39;49;00m\r\n",
      "    \u001b[37m# that our model expects input data of the form 'len, review[500]'.\u001b[39;49;00m\r\n",
      "    data_pack = np.hstack((data_len, data_X))\r\n",
      "    data_pack = data_pack.reshape(\u001b[34m1\u001b[39;49;00m, -\u001b[34m1\u001b[39;49;00m)\r\n",
      "    \r\n",
      "    data = torch.from_numpy(data_pack)\r\n",
      "    data = data.to(device)\r\n",
      "\r\n",
      "    \u001b[37m# Make sure to put the model into evaluation mode\u001b[39;49;00m\r\n",
      "    model.eval()\r\n",
      "\r\n",
      "    \u001b[37m# TODO: Compute the result of applying the model to the input data. The variable `result` should\u001b[39;49;00m\r\n",
      "    \u001b[37m#       be a numpy array which contains a single integer which is either 1 or 0\u001b[39;49;00m\r\n",
      "\r\n",
      "    y_hat = model(data).detach().cpu().numpy()\r\n",
      "    result = np.round(y_hat).astype(np.int)\r\n",
      "    \r\n",
      "    \u001b[34mreturn\u001b[39;49;00m result\r\n"
     ]
    }
   ],
   "source": [
    "!pygmentize serve/predict.py"
   ]
  },
  {
   "cell_type": "markdown",
   "metadata": {},
   "source": [
    "As mentioned earlier, the `model_fn` method is the same as the one provided in the training code and the `input_fn` and `output_fn` methods are very simple and your task will be to complete the `predict_fn` method. \n",
    "\n",
    "**Note**: Our model expects input data of the form 'len, review[500]'. So make sure you produce two variables from processing: \n",
    "- `data_X`:  A sequence of length 500 which represents the converted review\n",
    "- `data_len`: - The length of the review\n",
    "\n",
    "Make sure that you save the completed file as `predict.py` in the `serve` directory.\n",
    "\n",
    "**TODO**: Complete the `predict_fn()` method in the `serve/predict.py` file."
   ]
  },
  {
   "cell_type": "markdown",
   "metadata": {},
   "source": [
    "### Deploying the model\n",
    "\n",
    "Now that the custom inference code has been written, we will create and deploy our model. To begin with, we need to construct a new PyTorchModel object which points to the model artifacts created during training and also points to the inference code that we wish to use. Then we can call the deploy method to launch the deployment container.\n",
    "\n",
    "**NOTE**: The default behaviour for a deployed PyTorch model is to assume that any input passed to the predictor is a `numpy` array. In our case we want to send a string so we need to construct a simple wrapper around the `RealTimePredictor` class to accomodate simple strings. In a more complicated situation you may want to provide a serialization object, for example if you wanted to sent image data."
   ]
  },
  {
   "cell_type": "code",
   "execution_count": 42,
   "metadata": {},
   "outputs": [
    {
     "name": "stderr",
     "output_type": "stream",
     "text": [
      "Parameter image will be renamed to image_uri in SageMaker Python SDK v2.\n",
      "'create_image_uri' will be deprecated in favor of 'ImageURIProvider' class in SageMaker Python SDK v2.\n"
     ]
    },
    {
     "name": "stdout",
     "output_type": "stream",
     "text": [
      "----------!"
     ]
    }
   ],
   "source": [
    "from sagemaker.predictor import RealTimePredictor\n",
    "from sagemaker.pytorch import PyTorchModel\n",
    "\n",
    "class StringPredictor(RealTimePredictor):\n",
    "    def __init__(self, endpoint_name, sagemaker_session):\n",
    "        super(StringPredictor, self).__init__(endpoint_name, sagemaker_session, content_type='text/plain')\n",
    "\n",
    "model = PyTorchModel(model_data=estimator.model_data,\n",
    "                     role = role,\n",
    "                     framework_version='0.4.0',\n",
    "                     entry_point='predict.py',\n",
    "                     source_dir='serve',\n",
    "                     predictor_cls=StringPredictor)\n",
    "predictor = model.deploy(initial_instance_count=1, instance_type='ml.m4.xlarge')"
   ]
  },
  {
   "cell_type": "markdown",
   "metadata": {},
   "source": [
    "### Testing the model\n",
    "\n",
    "Now that we have deployed our model with the custom inference code, we should test to see if everything is working. Here we test our model by loading the first `250` positive and negative reviews and send them to the endpoint, then collect the results. The reason for only sending some of the data is that the amount of time it takes for our model to process the input and then perform inference is quite long and so testing the entire data set would be prohibitive."
   ]
  },
  {
   "cell_type": "code",
   "execution_count": 43,
   "metadata": {},
   "outputs": [],
   "source": [
    "import glob\n",
    "\n",
    "def test_reviews(data_dir='../data/aclImdb', stop=250):\n",
    "    \n",
    "    results = []\n",
    "    ground = []\n",
    "    \n",
    "    # We make sure to test both positive and negative reviews    \n",
    "    for sentiment in ['pos', 'neg']:\n",
    "        \n",
    "        path = os.path.join(data_dir, 'test', sentiment, '*.txt')\n",
    "        files = glob.glob(path)\n",
    "        \n",
    "        files_read = 0\n",
    "        \n",
    "        print('Starting ', sentiment, ' files')\n",
    "        \n",
    "        # Iterate through the files and send them to the predictor\n",
    "        for f in files:\n",
    "            with open(f) as review:\n",
    "                # First, we store the ground truth (was the review positive or negative)\n",
    "                if sentiment == 'pos':\n",
    "                    ground.append(1)\n",
    "                else:\n",
    "                    ground.append(0)\n",
    "                # Read in the review and convert to 'utf-8' for transmission via HTTP\n",
    "                review_input = review.read().encode('utf-8')\n",
    "                # Send the review to the predictor and store the results\n",
    "                results.append(float(predictor.predict(review_input)))\n",
    "                \n",
    "            # Sending reviews to our endpoint one at a time takes a while so we\n",
    "            # only send a small number of reviews\n",
    "            files_read += 1\n",
    "            if files_read == stop:\n",
    "                break\n",
    "            \n",
    "    return ground, results"
   ]
  },
  {
   "cell_type": "code",
   "execution_count": 44,
   "metadata": {},
   "outputs": [
    {
     "name": "stdout",
     "output_type": "stream",
     "text": [
      "Starting  pos  files\n",
      "Starting  neg  files\n"
     ]
    }
   ],
   "source": [
    "ground, results = test_reviews()"
   ]
  },
  {
   "cell_type": "code",
   "execution_count": 45,
   "metadata": {},
   "outputs": [
    {
     "data": {
      "text/plain": [
       "0.87"
      ]
     },
     "execution_count": 45,
     "metadata": {},
     "output_type": "execute_result"
    }
   ],
   "source": [
    "from sklearn.metrics import accuracy_score\n",
    "accuracy_score(ground, results)"
   ]
  },
  {
   "cell_type": "markdown",
   "metadata": {},
   "source": [
    "As an additional test, we can try sending the `test_review` that we looked at earlier."
   ]
  },
  {
   "cell_type": "code",
   "execution_count": 46,
   "metadata": {},
   "outputs": [
    {
     "data": {
      "text/plain": [
       "b'1'"
      ]
     },
     "execution_count": 46,
     "metadata": {},
     "output_type": "execute_result"
    }
   ],
   "source": [
    "predictor.predict(test_review)"
   ]
  },
  {
   "cell_type": "markdown",
   "metadata": {},
   "source": [
    "Now that we know our endpoint is working as expected, we can set up the web page that will interact with it. If you don't have time to finish the project now, make sure to skip down to the end of this notebook and shut down your endpoint. You can deploy it again when you come back."
   ]
  },
  {
   "cell_type": "markdown",
   "metadata": {},
   "source": [
    "## Step 7 (again): Use the model for the web app\n",
    "\n",
    "> **TODO:** This entire section and the next contain tasks for you to complete, mostly using the AWS console.\n",
    "\n",
    "So far we have been accessing our model endpoint by constructing a predictor object which uses the endpoint and then just using the predictor object to perform inference. What if we wanted to create a web app which accessed our model? The way things are set up currently makes that not possible since in order to access a SageMaker endpoint the app would first have to authenticate with AWS using an IAM role which included access to SageMaker endpoints. However, there is an easier way! We just need to use some additional AWS services.\n",
    "\n",
    "<img src=\"Web App Diagram.svg\">\n",
    "\n",
    "The diagram above gives an overview of how the various services will work together. On the far right is the model which we trained above and which is deployed using SageMaker. On the far left is our web app that collects a user's movie review, sends it off and expects a positive or negative sentiment in return.\n",
    "\n",
    "In the middle is where some of the magic happens. We will construct a Lambda function, which you can think of as a straightforward Python function that can be executed whenever a specified event occurs. We will give this function permission to send and recieve data from a SageMaker endpoint.\n",
    "\n",
    "Lastly, the method we will use to execute the Lambda function is a new endpoint that we will create using API Gateway. This endpoint will be a url that listens for data to be sent to it. Once it gets some data it will pass that data on to the Lambda function and then return whatever the Lambda function returns. Essentially it will act as an interface that lets our web app communicate with the Lambda function.\n",
    "\n",
    "### Setting up a Lambda function\n",
    "\n",
    "The first thing we are going to do is set up a Lambda function. This Lambda function will be executed whenever our public API has data sent to it. When it is executed it will receive the data, perform any sort of processing that is required, send the data (the review) to the SageMaker endpoint we've created and then return the result.\n",
    "\n",
    "#### Part A: Create an IAM Role for the Lambda function\n",
    "\n",
    "Since we want the Lambda function to call a SageMaker endpoint, we need to make sure that it has permission to do so. To do this, we will construct a role that we can later give the Lambda function.\n",
    "\n",
    "Using the AWS Console, navigate to the **IAM** page and click on **Roles**. Then, click on **Create role**. Make sure that the **AWS service** is the type of trusted entity selected and choose **Lambda** as the service that will use this role, then click **Next: Permissions**.\n",
    "\n",
    "In the search box type `sagemaker` and select the check box next to the **AmazonSageMakerFullAccess** policy. Then, click on **Next: Review**.\n",
    "\n",
    "Lastly, give this role a name. Make sure you use a name that you will remember later on, for example `LambdaSageMakerRole`. Then, click on **Create role**.\n",
    "\n",
    "#### Part B: Create a Lambda function\n",
    "\n",
    "Now it is time to actually create the Lambda function.\n",
    "\n",
    "Using the AWS Console, navigate to the AWS Lambda page and click on **Create a function**. When you get to the next page, make sure that **Author from scratch** is selected. Now, name your Lambda function, using a name that you will remember later on, for example `sentiment_analysis_func`. Make sure that the **Python 3.6** runtime is selected and then choose the role that you created in the previous part. Then, click on **Create Function**.\n",
    "\n",
    "On the next page you will see some information about the Lambda function you've just created. If you scroll down you should see an editor in which you can write the code that will be executed when your Lambda function is triggered. In our example, we will use the code below. \n",
    "\n",
    "```python\n",
    "# We need to use the low-level library to interact with SageMaker since the SageMaker API\n",
    "# is not available natively through Lambda.\n",
    "import boto3\n",
    "\n",
    "def lambda_handler(event, context):\n",
    "\n",
    "    # The SageMaker runtime is what allows us to invoke the endpoint that we've created.\n",
    "    runtime = boto3.Session().client('sagemaker-runtime')\n",
    "\n",
    "    # Now we use the SageMaker runtime to invoke our endpoint, sending the review we were given\n",
    "    response = runtime.invoke_endpoint(EndpointName = '**ENDPOINT NAME HERE**',    # The name of the endpoint we created\n",
    "                                       ContentType = 'text/plain',                 # The data format that is expected\n",
    "                                       Body = event['body'])                       # The actual review\n",
    "\n",
    "    # The response is an HTTP response whose body contains the result of our inference\n",
    "    result = response['Body'].read().decode('utf-8')\n",
    "\n",
    "    return {\n",
    "        'statusCode' : 200,\n",
    "        'headers' : { 'Content-Type' : 'text/plain', 'Access-Control-Allow-Origin' : '*' },\n",
    "        'body' : result\n",
    "    }\n",
    "```\n",
    "\n",
    "Once you have copy and pasted the code above into the Lambda code editor, replace the `**ENDPOINT NAME HERE**` portion with the name of the endpoint that we deployed earlier. You can determine the name of the endpoint using the code cell below."
   ]
  },
  {
   "cell_type": "code",
   "execution_count": 47,
   "metadata": {},
   "outputs": [
    {
     "data": {
      "text/plain": [
       "'sagemaker-pytorch-2021-11-07-18-55-06-013'"
      ]
     },
     "execution_count": 47,
     "metadata": {},
     "output_type": "execute_result"
    }
   ],
   "source": [
    "predictor.endpoint"
   ]
  },
  {
   "cell_type": "markdown",
   "metadata": {},
   "source": [
    "Once you have added the endpoint name to the Lambda function, click on **Save**. Your Lambda function is now up and running. Next we need to create a way for our web app to execute the Lambda function.\n",
    "\n",
    "### Setting up API Gateway\n",
    "\n",
    "Now that our Lambda function is set up, it is time to create a new API using API Gateway that will trigger the Lambda function we have just created.\n",
    "\n",
    "Using AWS Console, navigate to **Amazon API Gateway** and then click on **Get started**.\n",
    "\n",
    "On the next page, make sure that **New API** is selected and give the new api a name, for example, `sentiment_analysis_api`. Then, click on **Create API**.\n",
    "\n",
    "Now we have created an API, however it doesn't currently do anything. What we want it to do is to trigger the Lambda function that we created earlier.\n",
    "\n",
    "Select the **Actions** dropdown menu and click **Create Method**. A new blank method will be created, select its dropdown menu and select **POST**, then click on the check mark beside it.\n",
    "\n",
    "For the integration point, make sure that **Lambda Function** is selected and click on the **Use Lambda Proxy integration**. This option makes sure that the data that is sent to the API is then sent directly to the Lambda function with no processing. It also means that the return value must be a proper response object as it will also not be processed by API Gateway.\n",
    "\n",
    "Type the name of the Lambda function you created earlier into the **Lambda Function** text entry box and then click on **Save**. Click on **OK** in the pop-up box that then appears, giving permission to API Gateway to invoke the Lambda function you created.\n",
    "\n",
    "The last step in creating the API Gateway is to select the **Actions** dropdown and click on **Deploy API**. You will need to create a new Deployment stage and name it anything you like, for example `prod`.\n",
    "\n",
    "You have now successfully set up a public API to access your SageMaker model. Make sure to copy or write down the URL provided to invoke your newly created public API as this will be needed in the next step. This URL can be found at the top of the page, highlighted in blue next to the text **Invoke URL**."
   ]
  },
  {
   "cell_type": "markdown",
   "metadata": {},
   "source": [
    "## Step 4: Deploying our web app\n",
    "\n",
    "Now that we have a publicly available API, we can start using it in a web app. For our purposes, we have provided a simple static html file which can make use of the public api you created earlier.\n",
    "\n",
    "In the `website` folder there should be a file called `index.html`. Download the file to your computer and open that file up in a text editor of your choice. There should be a line which contains **\\*\\*REPLACE WITH PUBLIC API URL\\*\\***. Replace this string with the url that you wrote down in the last step and then save the file.\n",
    "\n",
    "Now, if you open `index.html` on your local computer, your browser will behave as a local web server and you can use the provided site to interact with your SageMaker model.\n",
    "\n",
    "If you'd like to go further, you can host this html file anywhere you'd like, for example using github or hosting a static site on Amazon's S3. Once you have done this you can share the link with anyone you'd like and have them play with it too!\n",
    "\n",
    "> **Important Note** In order for the web app to communicate with the SageMaker endpoint, the endpoint has to actually be deployed and running. This means that you are paying for it. Make sure that the endpoint is running when you want to use the web app but that you shut it down when you don't need it, otherwise you will end up with a surprisingly large AWS bill.\n",
    "\n",
    "**TODO:** Make sure that you include the edited `index.html` file in your project submission."
   ]
  },
  {
   "cell_type": "markdown",
   "metadata": {},
   "source": [
    "Now that your web app is working, trying playing around with it and see how well it works.\n",
    "\n",
    "**Question**: Post a screenshot showing a sample review that you entered into your web app and the predicted sentiment. What was the predicted sentiment of your example review?"
   ]
  },
  {
   "cell_type": "markdown",
   "metadata": {},
   "source": [
    "**Screenshot:**\n",
    "\n",
    "\n",
    "\n",
    "**Answer:**"
   ]
  },
  {
   "cell_type": "markdown",
   "metadata": {},
   "source": [
    "<img src='pos.png'/>"
   ]
  },
  {
   "cell_type": "markdown",
   "metadata": {},
   "source": [
    "<img src='niq.png'  />"
   ]
  },
  {
   "cell_type": "markdown",
   "metadata": {},
   "source": [
    "### Delete the endpoint\n",
    "\n",
    "Remember to always shut down your endpoint if you are no longer using it. You are charged for the length of time that the endpoint is running so if you forget and leave it on you could end up with an unexpectedly large bill."
   ]
  },
  {
   "cell_type": "code",
   "execution_count": 81,
   "metadata": {},
   "outputs": [],
   "source": [
    "predictor.delete_endpoint()"
   ]
  },
  {
   "cell_type": "code",
   "execution_count": null,
   "metadata": {},
   "outputs": [],
   "source": []
  }
 ],
 "metadata": {
  "kernelspec": {
   "display_name": "conda_pytorch_p36",
   "language": "python",
   "name": "conda_pytorch_p36"
  },
  "language_info": {
   "codemirror_mode": {
    "name": "ipython",
    "version": 3
   },
   "file_extension": ".py",
   "mimetype": "text/x-python",
   "name": "python",
   "nbconvert_exporter": "python",
   "pygments_lexer": "ipython3",
   "version": "3.6.13"
  }
 },
 "nbformat": 4,
 "nbformat_minor": 4
}
